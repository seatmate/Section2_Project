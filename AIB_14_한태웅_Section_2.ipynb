{
  "nbformat": 4,
  "nbformat_minor": 0,
  "metadata": {
    "colab": {
      "name": "AIB_14_한태웅.Section2_Project.ipynb",
      "provenance": [],
      "collapsed_sections": []
    },
    "kernelspec": {
      "name": "python3",
      "display_name": "Python 3"
    },
    "language_info": {
      "name": "python"
    }
  },
  "cells": [
    {
      "cell_type": "code",
      "execution_count": 1,
      "metadata": {
        "id": "7JXEZ_rog-Kx"
      },
      "outputs": [],
      "source": [
        "import pandas as pd\n",
        "import numpy as np\n",
        "import matplotlib.pyplot as plt"
      ]
    },
    {
      "cell_type": "code",
      "source": [
        "import seaborn as sns\n",
        "%matplotlib inline\n",
        "import matplotlib.image as mpimg\n",
        "import math\n",
        "import plotly.express as px\n",
        "import plotly.graph_objects as go\n",
        "\n",
        "from matplotlib.offsetbox import (TextArea, DrawingArea, OffsetImage,\n",
        "                                  AnnotationBbox)\n",
        "from plotly.colors import n_colors\n",
        "from plotly.subplots import make_subplots\n",
        "from IPython.display import Image"
      ],
      "metadata": {
        "id": "J1-RuhlIhLY7"
      },
      "execution_count": 2,
      "outputs": []
    },
    {
      "cell_type": "code",
      "source": [
        "pip install colorama"
      ],
      "metadata": {
        "id": "z2uJK-qehMlS"
      },
      "execution_count": null,
      "outputs": []
    },
    {
      "cell_type": "code",
      "source": [
        "from colorama import Fore, Back, Style\n",
        "y_ = Fore.YELLOW\n",
        "r_ = Fore.RED\n",
        "g_ = Fore.GREEN\n",
        "b_ = Fore.BLUE\n",
        "m_ = Fore.MAGENTA\n",
        "sr_ = Style.RESET_ALL"
      ],
      "metadata": {
        "id": "9WCK8_TIhQcj"
      },
      "execution_count": 4,
      "outputs": []
    },
    {
      "cell_type": "code",
      "source": [
        "from google.colab import files\n",
        "uploaded = files.upload()"
      ],
      "metadata": {
        "colab": {
          "resources": {
            "http://localhost:8080/nbextensions/google.colab/files.js": {
              "data": "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",
              "ok": true,
              "headers": [
                [
                  "content-type",
                  "application/javascript"
                ]
              ],
              "status": 200,
              "status_text": ""
            }
          },
          "base_uri": "https://localhost:8080/",
          "height": 130
        },
        "id": "15zbGYORmijq",
        "outputId": "3958e546-097b-4ea4-9b7f-7aff87670387"
      },
      "execution_count": 5,
      "outputs": [
        {
          "output_type": "display_data",
          "data": {
            "text/plain": [
              "<IPython.core.display.HTML object>"
            ],
            "text/html": [
              "\n",
              "     <input type=\"file\" id=\"files-c0624ed5-c61a-4921-94d8-790a73536b43\" name=\"files[]\" multiple disabled\n",
              "        style=\"border:none\" />\n",
              "     <output id=\"result-c0624ed5-c61a-4921-94d8-790a73536b43\">\n",
              "      Upload widget is only available when the cell has been executed in the\n",
              "      current browser session. Please rerun this cell to enable.\n",
              "      </output>\n",
              "      <script src=\"/nbextensions/google.colab/files.js\"></script> "
            ]
          },
          "metadata": {}
        },
        {
          "output_type": "stream",
          "name": "stdout",
          "text": [
            "Saving MoviesOnStreamingPlatforms_updated.csv to MoviesOnStreamingPlatforms_updated.csv\n",
            "Saving tv_shows.csv to tv_shows.csv\n"
          ]
        }
      ]
    },
    {
      "cell_type": "code",
      "source": [
        "### Custom Colors ###"
      ],
      "metadata": {
        "id": "WEBh6RX5h1LW"
      },
      "execution_count": null,
      "outputs": []
    },
    {
      "cell_type": "code",
      "source": [
        "custom_colors = [\"#ff6b6b\",\"#95d5b2\",\"#a2d2ff\",\"#72efdd\"]\n",
        "customPalette = sns.set_palette(sns.color_palette(custom_colors))"
      ],
      "metadata": {
        "id": "5RXuTe75hfMz"
      },
      "execution_count": 6,
      "outputs": []
    },
    {
      "cell_type": "code",
      "source": [
        "sns.palplot(sns.color_palette(custom_colors),size=1)"
      ],
      "metadata": {
        "colab": {
          "base_uri": "https://localhost:8080/",
          "height": 89
        },
        "id": "TuWxre_WhhtM",
        "outputId": "845e3dbd-2d1e-488d-f336-88bd44751329"
      },
      "execution_count": 7,
      "outputs": [
        {
          "output_type": "display_data",
          "data": {
            "text/plain": [
              "<Figure size 288x72 with 1 Axes>"
            ],
            "image/png": "[encoded data removed]"
          },
          "metadata": {
            "needs_background": "light"
          }
        }
      ]
    },
    {
      "cell_type": "code",
      "source": [
        "# Netflix"
      ],
      "metadata": {
        "id": "FVyVnMlWh3Wu"
      },
      "execution_count": null,
      "outputs": []
    },
    {
      "cell_type": "code",
      "source": [
        "netflix_p = sns.light_palette(custom_colors[0], reverse=True)\n",
        "sns.palplot(sns.color_palette(netflix_p),size=1)"
      ],
      "metadata": {
        "colab": {
          "base_uri": "https://localhost:8080/",
          "height": 89
        },
        "id": "h6TAimBRhkZ7",
        "outputId": "a79bc2e7-68a3-444d-95a1-731f4aa6850d"
      },
      "execution_count": 8,
      "outputs": [
        {
          "output_type": "display_data",
          "data": {
            "text/plain": [
              "<Figure size 432x72 with 1 Axes>"
            ],
            "image/png": "[encoded data removed]"
          },
          "metadata": {
            "needs_background": "light"
          }
        }
      ]
    },
    {
      "cell_type": "code",
      "source": [
        "# Hulu"
      ],
      "metadata": {
        "id": "7bEOT7Dxh4zW"
      },
      "execution_count": null,
      "outputs": []
    },
    {
      "cell_type": "code",
      "source": [
        "hulu_p = sns.light_palette(custom_colors[1], reverse=True)\n",
        "sns.palplot(sns.color_palette(hulu_p),size=1)"
      ],
      "metadata": {
        "colab": {
          "base_uri": "https://localhost:8080/",
          "height": 89
        },
        "id": "e_0KFQTqhnTz",
        "outputId": "deaecf52-16da-404b-ba36-8fde18199976"
      },
      "execution_count": 9,
      "outputs": [
        {
          "output_type": "display_data",
          "data": {
            "text/plain": [
              "<Figure size 432x72 with 1 Axes>"
            ],
            "image/png": "[encoded data removed]"
          },
          "metadata": {
            "needs_background": "light"
          }
        }
      ]
    },
    {
      "cell_type": "code",
      "source": [
        "# Amazon_Prime_Video"
      ],
      "metadata": {
        "id": "sjTb006lh63K"
      },
      "execution_count": null,
      "outputs": []
    },
    {
      "cell_type": "code",
      "source": [
        "prime_p = sns.light_palette(custom_colors[2], reverse=True)\n",
        "sns.palplot(sns.color_palette(prime_p),size=1)"
      ],
      "metadata": {
        "colab": {
          "base_uri": "https://localhost:8080/",
          "height": 89
        },
        "id": "yFjrkGVthoi-",
        "outputId": "b7d6e42c-2280-49c0-e990-fe5851c31828"
      },
      "execution_count": 10,
      "outputs": [
        {
          "output_type": "display_data",
          "data": {
            "text/plain": [
              "<Figure size 432x72 with 1 Axes>"
            ],
            "image/png": "[encoded data removed]"
          },
          "metadata": {
            "needs_background": "light"
          }
        }
      ]
    },
    {
      "cell_type": "code",
      "source": [
        "# Disney+"
      ],
      "metadata": {
        "id": "gonf4MHfh_8a"
      },
      "execution_count": null,
      "outputs": []
    },
    {
      "cell_type": "code",
      "source": [
        "disney_p = sns.dark_palette(custom_colors[3], reverse=True)\n",
        "sns.palplot(sns.color_palette(disney_p),size=1)"
      ],
      "metadata": {
        "colab": {
          "base_uri": "https://localhost:8080/",
          "height": 89
        },
        "id": "YjPU81R5hqZO",
        "outputId": "7a4be603-ddc5-4e00-ac56-f57ca0204394"
      },
      "execution_count": 11,
      "outputs": [
        {
          "output_type": "display_data",
          "data": {
            "text/plain": [
              "<Figure size 432x72 with 1 Axes>"
            ],
            "image/png": "[encoded data removed]"
          },
          "metadata": {
            "needs_background": "light"
          }
        }
      ]
    },
    {
      "cell_type": "code",
      "source": [
        "df_movie = pd.read_csv('MoviesOnStreamingPlatforms_updated.csv')\n",
        "df_tv = pd.read_csv('tv_shows.csv')"
      ],
      "metadata": {
        "id": "sz1UN3Huhr2u"
      },
      "execution_count": 12,
      "outputs": []
    },
    {
      "cell_type": "code",
      "source": [
        "df_movie.head(3)"
      ],
      "metadata": {
        "colab": {
          "base_uri": "https://localhost:8080/",
          "height": 312
        },
        "id": "un8M-tEPhtG9",
        "outputId": "01c94154-5b02-4683-c0e4-345851d0959f"
      },
      "execution_count": 13,
      "outputs": [
        {
          "output_type": "execute_result",
          "data": {
            "text/plain": [
              "   Unnamed: 0  ID                                     Title  Year  Age  \\\n",
              "0           0   1                              The Irishman  2019  18+   \n",
              "1           1   2                                    Dangal  2016   7+   \n",
              "2           2   3  David Attenborough: A Life on Our Planet  2020   7+   \n",
              "\n",
              "     IMDb Rotten Tomatoes  Netflix  Hulu  Prime Video  Disney+  Type  \\\n",
              "0  7.8/10          98/100        1     0            0        0     0   \n",
              "1  8.4/10          97/100        1     0            0        0     0   \n",
              "2  9.0/10          95/100        1     0            0        0     0   \n",
              "\n",
              "                                           Directors  \\\n",
              "0                                    Martin Scorsese   \n",
              "1                                      Nitesh Tiwari   \n",
              "2  Alastair Fothergill,Jonathan Hughes,Keith Scholey   \n",
              "\n",
              "                         Genres  \\\n",
              "0         Biography,Crime,Drama   \n",
              "1  Action,Biography,Drama,Sport   \n",
              "2         Documentary,Biography   \n",
              "\n",
              "                                             Country  \\\n",
              "0                                      United States   \n",
              "1  India,United States,United Kingdom,Australia,K...   \n",
              "2                                     United Kingdom   \n",
              "\n",
              "                               Language  Runtime  \n",
              "0  English,Italian,Latin,Spanish,German    209.0  \n",
              "1                         Hindi,English    161.0  \n",
              "2                               English     83.0  "
            ],
            "text/html": [
              "\n",
              "  <div id=\"df-21df8f94-c8a5-4226-8ca9-3257e05c6552\">\n",
              "    <div class=\"colab-df-container\">\n",
              "      <div>\n",
              "<style scoped>\n",
              "    .dataframe tbody tr th:only-of-type {\n",
              "        vertical-align: middle;\n",
              "    }\n",
              "\n",
              "    .dataframe tbody tr th {\n",
              "        vertical-align: top;\n",
              "    }\n",
              "\n",
              "    .dataframe thead th {\n",
              "        text-align: right;\n",
              "    }\n",
              "</style>\n",
              "<table border=\"1\" class=\"dataframe\">\n",
              "  <thead>\n",
              "    <tr style=\"text-align: right;\">\n",
              "      <th></th>\n",
              "      <th>Unnamed: 0</th>\n",
              "      <th>ID</th>\n",
              "      <th>Title</th>\n",
              "      <th>Year</th>\n",
              "      <th>Age</th>\n",
              "      <th>IMDb</th>\n",
              "      <th>Rotten Tomatoes</th>\n",
              "      <th>Netflix</th>\n",
              "      <th>Hulu</th>\n",
              "      <th>Prime Video</th>\n",
              "      <th>Disney+</th>\n",
              "      <th>Type</th>\n",
              "      <th>Directors</th>\n",
              "      <th>Genres</th>\n",
              "      <th>Country</th>\n",
              "      <th>Language</th>\n",
              "      <th>Runtime</th>\n",
              "    </tr>\n",
              "  </thead>\n",
              "  <tbody>\n",
              "    <tr>\n",
              "      <th>0</th>\n",
              "      <td>0</td>\n",
              "      <td>1</td>\n",
              "      <td>The Irishman</td>\n",
              "      <td>2019</td>\n",
              "      <td>18+</td>\n",
              "      <td>7.8/10</td>\n",
              "      <td>98/100</td>\n",
              "      <td>1</td>\n",
              "      <td>0</td>\n",
              "      <td>0</td>\n",
              "      <td>0</td>\n",
              "      <td>0</td>\n",
              "      <td>Martin Scorsese</td>\n",
              "      <td>Biography,Crime,Drama</td>\n",
              "      <td>United States</td>\n",
              "      <td>English,Italian,Latin,Spanish,German</td>\n",
              "      <td>209.0</td>\n",
              "    </tr>\n",
              "    <tr>\n",
              "      <th>1</th>\n",
              "      <td>1</td>\n",
              "      <td>2</td>\n",
              "      <td>Dangal</td>\n",
              "      <td>2016</td>\n",
              "      <td>7+</td>\n",
              "      <td>8.4/10</td>\n",
              "      <td>97/100</td>\n",
              "      <td>1</td>\n",
              "      <td>0</td>\n",
              "      <td>0</td>\n",
              "      <td>0</td>\n",
              "      <td>0</td>\n",
              "      <td>Nitesh Tiwari</td>\n",
              "      <td>Action,Biography,Drama,Sport</td>\n",
              "      <td>India,United States,United Kingdom,Australia,K...</td>\n",
              "      <td>Hindi,English</td>\n",
              "      <td>161.0</td>\n",
              "    </tr>\n",
              "    <tr>\n",
              "      <th>2</th>\n",
              "      <td>2</td>\n",
              "      <td>3</td>\n",
              "      <td>David Attenborough: A Life on Our Planet</td>\n",
              "      <td>2020</td>\n",
              "      <td>7+</td>\n",
              "      <td>9.0/10</td>\n",
              "      <td>95/100</td>\n",
              "      <td>1</td>\n",
              "      <td>0</td>\n",
              "      <td>0</td>\n",
              "      <td>0</td>\n",
              "      <td>0</td>\n",
              "      <td>Alastair Fothergill,Jonathan Hughes,Keith Scholey</td>\n",
              "      <td>Documentary,Biography</td>\n",
              "      <td>United Kingdom</td>\n",
              "      <td>English</td>\n",
              "      <td>83.0</td>\n",
              "    </tr>\n",
              "  </tbody>\n",
              "</table>\n",
              "</div>\n",
              "      <button class=\"colab-df-convert\" onclick=\"convertToInteractive('df-21df8f94-c8a5-4226-8ca9-3257e05c6552')\"\n",
              "              title=\"Convert this dataframe to an interactive table.\"\n",
              "              style=\"display:none;\">\n",
              "        \n",
              "  <svg xmlns=\"http://www.w3.org/2000/svg\" height=\"24px\"viewBox=\"0 0 24 24\"\n",
              "       width=\"24px\">\n",
              "    <path d=\"M0 0h24v24H0V0z\" fill=\"none\"/>\n",
              "    <path d=\"M18.56 5.44l.94 2.06.94-2.06 2.06-.94-2.06-.94-.94-2.06-.94 2.06-2.06.94zm-11 1L8.5 8.5l.94-2.06 2.06-.94-2.06-.94L8.5 2.5l-.94 2.06-2.06.94zm10 10l.94 2.06.94-2.06 2.06-.94-2.06-.94-.94-2.06-.94 2.06-2.06.94z\"/><path d=\"M17.41 7.96l-1.37-1.37c-.4-.4-.92-.59-1.43-.59-.52 0-1.04.2-1.43.59L10.3 9.45l-7.72 7.72c-.78.78-.78 2.05 0 2.83L4 21.41c.39.39.9.59 1.41.59.51 0 1.02-.2 1.41-.59l7.78-7.78 2.81-2.81c.8-.78.8-2.07 0-2.86zM5.41 20L4 18.59l7.72-7.72 1.47 1.35L5.41 20z\"/>\n",
              "  </svg>\n",
              "      </button>\n",
              "      \n",
              "  <style>\n",
              "    .colab-df-container {\n",
              "      display:flex;\n",
              "      flex-wrap:wrap;\n",
              "      gap: 12px;\n",
              "    }\n",
              "\n",
              "    .colab-df-convert {\n",
              "      background-color: #E8F0FE;\n",
              "      border: none;\n",
              "      border-radius: 50%;\n",
              "      cursor: pointer;\n",
              "      display: none;\n",
              "      fill: #1967D2;\n",
              "      height: 32px;\n",
              "      padding: 0 0 0 0;\n",
              "      width: 32px;\n",
              "    }\n",
              "\n",
              "    .colab-df-convert:hover {\n",
              "      background-color: #E2EBFA;\n",
              "      box-shadow: 0px 1px 2px rgba(60, 64, 67, 0.3), 0px 1px 3px 1px rgba(60, 64, 67, 0.15);\n",
              "      fill: #174EA6;\n",
              "    }\n",
              "\n",
              "    [theme=dark] .colab-df-convert {\n",
              "      background-color: #3B4455;\n",
              "      fill: #D2E3FC;\n",
              "    }\n",
              "\n",
              "    [theme=dark] .colab-df-convert:hover {\n",
              "      background-color: #434B5C;\n",
              "      box-shadow: 0px 1px 3px 1px rgba(0, 0, 0, 0.15);\n",
              "      filter: drop-shadow(0px 1px 2px rgba(0, 0, 0, 0.3));\n",
              "      fill: #FFFFFF;\n",
              "    }\n",
              "  </style>\n",
              "\n",
              "      <script>\n",
              "        const buttonEl =\n",
              "          document.querySelector('#df-21df8f94-c8a5-4226-8ca9-3257e05c6552 button.colab-df-convert');\n",
              "        buttonEl.style.display =\n",
              "          google.colab.kernel.accessAllowed ? 'block' : 'none';\n",
              "\n",
              "        async function convertToInteractive(key) {\n",
              "          const element = document.querySelector('#df-21df8f94-c8a5-4226-8ca9-3257e05c6552');\n",
              "          const dataTable =\n",
              "            await google.colab.kernel.invokeFunction('convertToInteractive',\n",
              "                                                     [key], {});\n",
              "          if (!dataTable) return;\n",
              "\n",
              "          const docLinkHtml = 'Like what you see? Visit the ' +\n",
              "            '<a target=\"_blank\" href=https://colab.research.google.com/notebooks/data_table.ipynb>data table notebook</a>'\n",
              "            + ' to learn more about interactive tables.';\n",
              "          element.innerHTML = '';\n",
              "          dataTable['output_type'] = 'display_data';\n",
              "          await google.colab.output.renderOutput(dataTable, element);\n",
              "          const docLink = document.createElement('div');\n",
              "          docLink.innerHTML = docLinkHtml;\n",
              "          element.appendChild(docLink);\n",
              "        }\n",
              "      </script>\n",
              "    </div>\n",
              "  </div>\n",
              "  "
            ]
          },
          "metadata": {},
          "execution_count": 13
        }
      ]
    },
    {
      "cell_type": "code",
      "source": [
        "df_tv.head(3)"
      ],
      "metadata": {
        "colab": {
          "base_uri": "https://localhost:8080/",
          "height": 277
        },
        "id": "7gWooD1zhuX4",
        "outputId": "3d92e33d-3f4c-495f-c1ab-bea1ff5a5db7"
      },
      "execution_count": 14,
      "outputs": [
        {
          "output_type": "execute_result",
          "data": {
            "text/plain": [
              "   Unnamed: 0  ID            Title  Year  Age    IMDb Rotten Tomatoes  \\\n",
              "0           0   1     Breaking Bad  2008  18+  9.4/10         100/100   \n",
              "1           1   2  Stranger Things  2016  16+  8.7/10          96/100   \n",
              "2           2   3  Attack on Titan  2013  18+  9.0/10          95/100   \n",
              "\n",
              "   Netflix  Hulu  Prime Video  Disney+  Type  \n",
              "0        1     0            0        0     1  \n",
              "1        1     0            0        0     1  \n",
              "2        1     1            0        0     1  "
            ],
            "text/html": [
              "\n",
              "  <div id=\"df-f9f4878d-dff9-4239-b589-915856307dc0\">\n",
              "    <div class=\"colab-df-container\">\n",
              "      <div>\n",
              "<style scoped>\n",
              "    .dataframe tbody tr th:only-of-type {\n",
              "        vertical-align: middle;\n",
              "    }\n",
              "\n",
              "    .dataframe tbody tr th {\n",
              "        vertical-align: top;\n",
              "    }\n",
              "\n",
              "    .dataframe thead th {\n",
              "        text-align: right;\n",
              "    }\n",
              "</style>\n",
              "<table border=\"1\" class=\"dataframe\">\n",
              "  <thead>\n",
              "    <tr style=\"text-align: right;\">\n",
              "      <th></th>\n",
              "      <th>Unnamed: 0</th>\n",
              "      <th>ID</th>\n",
              "      <th>Title</th>\n",
              "      <th>Year</th>\n",
              "      <th>Age</th>\n",
              "      <th>IMDb</th>\n",
              "      <th>Rotten Tomatoes</th>\n",
              "      <th>Netflix</th>\n",
              "      <th>Hulu</th>\n",
              "      <th>Prime Video</th>\n",
              "      <th>Disney+</th>\n",
              "      <th>Type</th>\n",
              "    </tr>\n",
              "  </thead>\n",
              "  <tbody>\n",
              "    <tr>\n",
              "      <th>0</th>\n",
              "      <td>0</td>\n",
              "      <td>1</td>\n",
              "      <td>Breaking Bad</td>\n",
              "      <td>2008</td>\n",
              "      <td>18+</td>\n",
              "      <td>9.4/10</td>\n",
              "      <td>100/100</td>\n",
              "      <td>1</td>\n",
              "      <td>0</td>\n",
              "      <td>0</td>\n",
              "      <td>0</td>\n",
              "      <td>1</td>\n",
              "    </tr>\n",
              "    <tr>\n",
              "      <th>1</th>\n",
              "      <td>1</td>\n",
              "      <td>2</td>\n",
              "      <td>Stranger Things</td>\n",
              "      <td>2016</td>\n",
              "      <td>16+</td>\n",
              "      <td>8.7/10</td>\n",
              "      <td>96/100</td>\n",
              "      <td>1</td>\n",
              "      <td>0</td>\n",
              "      <td>0</td>\n",
              "      <td>0</td>\n",
              "      <td>1</td>\n",
              "    </tr>\n",
              "    <tr>\n",
              "      <th>2</th>\n",
              "      <td>2</td>\n",
              "      <td>3</td>\n",
              "      <td>Attack on Titan</td>\n",
              "      <td>2013</td>\n",
              "      <td>18+</td>\n",
              "      <td>9.0/10</td>\n",
              "      <td>95/100</td>\n",
              "      <td>1</td>\n",
              "      <td>1</td>\n",
              "      <td>0</td>\n",
              "      <td>0</td>\n",
              "      <td>1</td>\n",
              "    </tr>\n",
              "  </tbody>\n",
              "</table>\n",
              "</div>\n",
              "      <button class=\"colab-df-convert\" onclick=\"convertToInteractive('df-f9f4878d-dff9-4239-b589-915856307dc0')\"\n",
              "              title=\"Convert this dataframe to an interactive table.\"\n",
              "              style=\"display:none;\">\n",
              "        \n",
              "  <svg xmlns=\"http://www.w3.org/2000/svg\" height=\"24px\"viewBox=\"0 0 24 24\"\n",
              "       width=\"24px\">\n",
              "    <path d=\"M0 0h24v24H0V0z\" fill=\"none\"/>\n",
              "    <path d=\"M18.56 5.44l.94 2.06.94-2.06 2.06-.94-2.06-.94-.94-2.06-.94 2.06-2.06.94zm-11 1L8.5 8.5l.94-2.06 2.06-.94-2.06-.94L8.5 2.5l-.94 2.06-2.06.94zm10 10l.94 2.06.94-2.06 2.06-.94-2.06-.94-.94-2.06-.94 2.06-2.06.94z\"/><path d=\"M17.41 7.96l-1.37-1.37c-.4-.4-.92-.59-1.43-.59-.52 0-1.04.2-1.43.59L10.3 9.45l-7.72 7.72c-.78.78-.78 2.05 0 2.83L4 21.41c.39.39.9.59 1.41.59.51 0 1.02-.2 1.41-.59l7.78-7.78 2.81-2.81c.8-.78.8-2.07 0-2.86zM5.41 20L4 18.59l7.72-7.72 1.47 1.35L5.41 20z\"/>\n",
              "  </svg>\n",
              "      </button>\n",
              "      \n",
              "  <style>\n",
              "    .colab-df-container {\n",
              "      display:flex;\n",
              "      flex-wrap:wrap;\n",
              "      gap: 12px;\n",
              "    }\n",
              "\n",
              "    .colab-df-convert {\n",
              "      background-color: #E8F0FE;\n",
              "      border: none;\n",
              "      border-radius: 50%;\n",
              "      cursor: pointer;\n",
              "      display: none;\n",
              "      fill: #1967D2;\n",
              "      height: 32px;\n",
              "      padding: 0 0 0 0;\n",
              "      width: 32px;\n",
              "    }\n",
              "\n",
              "    .colab-df-convert:hover {\n",
              "      background-color: #E2EBFA;\n",
              "      box-shadow: 0px 1px 2px rgba(60, 64, 67, 0.3), 0px 1px 3px 1px rgba(60, 64, 67, 0.15);\n",
              "      fill: #174EA6;\n",
              "    }\n",
              "\n",
              "    [theme=dark] .colab-df-convert {\n",
              "      background-color: #3B4455;\n",
              "      fill: #D2E3FC;\n",
              "    }\n",
              "\n",
              "    [theme=dark] .colab-df-convert:hover {\n",
              "      background-color: #434B5C;\n",
              "      box-shadow: 0px 1px 3px 1px rgba(0, 0, 0, 0.15);\n",
              "      filter: drop-shadow(0px 1px 2px rgba(0, 0, 0, 0.3));\n",
              "      fill: #FFFFFF;\n",
              "    }\n",
              "  </style>\n",
              "\n",
              "      <script>\n",
              "        const buttonEl =\n",
              "          document.querySelector('#df-f9f4878d-dff9-4239-b589-915856307dc0 button.colab-df-convert');\n",
              "        buttonEl.style.display =\n",
              "          google.colab.kernel.accessAllowed ? 'block' : 'none';\n",
              "\n",
              "        async function convertToInteractive(key) {\n",
              "          const element = document.querySelector('#df-f9f4878d-dff9-4239-b589-915856307dc0');\n",
              "          const dataTable =\n",
              "            await google.colab.kernel.invokeFunction('convertToInteractive',\n",
              "                                                     [key], {});\n",
              "          if (!dataTable) return;\n",
              "\n",
              "          const docLinkHtml = 'Like what you see? Visit the ' +\n",
              "            '<a target=\"_blank\" href=https://colab.research.google.com/notebooks/data_table.ipynb>data table notebook</a>'\n",
              "            + ' to learn more about interactive tables.';\n",
              "          element.innerHTML = '';\n",
              "          dataTable['output_type'] = 'display_data';\n",
              "          await google.colab.output.renderOutput(dataTable, element);\n",
              "          const docLink = document.createElement('div');\n",
              "          docLink.innerHTML = docLinkHtml;\n",
              "          element.appendChild(docLink);\n",
              "        }\n",
              "      </script>\n",
              "    </div>\n",
              "  </div>\n",
              "  "
            ]
          },
          "metadata": {},
          "execution_count": 14
        }
      ]
    },
    {
      "cell_type": "code",
      "source": [
        "df_movie = df_movie.drop(['Unnamed: 0','ID'], axis = 1) "
      ],
      "metadata": {
        "id": "Rnwk4U5FiEpd"
      },
      "execution_count": 15,
      "outputs": []
    },
    {
      "cell_type": "code",
      "source": [
        "df_tv = df_tv.drop(['Unnamed: 0', 'ID'], axis = 1)"
      ],
      "metadata": {
        "id": "MAxQeyffiK4W"
      },
      "execution_count": 16,
      "outputs": []
    },
    {
      "cell_type": "code",
      "source": [
        "df_movie.head(3)"
      ],
      "metadata": {
        "colab": {
          "base_uri": "https://localhost:8080/",
          "height": 312
        },
        "id": "Uj_hYYw9iUGo",
        "outputId": "3d0bee68-0263-4964-fa50-91a97c7b7fb5"
      },
      "execution_count": 17,
      "outputs": [
        {
          "output_type": "execute_result",
          "data": {
            "text/plain": [
              "                                      Title  Year  Age    IMDb  \\\n",
              "0                              The Irishman  2019  18+  7.8/10   \n",
              "1                                    Dangal  2016   7+  8.4/10   \n",
              "2  David Attenborough: A Life on Our Planet  2020   7+  9.0/10   \n",
              "\n",
              "  Rotten Tomatoes  Netflix  Hulu  Prime Video  Disney+  Type  \\\n",
              "0          98/100        1     0            0        0     0   \n",
              "1          97/100        1     0            0        0     0   \n",
              "2          95/100        1     0            0        0     0   \n",
              "\n",
              "                                           Directors  \\\n",
              "0                                    Martin Scorsese   \n",
              "1                                      Nitesh Tiwari   \n",
              "2  Alastair Fothergill,Jonathan Hughes,Keith Scholey   \n",
              "\n",
              "                         Genres  \\\n",
              "0         Biography,Crime,Drama   \n",
              "1  Action,Biography,Drama,Sport   \n",
              "2         Documentary,Biography   \n",
              "\n",
              "                                             Country  \\\n",
              "0                                      United States   \n",
              "1  India,United States,United Kingdom,Australia,K...   \n",
              "2                                     United Kingdom   \n",
              "\n",
              "                               Language  Runtime  \n",
              "0  English,Italian,Latin,Spanish,German    209.0  \n",
              "1                         Hindi,English    161.0  \n",
              "2                               English     83.0  "
            ],
            "text/html": [
              "\n",
              "  <div id=\"df-47b2200c-d896-44d7-a9fd-676edb997a18\">\n",
              "    <div class=\"colab-df-container\">\n",
              "      <div>\n",
              "<style scoped>\n",
              "    .dataframe tbody tr th:only-of-type {\n",
              "        vertical-align: middle;\n",
              "    }\n",
              "\n",
              "    .dataframe tbody tr th {\n",
              "        vertical-align: top;\n",
              "    }\n",
              "\n",
              "    .dataframe thead th {\n",
              "        text-align: right;\n",
              "    }\n",
              "</style>\n",
              "<table border=\"1\" class=\"dataframe\">\n",
              "  <thead>\n",
              "    <tr style=\"text-align: right;\">\n",
              "      <th></th>\n",
              "      <th>Title</th>\n",
              "      <th>Year</th>\n",
              "      <th>Age</th>\n",
              "      <th>IMDb</th>\n",
              "      <th>Rotten Tomatoes</th>\n",
              "      <th>Netflix</th>\n",
              "      <th>Hulu</th>\n",
              "      <th>Prime Video</th>\n",
              "      <th>Disney+</th>\n",
              "      <th>Type</th>\n",
              "      <th>Directors</th>\n",
              "      <th>Genres</th>\n",
              "      <th>Country</th>\n",
              "      <th>Language</th>\n",
              "      <th>Runtime</th>\n",
              "    </tr>\n",
              "  </thead>\n",
              "  <tbody>\n",
              "    <tr>\n",
              "      <th>0</th>\n",
              "      <td>The Irishman</td>\n",
              "      <td>2019</td>\n",
              "      <td>18+</td>\n",
              "      <td>7.8/10</td>\n",
              "      <td>98/100</td>\n",
              "      <td>1</td>\n",
              "      <td>0</td>\n",
              "      <td>0</td>\n",
              "      <td>0</td>\n",
              "      <td>0</td>\n",
              "      <td>Martin Scorsese</td>\n",
              "      <td>Biography,Crime,Drama</td>\n",
              "      <td>United States</td>\n",
              "      <td>English,Italian,Latin,Spanish,German</td>\n",
              "      <td>209.0</td>\n",
              "    </tr>\n",
              "    <tr>\n",
              "      <th>1</th>\n",
              "      <td>Dangal</td>\n",
              "      <td>2016</td>\n",
              "      <td>7+</td>\n",
              "      <td>8.4/10</td>\n",
              "      <td>97/100</td>\n",
              "      <td>1</td>\n",
              "      <td>0</td>\n",
              "      <td>0</td>\n",
              "      <td>0</td>\n",
              "      <td>0</td>\n",
              "      <td>Nitesh Tiwari</td>\n",
              "      <td>Action,Biography,Drama,Sport</td>\n",
              "      <td>India,United States,United Kingdom,Australia,K...</td>\n",
              "      <td>Hindi,English</td>\n",
              "      <td>161.0</td>\n",
              "    </tr>\n",
              "    <tr>\n",
              "      <th>2</th>\n",
              "      <td>David Attenborough: A Life on Our Planet</td>\n",
              "      <td>2020</td>\n",
              "      <td>7+</td>\n",
              "      <td>9.0/10</td>\n",
              "      <td>95/100</td>\n",
              "      <td>1</td>\n",
              "      <td>0</td>\n",
              "      <td>0</td>\n",
              "      <td>0</td>\n",
              "      <td>0</td>\n",
              "      <td>Alastair Fothergill,Jonathan Hughes,Keith Scholey</td>\n",
              "      <td>Documentary,Biography</td>\n",
              "      <td>United Kingdom</td>\n",
              "      <td>English</td>\n",
              "      <td>83.0</td>\n",
              "    </tr>\n",
              "  </tbody>\n",
              "</table>\n",
              "</div>\n",
              "      <button class=\"colab-df-convert\" onclick=\"convertToInteractive('df-47b2200c-d896-44d7-a9fd-676edb997a18')\"\n",
              "              title=\"Convert this dataframe to an interactive table.\"\n",
              "              style=\"display:none;\">\n",
              "        \n",
              "  <svg xmlns=\"http://www.w3.org/2000/svg\" height=\"24px\"viewBox=\"0 0 24 24\"\n",
              "       width=\"24px\">\n",
              "    <path d=\"M0 0h24v24H0V0z\" fill=\"none\"/>\n",
              "    <path d=\"M18.56 5.44l.94 2.06.94-2.06 2.06-.94-2.06-.94-.94-2.06-.94 2.06-2.06.94zm-11 1L8.5 8.5l.94-2.06 2.06-.94-2.06-.94L8.5 2.5l-.94 2.06-2.06.94zm10 10l.94 2.06.94-2.06 2.06-.94-2.06-.94-.94-2.06-.94 2.06-2.06.94z\"/><path d=\"M17.41 7.96l-1.37-1.37c-.4-.4-.92-.59-1.43-.59-.52 0-1.04.2-1.43.59L10.3 9.45l-7.72 7.72c-.78.78-.78 2.05 0 2.83L4 21.41c.39.39.9.59 1.41.59.51 0 1.02-.2 1.41-.59l7.78-7.78 2.81-2.81c.8-.78.8-2.07 0-2.86zM5.41 20L4 18.59l7.72-7.72 1.47 1.35L5.41 20z\"/>\n",
              "  </svg>\n",
              "      </button>\n",
              "      \n",
              "  <style>\n",
              "    .colab-df-container {\n",
              "      display:flex;\n",
              "      flex-wrap:wrap;\n",
              "      gap: 12px;\n",
              "    }\n",
              "\n",
              "    .colab-df-convert {\n",
              "      background-color: #E8F0FE;\n",
              "      border: none;\n",
              "      border-radius: 50%;\n",
              "      cursor: pointer;\n",
              "      display: none;\n",
              "      fill: #1967D2;\n",
              "      height: 32px;\n",
              "      padding: 0 0 0 0;\n",
              "      width: 32px;\n",
              "    }\n",
              "\n",
              "    .colab-df-convert:hover {\n",
              "      background-color: #E2EBFA;\n",
              "      box-shadow: 0px 1px 2px rgba(60, 64, 67, 0.3), 0px 1px 3px 1px rgba(60, 64, 67, 0.15);\n",
              "      fill: #174EA6;\n",
              "    }\n",
              "\n",
              "    [theme=dark] .colab-df-convert {\n",
              "      background-color: #3B4455;\n",
              "      fill: #D2E3FC;\n",
              "    }\n",
              "\n",
              "    [theme=dark] .colab-df-convert:hover {\n",
              "      background-color: #434B5C;\n",
              "      box-shadow: 0px 1px 3px 1px rgba(0, 0, 0, 0.15);\n",
              "      filter: drop-shadow(0px 1px 2px rgba(0, 0, 0, 0.3));\n",
              "      fill: #FFFFFF;\n",
              "    }\n",
              "  </style>\n",
              "\n",
              "      <script>\n",
              "        const buttonEl =\n",
              "          document.querySelector('#df-47b2200c-d896-44d7-a9fd-676edb997a18 button.colab-df-convert');\n",
              "        buttonEl.style.display =\n",
              "          google.colab.kernel.accessAllowed ? 'block' : 'none';\n",
              "\n",
              "        async function convertToInteractive(key) {\n",
              "          const element = document.querySelector('#df-47b2200c-d896-44d7-a9fd-676edb997a18');\n",
              "          const dataTable =\n",
              "            await google.colab.kernel.invokeFunction('convertToInteractive',\n",
              "                                                     [key], {});\n",
              "          if (!dataTable) return;\n",
              "\n",
              "          const docLinkHtml = 'Like what you see? Visit the ' +\n",
              "            '<a target=\"_blank\" href=https://colab.research.google.com/notebooks/data_table.ipynb>data table notebook</a>'\n",
              "            + ' to learn more about interactive tables.';\n",
              "          element.innerHTML = '';\n",
              "          dataTable['output_type'] = 'display_data';\n",
              "          await google.colab.output.renderOutput(dataTable, element);\n",
              "          const docLink = document.createElement('div');\n",
              "          docLink.innerHTML = docLinkHtml;\n",
              "          element.appendChild(docLink);\n",
              "        }\n",
              "      </script>\n",
              "    </div>\n",
              "  </div>\n",
              "  "
            ]
          },
          "metadata": {},
          "execution_count": 17
        }
      ]
    },
    {
      "cell_type": "code",
      "source": [
        "df_tv.head(3)"
      ],
      "metadata": {
        "colab": {
          "base_uri": "https://localhost:8080/",
          "height": 257
        },
        "id": "rAmRzGQgiVu8",
        "outputId": "57203318-e248-4fc3-a7a8-066c939bb284"
      },
      "execution_count": 18,
      "outputs": [
        {
          "output_type": "execute_result",
          "data": {
            "text/plain": [
              "             Title  Year  Age    IMDb Rotten Tomatoes  Netflix  Hulu  \\\n",
              "0     Breaking Bad  2008  18+  9.4/10         100/100        1     0   \n",
              "1  Stranger Things  2016  16+  8.7/10          96/100        1     0   \n",
              "2  Attack on Titan  2013  18+  9.0/10          95/100        1     1   \n",
              "\n",
              "   Prime Video  Disney+  Type  \n",
              "0            0        0     1  \n",
              "1            0        0     1  \n",
              "2            0        0     1  "
            ],
            "text/html": [
              "\n",
              "  <div id=\"df-4c1aa047-1640-4453-8378-4d4a043c4731\">\n",
              "    <div class=\"colab-df-container\">\n",
              "      <div>\n",
              "<style scoped>\n",
              "    .dataframe tbody tr th:only-of-type {\n",
              "        vertical-align: middle;\n",
              "    }\n",
              "\n",
              "    .dataframe tbody tr th {\n",
              "        vertical-align: top;\n",
              "    }\n",
              "\n",
              "    .dataframe thead th {\n",
              "        text-align: right;\n",
              "    }\n",
              "</style>\n",
              "<table border=\"1\" class=\"dataframe\">\n",
              "  <thead>\n",
              "    <tr style=\"text-align: right;\">\n",
              "      <th></th>\n",
              "      <th>Title</th>\n",
              "      <th>Year</th>\n",
              "      <th>Age</th>\n",
              "      <th>IMDb</th>\n",
              "      <th>Rotten Tomatoes</th>\n",
              "      <th>Netflix</th>\n",
              "      <th>Hulu</th>\n",
              "      <th>Prime Video</th>\n",
              "      <th>Disney+</th>\n",
              "      <th>Type</th>\n",
              "    </tr>\n",
              "  </thead>\n",
              "  <tbody>\n",
              "    <tr>\n",
              "      <th>0</th>\n",
              "      <td>Breaking Bad</td>\n",
              "      <td>2008</td>\n",
              "      <td>18+</td>\n",
              "      <td>9.4/10</td>\n",
              "      <td>100/100</td>\n",
              "      <td>1</td>\n",
              "      <td>0</td>\n",
              "      <td>0</td>\n",
              "      <td>0</td>\n",
              "      <td>1</td>\n",
              "    </tr>\n",
              "    <tr>\n",
              "      <th>1</th>\n",
              "      <td>Stranger Things</td>\n",
              "      <td>2016</td>\n",
              "      <td>16+</td>\n",
              "      <td>8.7/10</td>\n",
              "      <td>96/100</td>\n",
              "      <td>1</td>\n",
              "      <td>0</td>\n",
              "      <td>0</td>\n",
              "      <td>0</td>\n",
              "      <td>1</td>\n",
              "    </tr>\n",
              "    <tr>\n",
              "      <th>2</th>\n",
              "      <td>Attack on Titan</td>\n",
              "      <td>2013</td>\n",
              "      <td>18+</td>\n",
              "      <td>9.0/10</td>\n",
              "      <td>95/100</td>\n",
              "      <td>1</td>\n",
              "      <td>1</td>\n",
              "      <td>0</td>\n",
              "      <td>0</td>\n",
              "      <td>1</td>\n",
              "    </tr>\n",
              "  </tbody>\n",
              "</table>\n",
              "</div>\n",
              "      <button class=\"colab-df-convert\" onclick=\"convertToInteractive('df-4c1aa047-1640-4453-8378-4d4a043c4731')\"\n",
              "              title=\"Convert this dataframe to an interactive table.\"\n",
              "              style=\"display:none;\">\n",
              "        \n",
              "  <svg xmlns=\"http://www.w3.org/2000/svg\" height=\"24px\"viewBox=\"0 0 24 24\"\n",
              "       width=\"24px\">\n",
              "    <path d=\"M0 0h24v24H0V0z\" fill=\"none\"/>\n",
              "    <path d=\"M18.56 5.44l.94 2.06.94-2.06 2.06-.94-2.06-.94-.94-2.06-.94 2.06-2.06.94zm-11 1L8.5 8.5l.94-2.06 2.06-.94-2.06-.94L8.5 2.5l-.94 2.06-2.06.94zm10 10l.94 2.06.94-2.06 2.06-.94-2.06-.94-.94-2.06-.94 2.06-2.06.94z\"/><path d=\"M17.41 7.96l-1.37-1.37c-.4-.4-.92-.59-1.43-.59-.52 0-1.04.2-1.43.59L10.3 9.45l-7.72 7.72c-.78.78-.78 2.05 0 2.83L4 21.41c.39.39.9.59 1.41.59.51 0 1.02-.2 1.41-.59l7.78-7.78 2.81-2.81c.8-.78.8-2.07 0-2.86zM5.41 20L4 18.59l7.72-7.72 1.47 1.35L5.41 20z\"/>\n",
              "  </svg>\n",
              "      </button>\n",
              "      \n",
              "  <style>\n",
              "    .colab-df-container {\n",
              "      display:flex;\n",
              "      flex-wrap:wrap;\n",
              "      gap: 12px;\n",
              "    }\n",
              "\n",
              "    .colab-df-convert {\n",
              "      background-color: #E8F0FE;\n",
              "      border: none;\n",
              "      border-radius: 50%;\n",
              "      cursor: pointer;\n",
              "      display: none;\n",
              "      fill: #1967D2;\n",
              "      height: 32px;\n",
              "      padding: 0 0 0 0;\n",
              "      width: 32px;\n",
              "    }\n",
              "\n",
              "    .colab-df-convert:hover {\n",
              "      background-color: #E2EBFA;\n",
              "      box-shadow: 0px 1px 2px rgba(60, 64, 67, 0.3), 0px 1px 3px 1px rgba(60, 64, 67, 0.15);\n",
              "      fill: #174EA6;\n",
              "    }\n",
              "\n",
              "    [theme=dark] .colab-df-convert {\n",
              "      background-color: #3B4455;\n",
              "      fill: #D2E3FC;\n",
              "    }\n",
              "\n",
              "    [theme=dark] .colab-df-convert:hover {\n",
              "      background-color: #434B5C;\n",
              "      box-shadow: 0px 1px 3px 1px rgba(0, 0, 0, 0.15);\n",
              "      filter: drop-shadow(0px 1px 2px rgba(0, 0, 0, 0.3));\n",
              "      fill: #FFFFFF;\n",
              "    }\n",
              "  </style>\n",
              "\n",
              "      <script>\n",
              "        const buttonEl =\n",
              "          document.querySelector('#df-4c1aa047-1640-4453-8378-4d4a043c4731 button.colab-df-convert');\n",
              "        buttonEl.style.display =\n",
              "          google.colab.kernel.accessAllowed ? 'block' : 'none';\n",
              "\n",
              "        async function convertToInteractive(key) {\n",
              "          const element = document.querySelector('#df-4c1aa047-1640-4453-8378-4d4a043c4731');\n",
              "          const dataTable =\n",
              "            await google.colab.kernel.invokeFunction('convertToInteractive',\n",
              "                                                     [key], {});\n",
              "          if (!dataTable) return;\n",
              "\n",
              "          const docLinkHtml = 'Like what you see? Visit the ' +\n",
              "            '<a target=\"_blank\" href=https://colab.research.google.com/notebooks/data_table.ipynb>data table notebook</a>'\n",
              "            + ' to learn more about interactive tables.';\n",
              "          element.innerHTML = '';\n",
              "          dataTable['output_type'] = 'display_data';\n",
              "          await google.colab.output.renderOutput(dataTable, element);\n",
              "          const docLink = document.createElement('div');\n",
              "          docLink.innerHTML = docLinkHtml;\n",
              "          element.appendChild(docLink);\n",
              "        }\n",
              "      </script>\n",
              "    </div>\n",
              "  </div>\n",
              "  "
            ]
          },
          "metadata": {},
          "execution_count": 18
        }
      ]
    },
    {
      "cell_type": "code",
      "source": [
        "len(df_movie['Directors'].unique())"
      ],
      "metadata": {
        "colab": {
          "base_uri": "https://localhost:8080/"
        },
        "id": "DUg2pqT5iXui",
        "outputId": "fb942575-a6ef-4836-cf10-031dcdddf4de"
      },
      "execution_count": 19,
      "outputs": [
        {
          "output_type": "execute_result",
          "data": {
            "text/plain": [
              "6618"
            ]
          },
          "metadata": {},
          "execution_count": 19
        }
      ]
    },
    {
      "cell_type": "code",
      "source": [
        "len(df_movie['Genres'].unique())"
      ],
      "metadata": {
        "colab": {
          "base_uri": "https://localhost:8080/"
        },
        "id": "JH9YUc_ri-AO",
        "outputId": "67c7aa82-6f8b-4e10-9fd7-6a34770a2503"
      },
      "execution_count": 20,
      "outputs": [
        {
          "output_type": "execute_result",
          "data": {
            "text/plain": [
              "1419"
            ]
          },
          "metadata": {},
          "execution_count": 20
        }
      ]
    },
    {
      "cell_type": "code",
      "source": [
        "def splitting(dataframe,col):\n",
        "    result = dataframe[col].str.get_dummies(',')\n",
        "    print('Done!')\n",
        "    return result"
      ],
      "metadata": {
        "id": "YSwAly1xjvXH"
      },
      "execution_count": 21,
      "outputs": []
    },
    {
      "cell_type": "code",
      "source": [
        "m_genres = splitting(df_movie,'Genres')\n",
        "m_lang = splitting(df_movie,'Language')"
      ],
      "metadata": {
        "id": "MG_9XEEXjwp-"
      },
      "execution_count": null,
      "outputs": []
    },
    {
      "cell_type": "code",
      "source": [
        "### 플랫폼 별 TV Series & 영화 ###"
      ],
      "metadata": {
        "id": "TNgD8LhPj1Cv"
      },
      "execution_count": null,
      "outputs": []
    },
    {
      "cell_type": "code",
      "source": [
        "def val_sum(df,c):\n",
        "    return df[c].sum(axis=0)"
      ],
      "metadata": {
        "id": "GBmQNG4gkAyR"
      },
      "execution_count": 23,
      "outputs": []
    },
    {
      "cell_type": "code",
      "source": [
        "val_counts = []\n",
        "dfs = [df_movie,df_tv]\n",
        "cols = ['Netflix','Hulu','Prime Video','Disney+']\n",
        "\n",
        "for x in dfs:\n",
        "    for y in cols:\n",
        "        val_counts.append(val_sum(x,y))"
      ],
      "metadata": {
        "id": "xpouVaPLkCqA"
      },
      "execution_count": 24,
      "outputs": []
    },
    {
      "cell_type": "code",
      "source": [
        "val_counts"
      ],
      "metadata": {
        "colab": {
          "base_uri": "https://localhost:8080/"
        },
        "id": "lPflq3sRkGTH",
        "outputId": "27572876-8fb4-4fbc-9042-017f34a72478"
      },
      "execution_count": 25,
      "outputs": [
        {
          "output_type": "execute_result",
          "data": {
            "text/plain": [
              "[3695, 1047, 4113, 922, 1971, 1621, 1831, 351]"
            ]
          },
          "metadata": {},
          "execution_count": 25
        }
      ]
    },
    {
      "cell_type": "code",
      "source": [
        "def donut(i,df,sizes,title):\n",
        "    plt.subplot(i)\n",
        "    plt.pie(sizes, explode=explode, labels=labels, colors=colors,\n",
        "                autopct='%1.1f%%', shadow=True)\n",
        "\n",
        "    centre_circle = plt.Circle((0,0),0.5,color='black', fc='white',linewidth=1.25)\n",
        "    fig = plt.gcf()\n",
        "    fig.gca().add_artist(centre_circle)\n",
        "    plt.title(title)\n",
        "    plt.axis('equal')"
      ],
      "metadata": {
        "id": "EHkND4ZvkIrv"
      },
      "execution_count": 26,
      "outputs": []
    },
    {
      "cell_type": "code",
      "source": [
        "fig = plt.subplots(figsize=(16, 8))\n",
        "labels = 'Netflix', 'Hulu','Prime','Disney+'\n",
        "sizes1 = [val_counts[0], val_counts[1],val_counts[2],val_counts[3]]\n",
        "sizes2 = [val_counts[4], val_counts[5],val_counts[6],val_counts[7]]\n",
        "colors = custom_colors\n",
        "explode = (0, 0, 0, 0) \n",
        "\n",
        "donut(121,df_movie,sizes1,'Movie')\n",
        "donut(122,df_tv,sizes2,'TV show')\n",
        "plt.show()"
      ],
      "metadata": {
        "colab": {
          "base_uri": "https://localhost:8080/",
          "height": 340
        },
        "id": "B8-3ECstkOV_",
        "outputId": "49b70a10-b149-43b0-f430-626e027ac558"
      },
      "execution_count": 27,
      "outputs": [
        {
          "output_type": "display_data",
          "data": {
            "text/plain": [
              "<Figure size 1152x576 with 2 Axes>"
            ],
            "image/png": "[encoded data removed]"
          },
          "metadata": {}
        }
      ]
    },
    {
      "cell_type": "markdown",
      "source": [
        "## Movie\n",
        "Amazon Prime Video > Netflix > Hulu > Disney+\n",
        "\n",
        "\n",
        "### TV Show\n",
        "Netflix > Amazon Prime Video > Hulu > Disney+"
      ],
      "metadata": {
        "id": "wMbkk-agkTgI"
      }
    },
    {
      "cell_type": "code",
      "source": [
        "fig = make_subplots(rows=1, cols=2)\n",
        "\n",
        "fig.add_trace(go.Indicator(\n",
        "    mode = \"number\",\n",
        "    value = 4113,\n",
        "    number={'font':{'color': custom_colors[2],'size':100}},\n",
        "    title = {\"text\": \"Movie<br><span style='font-size:0.8em;color:gray'>On Prime Video</span>\"},\n",
        "    domain = {'x': [0, 0.5], 'y': [0.6, 1]}))\n",
        "\n",
        "fig.add_trace(go.Indicator(\n",
        "    mode = \"number\",\n",
        "    value = 1971,\n",
        "    number={'font':{'color': custom_colors[2],'size':100}},\n",
        "    title = {\"text\": \"TV Show<br><span style='font-size:0.8em;color:gray'>On Netflix</span>\"},\n",
        "    domain = {'x': [0.5, 1], 'y': [0, 0.4]}))\n",
        "\n",
        "fig.show()"
      ],
      "metadata": {
        "colab": {
          "base_uri": "https://localhost:8080/",
          "height": 542
        },
        "id": "DZZy_Lbzkn3J",
        "outputId": "06c86275-8c1e-4db0-e7bf-390cf2492cd9"
      },
      "execution_count": 28,
      "outputs": [
        {
          "output_type": "display_data",
          "data": {
            "text/html": [
              "<html>\n",
              "<head><meta charset=\"utf-8\" /></head>\n",
              "<body>\n",
              "    <div>            <script src=\"https://cdnjs.cloudflare.com/ajax/libs/mathjax/2.7.5/MathJax.js?config=TeX-AMS-MML_SVG\"></script><script type=\"text/javascript\">if (window.MathJax) {MathJax.Hub.Config({SVG: {font: \"STIX-Web\"}});}</script>                <script type=\"text/javascript\">window.PlotlyConfig = {MathJaxConfig: 'local'};</script>\n",
              "        <script src=\"https://cdn.plot.ly/plotly-2.8.3.min.js\"></script>                <div id=\"9a1fd493-593d-4587-b255-bc6dc1e1d95a\" class=\"plotly-graph-div\" style=\"height:525px; width:100%;\"></div>            <script type=\"text/javascript\">                                    window.PLOTLYENV=window.PLOTLYENV || {};                                    if (document.getElementById(\"9a1fd493-593d-4587-b255-bc6dc1e1d95a\")) {                    Plotly.newPlot(                        \"9a1fd493-593d-4587-b255-bc6dc1e1d95a\",                        [{\"domain\":{\"x\":[0,0.5],\"y\":[0.6,1]},\"mode\":\"number\",\"number\":{\"font\":{\"color\":\"#a2d2ff\",\"size\":100}},\"title\":{\"text\":\"Movie<br><span style='font-size:0.8em;color:gray'>On Prime Video</span>\"},\"value\":4113,\"type\":\"indicator\"},{\"domain\":{\"x\":[0.5,1],\"y\":[0,0.4]},\"mode\":\"number\",\"number\":{\"font\":{\"color\":\"#a2d2ff\",\"size\":100}},\"title\":{\"text\":\"TV Show<br><span style='font-size:0.8em;color:gray'>On Netflix</span>\"},\"value\":1971,\"type\":\"indicator\"}],                        {\"template\":{\"data\":{\"bar\":[{\"error_x\":{\"color\":\"#2a3f5f\"},\"error_y\":{\"color\":\"#2a3f5f\"},\"marker\":{\"line\":{\"color\":\"#E5ECF6\",\"width\":0.5},\"pattern\":{\"fillmode\":\"overlay\",\"size\":10,\"solidity\":0.2}},\"type\":\"bar\"}],\"barpolar\":[{\"marker\":{\"line\":{\"color\":\"#E5ECF6\",\"width\":0.5},\"pattern\":{\"fillmode\":\"overlay\",\"size\":10,\"solidity\":0.2}},\"type\":\"barpolar\"}],\"carpet\":[{\"aaxis\":{\"endlinecolor\":\"#2a3f5f\",\"gridcolor\":\"white\",\"linecolor\":\"white\",\"minorgridcolor\":\"white\",\"startlinecolor\":\"#2a3f5f\"},\"baxis\":{\"endlinecolor\":\"#2a3f5f\",\"gridcolor\":\"white\",\"linecolor\":\"white\",\"minorgridcolor\":\"white\",\"startlinecolor\":\"#2a3f5f\"},\"type\":\"carpet\"}],\"choropleth\":[{\"colorbar\":{\"outlinewidth\":0,\"ticks\":\"\"},\"type\":\"choropleth\"}],\"contour\":[{\"colorbar\":{\"outlinewidth\":0,\"ticks\":\"\"},\"colorscale\":[[0.0,\"#0d0887\"],[0.1111111111111111,\"#46039f\"],[0.2222222222222222,\"#7201a8\"],[0.3333333333333333,\"#9c179e\"],[0.4444444444444444,\"#bd3786\"],[0.5555555555555556,\"#d8576b\"],[0.6666666666666666,\"#ed7953\"],[0.7777777777777778,\"#fb9f3a\"],[0.8888888888888888,\"#fdca26\"],[1.0,\"#f0f921\"]],\"type\":\"contour\"}],\"contourcarpet\":[{\"colorbar\":{\"outlinewidth\":0,\"ticks\":\"\"},\"type\":\"contourcarpet\"}],\"heatmap\":[{\"colorbar\":{\"outlinewidth\":0,\"ticks\":\"\"},\"colorscale\":[[0.0,\"#0d0887\"],[0.1111111111111111,\"#46039f\"],[0.2222222222222222,\"#7201a8\"],[0.3333333333333333,\"#9c179e\"],[0.4444444444444444,\"#bd3786\"],[0.5555555555555556,\"#d8576b\"],[0.6666666666666666,\"#ed7953\"],[0.7777777777777778,\"#fb9f3a\"],[0.8888888888888888,\"#fdca26\"],[1.0,\"#f0f921\"]],\"type\":\"heatmap\"}],\"heatmapgl\":[{\"colorbar\":{\"outlinewidth\":0,\"ticks\":\"\"},\"colorscale\":[[0.0,\"#0d0887\"],[0.1111111111111111,\"#46039f\"],[0.2222222222222222,\"#7201a8\"],[0.3333333333333333,\"#9c179e\"],[0.4444444444444444,\"#bd3786\"],[0.5555555555555556,\"#d8576b\"],[0.6666666666666666,\"#ed7953\"],[0.7777777777777778,\"#fb9f3a\"],[0.8888888888888888,\"#fdca26\"],[1.0,\"#f0f921\"]],\"type\":\"heatmapgl\"}],\"histogram\":[{\"marker\":{\"pattern\":{\"fillmode\":\"overlay\",\"size\":10,\"solidity\":0.2}},\"type\":\"histogram\"}],\"histogram2d\":[{\"colorbar\":{\"outlinewidth\":0,\"ticks\":\"\"},\"colorscale\":[[0.0,\"#0d0887\"],[0.1111111111111111,\"#46039f\"],[0.2222222222222222,\"#7201a8\"],[0.3333333333333333,\"#9c179e\"],[0.4444444444444444,\"#bd3786\"],[0.5555555555555556,\"#d8576b\"],[0.6666666666666666,\"#ed7953\"],[0.7777777777777778,\"#fb9f3a\"],[0.8888888888888888,\"#fdca26\"],[1.0,\"#f0f921\"]],\"type\":\"histogram2d\"}],\"histogram2dcontour\":[{\"colorbar\":{\"outlinewidth\":0,\"ticks\":\"\"},\"colorscale\":[[0.0,\"#0d0887\"],[0.1111111111111111,\"#46039f\"],[0.2222222222222222,\"#7201a8\"],[0.3333333333333333,\"#9c179e\"],[0.4444444444444444,\"#bd3786\"],[0.5555555555555556,\"#d8576b\"],[0.6666666666666666,\"#ed7953\"],[0.7777777777777778,\"#fb9f3a\"],[0.8888888888888888,\"#fdca26\"],[1.0,\"#f0f921\"]],\"type\":\"histogram2dcontour\"}],\"mesh3d\":[{\"colorbar\":{\"outlinewidth\":0,\"ticks\":\"\"},\"type\":\"mesh3d\"}],\"parcoords\":[{\"line\":{\"colorbar\":{\"outlinewidth\":0,\"ticks\":\"\"}},\"type\":\"parcoords\"}],\"pie\":[{\"automargin\":true,\"type\":\"pie\"}],\"scatter\":[{\"marker\":{\"colorbar\":{\"outlinewidth\":0,\"ticks\":\"\"}},\"type\":\"scatter\"}],\"scatter3d\":[{\"line\":{\"colorbar\":{\"outlinewidth\":0,\"ticks\":\"\"}},\"marker\":{\"colorbar\":{\"outlinewidth\":0,\"ticks\":\"\"}},\"type\":\"scatter3d\"}],\"scattercarpet\":[{\"marker\":{\"colorbar\":{\"outlinewidth\":0,\"ticks\":\"\"}},\"type\":\"scattercarpet\"}],\"scattergeo\":[{\"marker\":{\"colorbar\":{\"outlinewidth\":0,\"ticks\":\"\"}},\"type\":\"scattergeo\"}],\"scattergl\":[{\"marker\":{\"colorbar\":{\"outlinewidth\":0,\"ticks\":\"\"}},\"type\":\"scattergl\"}],\"scattermapbox\":[{\"marker\":{\"colorbar\":{\"outlinewidth\":0,\"ticks\":\"\"}},\"type\":\"scattermapbox\"}],\"scatterpolar\":[{\"marker\":{\"colorbar\":{\"outlinewidth\":0,\"ticks\":\"\"}},\"type\":\"scatterpolar\"}],\"scatterpolargl\":[{\"marker\":{\"colorbar\":{\"outlinewidth\":0,\"ticks\":\"\"}},\"type\":\"scatterpolargl\"}],\"scatterternary\":[{\"marker\":{\"colorbar\":{\"outlinewidth\":0,\"ticks\":\"\"}},\"type\":\"scatterternary\"}],\"surface\":[{\"colorbar\":{\"outlinewidth\":0,\"ticks\":\"\"},\"colorscale\":[[0.0,\"#0d0887\"],[0.1111111111111111,\"#46039f\"],[0.2222222222222222,\"#7201a8\"],[0.3333333333333333,\"#9c179e\"],[0.4444444444444444,\"#bd3786\"],[0.5555555555555556,\"#d8576b\"],[0.6666666666666666,\"#ed7953\"],[0.7777777777777778,\"#fb9f3a\"],[0.8888888888888888,\"#fdca26\"],[1.0,\"#f0f921\"]],\"type\":\"surface\"}],\"table\":[{\"cells\":{\"fill\":{\"color\":\"#EBF0F8\"},\"line\":{\"color\":\"white\"}},\"header\":{\"fill\":{\"color\":\"#C8D4E3\"},\"line\":{\"color\":\"white\"}},\"type\":\"table\"}]},\"layout\":{\"annotationdefaults\":{\"arrowcolor\":\"#2a3f5f\",\"arrowhead\":0,\"arrowwidth\":1},\"autotypenumbers\":\"strict\",\"coloraxis\":{\"colorbar\":{\"outlinewidth\":0,\"ticks\":\"\"}},\"colorscale\":{\"diverging\":[[0,\"#8e0152\"],[0.1,\"#c51b7d\"],[0.2,\"#de77ae\"],[0.3,\"#f1b6da\"],[0.4,\"#fde0ef\"],[0.5,\"#f7f7f7\"],[0.6,\"#e6f5d0\"],[0.7,\"#b8e186\"],[0.8,\"#7fbc41\"],[0.9,\"#4d9221\"],[1,\"#276419\"]],\"sequential\":[[0.0,\"#0d0887\"],[0.1111111111111111,\"#46039f\"],[0.2222222222222222,\"#7201a8\"],[0.3333333333333333,\"#9c179e\"],[0.4444444444444444,\"#bd3786\"],[0.5555555555555556,\"#d8576b\"],[0.6666666666666666,\"#ed7953\"],[0.7777777777777778,\"#fb9f3a\"],[0.8888888888888888,\"#fdca26\"],[1.0,\"#f0f921\"]],\"sequentialminus\":[[0.0,\"#0d0887\"],[0.1111111111111111,\"#46039f\"],[0.2222222222222222,\"#7201a8\"],[0.3333333333333333,\"#9c179e\"],[0.4444444444444444,\"#bd3786\"],[0.5555555555555556,\"#d8576b\"],[0.6666666666666666,\"#ed7953\"],[0.7777777777777778,\"#fb9f3a\"],[0.8888888888888888,\"#fdca26\"],[1.0,\"#f0f921\"]]},\"colorway\":[\"#636efa\",\"#EF553B\",\"#00cc96\",\"#ab63fa\",\"#FFA15A\",\"#19d3f3\",\"#FF6692\",\"#B6E880\",\"#FF97FF\",\"#FECB52\"],\"font\":{\"color\":\"#2a3f5f\"},\"geo\":{\"bgcolor\":\"white\",\"lakecolor\":\"white\",\"landcolor\":\"#E5ECF6\",\"showlakes\":true,\"showland\":true,\"subunitcolor\":\"white\"},\"hoverlabel\":{\"align\":\"left\"},\"hovermode\":\"closest\",\"mapbox\":{\"style\":\"light\"},\"paper_bgcolor\":\"white\",\"plot_bgcolor\":\"#E5ECF6\",\"polar\":{\"angularaxis\":{\"gridcolor\":\"white\",\"linecolor\":\"white\",\"ticks\":\"\"},\"bgcolor\":\"#E5ECF6\",\"radialaxis\":{\"gridcolor\":\"white\",\"linecolor\":\"white\",\"ticks\":\"\"}},\"scene\":{\"xaxis\":{\"backgroundcolor\":\"#E5ECF6\",\"gridcolor\":\"white\",\"gridwidth\":2,\"linecolor\":\"white\",\"showbackground\":true,\"ticks\":\"\",\"zerolinecolor\":\"white\"},\"yaxis\":{\"backgroundcolor\":\"#E5ECF6\",\"gridcolor\":\"white\",\"gridwidth\":2,\"linecolor\":\"white\",\"showbackground\":true,\"ticks\":\"\",\"zerolinecolor\":\"white\"},\"zaxis\":{\"backgroundcolor\":\"#E5ECF6\",\"gridcolor\":\"white\",\"gridwidth\":2,\"linecolor\":\"white\",\"showbackground\":true,\"ticks\":\"\",\"zerolinecolor\":\"white\"}},\"shapedefaults\":{\"line\":{\"color\":\"#2a3f5f\"}},\"ternary\":{\"aaxis\":{\"gridcolor\":\"white\",\"linecolor\":\"white\",\"ticks\":\"\"},\"baxis\":{\"gridcolor\":\"white\",\"linecolor\":\"white\",\"ticks\":\"\"},\"bgcolor\":\"#E5ECF6\",\"caxis\":{\"gridcolor\":\"white\",\"linecolor\":\"white\",\"ticks\":\"\"}},\"title\":{\"x\":0.05},\"xaxis\":{\"automargin\":true,\"gridcolor\":\"white\",\"linecolor\":\"white\",\"ticks\":\"\",\"title\":{\"standoff\":15},\"zerolinecolor\":\"white\",\"zerolinewidth\":2},\"yaxis\":{\"automargin\":true,\"gridcolor\":\"white\",\"linecolor\":\"white\",\"ticks\":\"\",\"title\":{\"standoff\":15},\"zerolinecolor\":\"white\",\"zerolinewidth\":2}}},\"xaxis\":{\"anchor\":\"y\",\"domain\":[0.0,0.45]},\"yaxis\":{\"anchor\":\"x\",\"domain\":[0.0,1.0]},\"xaxis2\":{\"anchor\":\"y2\",\"domain\":[0.55,1.0]},\"yaxis2\":{\"anchor\":\"x2\",\"domain\":[0.0,1.0]}},                        {\"responsive\": true}                    ).then(function(){\n",
              "                            \n",
              "var gd = document.getElementById('9a1fd493-593d-4587-b255-bc6dc1e1d95a');\n",
              "var x = new MutationObserver(function (mutations, observer) {{\n",
              "        var display = window.getComputedStyle(gd).display;\n",
              "        if (!display || display === 'none') {{\n",
              "            console.log([gd, 'removed!']);\n",
              "            Plotly.purge(gd);\n",
              "            observer.disconnect();\n",
              "        }}\n",
              "}});\n",
              "\n",
              "// Listen for the removal of the full notebook cells\n",
              "var notebookContainer = gd.closest('#notebook-container');\n",
              "if (notebookContainer) {{\n",
              "    x.observe(notebookContainer, {childList: true});\n",
              "}}\n",
              "\n",
              "// Listen for the clearing of the current output cell\n",
              "var outputEl = gd.closest('.output');\n",
              "if (outputEl) {{\n",
              "    x.observe(outputEl, {childList: true});\n",
              "}}\n",
              "\n",
              "                        })                };                            </script>        </div>\n",
              "</body>\n",
              "</html>"
            ]
          },
          "metadata": {}
        }
      ]
    },
    {
      "cell_type": "code",
      "source": [
        "df_movie.info()"
      ],
      "metadata": {
        "colab": {
          "base_uri": "https://localhost:8080/"
        },
        "id": "lMwWQqYvk7OJ",
        "outputId": "5a1b3d48-8cf3-4141-bc6a-1f70df79a635"
      },
      "execution_count": 29,
      "outputs": [
        {
          "output_type": "stream",
          "name": "stdout",
          "text": [
            "<class 'pandas.core.frame.DataFrame'>\n",
            "RangeIndex: 9515 entries, 0 to 9514\n",
            "Data columns (total 15 columns):\n",
            " #   Column           Non-Null Count  Dtype  \n",
            "---  ------           --------------  -----  \n",
            " 0   Title            9515 non-null   object \n",
            " 1   Year             9515 non-null   int64  \n",
            " 2   Age              5338 non-null   object \n",
            " 3   IMDb             9309 non-null   object \n",
            " 4   Rotten Tomatoes  9508 non-null   object \n",
            " 5   Netflix          9515 non-null   int64  \n",
            " 6   Hulu             9515 non-null   int64  \n",
            " 7   Prime Video      9515 non-null   int64  \n",
            " 8   Disney+          9515 non-null   int64  \n",
            " 9   Type             9515 non-null   int64  \n",
            " 10  Directors        9104 non-null   object \n",
            " 11  Genres           9399 non-null   object \n",
            " 12  Country          9261 non-null   object \n",
            " 13  Language         9202 non-null   object \n",
            " 14  Runtime          9196 non-null   float64\n",
            "dtypes: float64(1), int64(6), object(8)\n",
            "memory usage: 1.1+ MB\n"
          ]
        }
      ]
    },
    {
      "cell_type": "code",
      "source": [
        "df_tv.info()"
      ],
      "metadata": {
        "colab": {
          "base_uri": "https://localhost:8080/"
        },
        "id": "tpbBIhVtk9qj",
        "outputId": "bef2b603-9d20-4301-edf1-b48b9fc475da"
      },
      "execution_count": 30,
      "outputs": [
        {
          "output_type": "stream",
          "name": "stdout",
          "text": [
            "<class 'pandas.core.frame.DataFrame'>\n",
            "RangeIndex: 5368 entries, 0 to 5367\n",
            "Data columns (total 10 columns):\n",
            " #   Column           Non-Null Count  Dtype \n",
            "---  ------           --------------  ----- \n",
            " 0   Title            5368 non-null   object\n",
            " 1   Year             5368 non-null   int64 \n",
            " 2   Age              3241 non-null   object\n",
            " 3   IMDb             4406 non-null   object\n",
            " 4   Rotten Tomatoes  5368 non-null   object\n",
            " 5   Netflix          5368 non-null   int64 \n",
            " 6   Hulu             5368 non-null   int64 \n",
            " 7   Prime Video      5368 non-null   int64 \n",
            " 8   Disney+          5368 non-null   int64 \n",
            " 9   Type             5368 non-null   int64 \n",
            "dtypes: int64(6), object(4)\n",
            "memory usage: 419.5+ KB\n"
          ]
        }
      ]
    },
    {
      "cell_type": "code",
      "source": [
        "df_movie['IMDb'] = df_movie['IMDb'].str.split('/').str[0]\n",
        "df_movie['Rotten Tomatoes'] = df_movie['Rotten Tomatoes'].str.split('/').str[0]\n",
        "df_tv['IMDb'] = df_tv['IMDb'].str.split('/').str[0]\n",
        "df_tv['Rotten Tomatoes'] = df_tv['Rotten Tomatoes'].str.split('/').str[0]"
      ],
      "metadata": {
        "id": "4iM7rjYCkxzp"
      },
      "execution_count": 31,
      "outputs": []
    },
    {
      "cell_type": "code",
      "source": [
        "def sunburst(dataframe,platform,c):\n",
        "    dataframe=dataframe.loc[dataframe[platform] == 1]\n",
        "    dataframe=dataframe.sort_values(by='IMDb', ascending=False)\n",
        "    rating = dataframe[0:10]\n",
        "    fig =px.sunburst(\n",
        "    rating,\n",
        "    path=['Title','Genres'],\n",
        "    values='IMDb',\n",
        "    color='IMDb',\n",
        "    color_continuous_scale=c)\n",
        "    fig.show()"
      ],
      "metadata": {
        "id": "tYhs7N3tlenr"
      },
      "execution_count": 32,
      "outputs": []
    },
    {
      "cell_type": "code",
      "source": [
        "sunburst(df_movie,'Netflix','amp')"
      ],
      "metadata": {
        "colab": {
          "base_uri": "https://localhost:8080/",
          "height": 542
        },
        "id": "OYokFWrNlf4M",
        "outputId": "5fc5883b-ae0e-43e6-e141-0d0a63161ab1"
      },
      "execution_count": 33,
      "outputs": [
        {
          "output_type": "display_data",
          "data": {
            "text/html": [
              "<html>\n",
              "<head><meta charset=\"utf-8\" /></head>\n",
              "<body>\n",
              "    <div>            <script src=\"https://cdnjs.cloudflare.com/ajax/libs/mathjax/2.7.5/MathJax.js?config=TeX-AMS-MML_SVG\"></script><script type=\"text/javascript\">if (window.MathJax) {MathJax.Hub.Config({SVG: {font: \"STIX-Web\"}});}</script>                <script type=\"text/javascript\">window.PlotlyConfig = {MathJaxConfig: 'local'};</script>\n",
              "        <script src=\"https://cdn.plot.ly/plotly-2.8.3.min.js\"></script>                <div id=\"304b222f-1283-4e3a-99da-ec04596b3672\" class=\"plotly-graph-div\" style=\"height:525px; width:100%;\"></div>            <script type=\"text/javascript\">                                    window.PLOTLYENV=window.PLOTLYENV || {};                                    if (document.getElementById(\"304b222f-1283-4e3a-99da-ec04596b3672\")) {                    Plotly.newPlot(                        \"304b222f-1283-4e3a-99da-ec04596b3672\",                        [{\"branchvalues\":\"total\",\"customdata\":[[9.0],[8.9],[8.8],[8.9],[8.9],[8.8],[9.0],[8.6],[8.7],[9.0],[8.9],[8.6],[8.8],[8.9],[9.0],[9.0],[8.9],[9.0],[8.8],[8.7]],\"domain\":{\"x\":[0.0,1.0],\"y\":[0.0,1.0]},\"hovertemplate\":\"labels=%{label}<br>IMDb_sum=%{value}<br>parent=%{parent}<br>id=%{id}<br>IMDb=%{color}<extra></extra>\",\"ids\":[\"No Longer kids/Comedy\",\"Bye Bye London/Comedy,Drama\",\"Bo Burnham: Inside/Comedy,Drama,Music\",\"7 Yards: The Chris Norton Story/Documentary\",\"In Our Mothers' Gardens/Documentary\",\"Rubaru Roshni/Documentary\",\"David Attenborough: A Life on Our Planet/Documentary,Biography\",\"Bill Hicks: Relentless/Documentary,Comedy\",\"Sky Tour: The Movie/Documentary,Music\",\"C/o Kancharapalem/Drama\",\"7 Yards: The Chris Norton Story\",\"Bill Hicks: Relentless\",\"Bo Burnham: Inside\",\"Bye Bye London\",\"C/o Kancharapalem\",\"David Attenborough: A Life on Our Planet\",\"In Our Mothers' Gardens\",\"No Longer kids\",\"Rubaru Roshni\",\"Sky Tour: The Movie\"],\"labels\":[\"Comedy\",\"Comedy,Drama\",\"Comedy,Drama,Music\",\"Documentary\",\"Documentary\",\"Documentary\",\"Documentary,Biography\",\"Documentary,Comedy\",\"Documentary,Music\",\"Drama\",\"7 Yards: The Chris Norton Story\",\"Bill Hicks: Relentless\",\"Bo Burnham: Inside\",\"Bye Bye London\",\"C/o Kancharapalem\",\"David Attenborough: A Life on Our Planet\",\"In Our Mothers' Gardens\",\"No Longer kids\",\"Rubaru Roshni\",\"Sky Tour: The Movie\"],\"marker\":{\"coloraxis\":\"coloraxis\",\"colors\":[9.0,8.9,8.8,8.9,8.9,8.8,9.0,8.6,8.7,9.0,8.9,8.6,8.8,8.9,9.0,9.0,8.9,9.0,8.8,8.7]},\"name\":\"\",\"parents\":[\"No Longer kids\",\"Bye Bye London\",\"Bo Burnham: Inside\",\"7 Yards: The Chris Norton Story\",\"In Our Mothers' Gardens\",\"Rubaru Roshni\",\"David Attenborough: A Life on Our Planet\",\"Bill Hicks: Relentless\",\"Sky Tour: The Movie\",\"C/o Kancharapalem\",\"\",\"\",\"\",\"\",\"\",\"\",\"\",\"\",\"\",\"\"],\"values\":[9.0,8.9,8.8,8.9,8.9,8.8,9.0,8.6,8.7,9.0,8.9,8.6,8.8,8.9,9.0,9.0,8.9,9.0,8.8,8.7],\"type\":\"sunburst\"}],                        {\"template\":{\"data\":{\"bar\":[{\"error_x\":{\"color\":\"#2a3f5f\"},\"error_y\":{\"color\":\"#2a3f5f\"},\"marker\":{\"line\":{\"color\":\"#E5ECF6\",\"width\":0.5},\"pattern\":{\"fillmode\":\"overlay\",\"size\":10,\"solidity\":0.2}},\"type\":\"bar\"}],\"barpolar\":[{\"marker\":{\"line\":{\"color\":\"#E5ECF6\",\"width\":0.5},\"pattern\":{\"fillmode\":\"overlay\",\"size\":10,\"solidity\":0.2}},\"type\":\"barpolar\"}],\"carpet\":[{\"aaxis\":{\"endlinecolor\":\"#2a3f5f\",\"gridcolor\":\"white\",\"linecolor\":\"white\",\"minorgridcolor\":\"white\",\"startlinecolor\":\"#2a3f5f\"},\"baxis\":{\"endlinecolor\":\"#2a3f5f\",\"gridcolor\":\"white\",\"linecolor\":\"white\",\"minorgridcolor\":\"white\",\"startlinecolor\":\"#2a3f5f\"},\"type\":\"carpet\"}],\"choropleth\":[{\"colorbar\":{\"outlinewidth\":0,\"ticks\":\"\"},\"type\":\"choropleth\"}],\"contour\":[{\"colorbar\":{\"outlinewidth\":0,\"ticks\":\"\"},\"colorscale\":[[0.0,\"#0d0887\"],[0.1111111111111111,\"#46039f\"],[0.2222222222222222,\"#7201a8\"],[0.3333333333333333,\"#9c179e\"],[0.4444444444444444,\"#bd3786\"],[0.5555555555555556,\"#d8576b\"],[0.6666666666666666,\"#ed7953\"],[0.7777777777777778,\"#fb9f3a\"],[0.8888888888888888,\"#fdca26\"],[1.0,\"#f0f921\"]],\"type\":\"contour\"}],\"contourcarpet\":[{\"colorbar\":{\"outlinewidth\":0,\"ticks\":\"\"},\"type\":\"contourcarpet\"}],\"heatmap\":[{\"colorbar\":{\"outlinewidth\":0,\"ticks\":\"\"},\"colorscale\":[[0.0,\"#0d0887\"],[0.1111111111111111,\"#46039f\"],[0.2222222222222222,\"#7201a8\"],[0.3333333333333333,\"#9c179e\"],[0.4444444444444444,\"#bd3786\"],[0.5555555555555556,\"#d8576b\"],[0.6666666666666666,\"#ed7953\"],[0.7777777777777778,\"#fb9f3a\"],[0.8888888888888888,\"#fdca26\"],[1.0,\"#f0f921\"]],\"type\":\"heatmap\"}],\"heatmapgl\":[{\"colorbar\":{\"outlinewidth\":0,\"ticks\":\"\"},\"colorscale\":[[0.0,\"#0d0887\"],[0.1111111111111111,\"#46039f\"],[0.2222222222222222,\"#7201a8\"],[0.3333333333333333,\"#9c179e\"],[0.4444444444444444,\"#bd3786\"],[0.5555555555555556,\"#d8576b\"],[0.6666666666666666,\"#ed7953\"],[0.7777777777777778,\"#fb9f3a\"],[0.8888888888888888,\"#fdca26\"],[1.0,\"#f0f921\"]],\"type\":\"heatmapgl\"}],\"histogram\":[{\"marker\":{\"pattern\":{\"fillmode\":\"overlay\",\"size\":10,\"solidity\":0.2}},\"type\":\"histogram\"}],\"histogram2d\":[{\"colorbar\":{\"outlinewidth\":0,\"ticks\":\"\"},\"colorscale\":[[0.0,\"#0d0887\"],[0.1111111111111111,\"#46039f\"],[0.2222222222222222,\"#7201a8\"],[0.3333333333333333,\"#9c179e\"],[0.4444444444444444,\"#bd3786\"],[0.5555555555555556,\"#d8576b\"],[0.6666666666666666,\"#ed7953\"],[0.7777777777777778,\"#fb9f3a\"],[0.8888888888888888,\"#fdca26\"],[1.0,\"#f0f921\"]],\"type\":\"histogram2d\"}],\"histogram2dcontour\":[{\"colorbar\":{\"outlinewidth\":0,\"ticks\":\"\"},\"colorscale\":[[0.0,\"#0d0887\"],[0.1111111111111111,\"#46039f\"],[0.2222222222222222,\"#7201a8\"],[0.3333333333333333,\"#9c179e\"],[0.4444444444444444,\"#bd3786\"],[0.5555555555555556,\"#d8576b\"],[0.6666666666666666,\"#ed7953\"],[0.7777777777777778,\"#fb9f3a\"],[0.8888888888888888,\"#fdca26\"],[1.0,\"#f0f921\"]],\"type\":\"histogram2dcontour\"}],\"mesh3d\":[{\"colorbar\":{\"outlinewidth\":0,\"ticks\":\"\"},\"type\":\"mesh3d\"}],\"parcoords\":[{\"line\":{\"colorbar\":{\"outlinewidth\":0,\"ticks\":\"\"}},\"type\":\"parcoords\"}],\"pie\":[{\"automargin\":true,\"type\":\"pie\"}],\"scatter\":[{\"marker\":{\"colorbar\":{\"outlinewidth\":0,\"ticks\":\"\"}},\"type\":\"scatter\"}],\"scatter3d\":[{\"line\":{\"colorbar\":{\"outlinewidth\":0,\"ticks\":\"\"}},\"marker\":{\"colorbar\":{\"outlinewidth\":0,\"ticks\":\"\"}},\"type\":\"scatter3d\"}],\"scattercarpet\":[{\"marker\":{\"colorbar\":{\"outlinewidth\":0,\"ticks\":\"\"}},\"type\":\"scattercarpet\"}],\"scattergeo\":[{\"marker\":{\"colorbar\":{\"outlinewidth\":0,\"ticks\":\"\"}},\"type\":\"scattergeo\"}],\"scattergl\":[{\"marker\":{\"colorbar\":{\"outlinewidth\":0,\"ticks\":\"\"}},\"type\":\"scattergl\"}],\"scattermapbox\":[{\"marker\":{\"colorbar\":{\"outlinewidth\":0,\"ticks\":\"\"}},\"type\":\"scattermapbox\"}],\"scatterpolar\":[{\"marker\":{\"colorbar\":{\"outlinewidth\":0,\"ticks\":\"\"}},\"type\":\"scatterpolar\"}],\"scatterpolargl\":[{\"marker\":{\"colorbar\":{\"outlinewidth\":0,\"ticks\":\"\"}},\"type\":\"scatterpolargl\"}],\"scatterternary\":[{\"marker\":{\"colorbar\":{\"outlinewidth\":0,\"ticks\":\"\"}},\"type\":\"scatterternary\"}],\"surface\":[{\"colorbar\":{\"outlinewidth\":0,\"ticks\":\"\"},\"colorscale\":[[0.0,\"#0d0887\"],[0.1111111111111111,\"#46039f\"],[0.2222222222222222,\"#7201a8\"],[0.3333333333333333,\"#9c179e\"],[0.4444444444444444,\"#bd3786\"],[0.5555555555555556,\"#d8576b\"],[0.6666666666666666,\"#ed7953\"],[0.7777777777777778,\"#fb9f3a\"],[0.8888888888888888,\"#fdca26\"],[1.0,\"#f0f921\"]],\"type\":\"surface\"}],\"table\":[{\"cells\":{\"fill\":{\"color\":\"#EBF0F8\"},\"line\":{\"color\":\"white\"}},\"header\":{\"fill\":{\"color\":\"#C8D4E3\"},\"line\":{\"color\":\"white\"}},\"type\":\"table\"}]},\"layout\":{\"annotationdefaults\":{\"arrowcolor\":\"#2a3f5f\",\"arrowhead\":0,\"arrowwidth\":1},\"autotypenumbers\":\"strict\",\"coloraxis\":{\"colorbar\":{\"outlinewidth\":0,\"ticks\":\"\"}},\"colorscale\":{\"diverging\":[[0,\"#8e0152\"],[0.1,\"#c51b7d\"],[0.2,\"#de77ae\"],[0.3,\"#f1b6da\"],[0.4,\"#fde0ef\"],[0.5,\"#f7f7f7\"],[0.6,\"#e6f5d0\"],[0.7,\"#b8e186\"],[0.8,\"#7fbc41\"],[0.9,\"#4d9221\"],[1,\"#276419\"]],\"sequential\":[[0.0,\"#0d0887\"],[0.1111111111111111,\"#46039f\"],[0.2222222222222222,\"#7201a8\"],[0.3333333333333333,\"#9c179e\"],[0.4444444444444444,\"#bd3786\"],[0.5555555555555556,\"#d8576b\"],[0.6666666666666666,\"#ed7953\"],[0.7777777777777778,\"#fb9f3a\"],[0.8888888888888888,\"#fdca26\"],[1.0,\"#f0f921\"]],\"sequentialminus\":[[0.0,\"#0d0887\"],[0.1111111111111111,\"#46039f\"],[0.2222222222222222,\"#7201a8\"],[0.3333333333333333,\"#9c179e\"],[0.4444444444444444,\"#bd3786\"],[0.5555555555555556,\"#d8576b\"],[0.6666666666666666,\"#ed7953\"],[0.7777777777777778,\"#fb9f3a\"],[0.8888888888888888,\"#fdca26\"],[1.0,\"#f0f921\"]]},\"colorway\":[\"#636efa\",\"#EF553B\",\"#00cc96\",\"#ab63fa\",\"#FFA15A\",\"#19d3f3\",\"#FF6692\",\"#B6E880\",\"#FF97FF\",\"#FECB52\"],\"font\":{\"color\":\"#2a3f5f\"},\"geo\":{\"bgcolor\":\"white\",\"lakecolor\":\"white\",\"landcolor\":\"#E5ECF6\",\"showlakes\":true,\"showland\":true,\"subunitcolor\":\"white\"},\"hoverlabel\":{\"align\":\"left\"},\"hovermode\":\"closest\",\"mapbox\":{\"style\":\"light\"},\"paper_bgcolor\":\"white\",\"plot_bgcolor\":\"#E5ECF6\",\"polar\":{\"angularaxis\":{\"gridcolor\":\"white\",\"linecolor\":\"white\",\"ticks\":\"\"},\"bgcolor\":\"#E5ECF6\",\"radialaxis\":{\"gridcolor\":\"white\",\"linecolor\":\"white\",\"ticks\":\"\"}},\"scene\":{\"xaxis\":{\"backgroundcolor\":\"#E5ECF6\",\"gridcolor\":\"white\",\"gridwidth\":2,\"linecolor\":\"white\",\"showbackground\":true,\"ticks\":\"\",\"zerolinecolor\":\"white\"},\"yaxis\":{\"backgroundcolor\":\"#E5ECF6\",\"gridcolor\":\"white\",\"gridwidth\":2,\"linecolor\":\"white\",\"showbackground\":true,\"ticks\":\"\",\"zerolinecolor\":\"white\"},\"zaxis\":{\"backgroundcolor\":\"#E5ECF6\",\"gridcolor\":\"white\",\"gridwidth\":2,\"linecolor\":\"white\",\"showbackground\":true,\"ticks\":\"\",\"zerolinecolor\":\"white\"}},\"shapedefaults\":{\"line\":{\"color\":\"#2a3f5f\"}},\"ternary\":{\"aaxis\":{\"gridcolor\":\"white\",\"linecolor\":\"white\",\"ticks\":\"\"},\"baxis\":{\"gridcolor\":\"white\",\"linecolor\":\"white\",\"ticks\":\"\"},\"bgcolor\":\"#E5ECF6\",\"caxis\":{\"gridcolor\":\"white\",\"linecolor\":\"white\",\"ticks\":\"\"}},\"title\":{\"x\":0.05},\"xaxis\":{\"automargin\":true,\"gridcolor\":\"white\",\"linecolor\":\"white\",\"ticks\":\"\",\"title\":{\"standoff\":15},\"zerolinecolor\":\"white\",\"zerolinewidth\":2},\"yaxis\":{\"automargin\":true,\"gridcolor\":\"white\",\"linecolor\":\"white\",\"ticks\":\"\",\"title\":{\"standoff\":15},\"zerolinecolor\":\"white\",\"zerolinewidth\":2}}},\"coloraxis\":{\"colorbar\":{\"title\":{\"text\":\"IMDb\"}},\"colorscale\":[[0.0,\"rgb(241, 236, 236)\"],[0.09090909090909091,\"rgb(230, 209, 203)\"],[0.18181818181818182,\"rgb(221, 182, 170)\"],[0.2727272727272727,\"rgb(213, 156, 137)\"],[0.36363636363636365,\"rgb(205, 129, 103)\"],[0.45454545454545453,\"rgb(196, 102, 73)\"],[0.5454545454545454,\"rgb(186, 74, 47)\"],[0.6363636363636364,\"rgb(172, 44, 36)\"],[0.7272727272727273,\"rgb(149, 19, 39)\"],[0.8181818181818182,\"rgb(120, 14, 40)\"],[0.9090909090909091,\"rgb(89, 13, 31)\"],[1.0,\"rgb(60, 9, 17)\"]]},\"legend\":{\"tracegroupgap\":0},\"margin\":{\"t\":60}},                        {\"responsive\": true}                    ).then(function(){\n",
              "                            \n",
              "var gd = document.getElementById('304b222f-1283-4e3a-99da-ec04596b3672');\n",
              "var x = new MutationObserver(function (mutations, observer) {{\n",
              "        var display = window.getComputedStyle(gd).display;\n",
              "        if (!display || display === 'none') {{\n",
              "            console.log([gd, 'removed!']);\n",
              "            Plotly.purge(gd);\n",
              "            observer.disconnect();\n",
              "        }}\n",
              "}});\n",
              "\n",
              "// Listen for the removal of the full notebook cells\n",
              "var notebookContainer = gd.closest('#notebook-container');\n",
              "if (notebookContainer) {{\n",
              "    x.observe(notebookContainer, {childList: true});\n",
              "}}\n",
              "\n",
              "// Listen for the clearing of the current output cell\n",
              "var outputEl = gd.closest('.output');\n",
              "if (outputEl) {{\n",
              "    x.observe(outputEl, {childList: true});\n",
              "}}\n",
              "\n",
              "                        })                };                            </script>        </div>\n",
              "</body>\n",
              "</html>"
            ]
          },
          "metadata": {}
        }
      ]
    },
    {
      "cell_type": "code",
      "source": [
        "sunburst(df_movie,'Hulu','Blugrn')"
      ],
      "metadata": {
        "colab": {
          "base_uri": "https://localhost:8080/",
          "height": 542
        },
        "id": "ohuu_eNFpNFD",
        "outputId": "2a41aeac-58f6-47de-e92a-620f1a648a4a"
      },
      "execution_count": 35,
      "outputs": [
        {
          "output_type": "display_data",
          "data": {
            "text/html": [
              "<html>\n",
              "<head><meta charset=\"utf-8\" /></head>\n",
              "<body>\n",
              "    <div>            <script src=\"https://cdnjs.cloudflare.com/ajax/libs/mathjax/2.7.5/MathJax.js?config=TeX-AMS-MML_SVG\"></script><script type=\"text/javascript\">if (window.MathJax) {MathJax.Hub.Config({SVG: {font: \"STIX-Web\"}});}</script>                <script type=\"text/javascript\">window.PlotlyConfig = {MathJaxConfig: 'local'};</script>\n",
              "        <script src=\"https://cdn.plot.ly/plotly-2.8.3.min.js\"></script>                <div id=\"2f991390-ac5e-4462-8d8e-f01cf4fb6cc1\" class=\"plotly-graph-div\" style=\"height:525px; width:100%;\"></div>            <script type=\"text/javascript\">                                    window.PLOTLYENV=window.PLOTLYENV || {};                                    if (document.getElementById(\"2f991390-ac5e-4462-8d8e-f01cf4fb6cc1\")) {                    Plotly.newPlot(                        \"2f991390-ac5e-4462-8d8e-f01cf4fb6cc1\",                        [{\"branchvalues\":\"total\",\"customdata\":[[8.2],[9.0],[8.6],[8.2],[8.3],[8.2],[8.3],[8.2],[8.5],[8.5],[8.2],[8.2],[8.3],[8.5],[8.5],[8.6],[8.2],[8.3],[8.2],[9.0]],\"domain\":{\"x\":[0.0,1.0],\"y\":[0.0,1.0]},\"hovertemplate\":\"labels=%{label}<br>IMDb_sum=%{value}<br>parent=%{parent}<br>id=%{id}<br>IMDb=%{color}<extra></extra>\",\"ids\":[\"Batman Begins/Action,Adventure\",\"The Dark Knight/Action,Crime,Drama,Thriller\",\"Parasite/Comedy,Drama,Thriller\",\"Collective/Documentary\",\"Derek DelGaudio's In & of Itself/Documentary\",\"The Act of Killing/Documentary,Biography,Crime,History,War\",\"Summer of Soul (...or, When the Revolution Could Not Be Televised)/Documentary,Music\",\"Soul on Ice: Past, Present and Future/Documentary,Sport\",\"Olympic Dreams Featuring Jonas Brothers/Sport\",\"Once Upon a Time in the West/Western\",\"Batman Begins\",\"Collective\",\"Derek DelGaudio's In & of Itself\",\"Olympic Dreams Featuring Jonas Brothers\",\"Once Upon a Time in the West\",\"Parasite\",\"Soul on Ice: Past, Present and Future\",\"Summer of Soul (...or, When the Revolution Could Not Be Televised)\",\"The Act of Killing\",\"The Dark Knight\"],\"labels\":[\"Action,Adventure\",\"Action,Crime,Drama,Thriller\",\"Comedy,Drama,Thriller\",\"Documentary\",\"Documentary\",\"Documentary,Biography,Crime,History,War\",\"Documentary,Music\",\"Documentary,Sport\",\"Sport\",\"Western\",\"Batman Begins\",\"Collective\",\"Derek DelGaudio's In & of Itself\",\"Olympic Dreams Featuring Jonas Brothers\",\"Once Upon a Time in the West\",\"Parasite\",\"Soul on Ice: Past, Present and Future\",\"Summer of Soul (...or, When the Revolution Could Not Be Televised)\",\"The Act of Killing\",\"The Dark Knight\"],\"marker\":{\"coloraxis\":\"coloraxis\",\"colors\":[8.2,9.0,8.6,8.2,8.3,8.2,8.3,8.2,8.5,8.5,8.2,8.2,8.3,8.5,8.5,8.6,8.2,8.3,8.2,9.0]},\"name\":\"\",\"parents\":[\"Batman Begins\",\"The Dark Knight\",\"Parasite\",\"Collective\",\"Derek DelGaudio's In & of Itself\",\"The Act of Killing\",\"Summer of Soul (...or, When the Revolution Could Not Be Televised)\",\"Soul on Ice: Past, Present and Future\",\"Olympic Dreams Featuring Jonas Brothers\",\"Once Upon a Time in the West\",\"\",\"\",\"\",\"\",\"\",\"\",\"\",\"\",\"\",\"\"],\"values\":[8.2,9.0,8.6,8.2,8.3,8.2,8.3,8.2,8.5,8.5,8.2,8.2,8.3,8.5,8.5,8.6,8.2,8.3,8.2,9.0],\"type\":\"sunburst\"}],                        {\"template\":{\"data\":{\"bar\":[{\"error_x\":{\"color\":\"#2a3f5f\"},\"error_y\":{\"color\":\"#2a3f5f\"},\"marker\":{\"line\":{\"color\":\"#E5ECF6\",\"width\":0.5},\"pattern\":{\"fillmode\":\"overlay\",\"size\":10,\"solidity\":0.2}},\"type\":\"bar\"}],\"barpolar\":[{\"marker\":{\"line\":{\"color\":\"#E5ECF6\",\"width\":0.5},\"pattern\":{\"fillmode\":\"overlay\",\"size\":10,\"solidity\":0.2}},\"type\":\"barpolar\"}],\"carpet\":[{\"aaxis\":{\"endlinecolor\":\"#2a3f5f\",\"gridcolor\":\"white\",\"linecolor\":\"white\",\"minorgridcolor\":\"white\",\"startlinecolor\":\"#2a3f5f\"},\"baxis\":{\"endlinecolor\":\"#2a3f5f\",\"gridcolor\":\"white\",\"linecolor\":\"white\",\"minorgridcolor\":\"white\",\"startlinecolor\":\"#2a3f5f\"},\"type\":\"carpet\"}],\"choropleth\":[{\"colorbar\":{\"outlinewidth\":0,\"ticks\":\"\"},\"type\":\"choropleth\"}],\"contour\":[{\"colorbar\":{\"outlinewidth\":0,\"ticks\":\"\"},\"colorscale\":[[0.0,\"#0d0887\"],[0.1111111111111111,\"#46039f\"],[0.2222222222222222,\"#7201a8\"],[0.3333333333333333,\"#9c179e\"],[0.4444444444444444,\"#bd3786\"],[0.5555555555555556,\"#d8576b\"],[0.6666666666666666,\"#ed7953\"],[0.7777777777777778,\"#fb9f3a\"],[0.8888888888888888,\"#fdca26\"],[1.0,\"#f0f921\"]],\"type\":\"contour\"}],\"contourcarpet\":[{\"colorbar\":{\"outlinewidth\":0,\"ticks\":\"\"},\"type\":\"contourcarpet\"}],\"heatmap\":[{\"colorbar\":{\"outlinewidth\":0,\"ticks\":\"\"},\"colorscale\":[[0.0,\"#0d0887\"],[0.1111111111111111,\"#46039f\"],[0.2222222222222222,\"#7201a8\"],[0.3333333333333333,\"#9c179e\"],[0.4444444444444444,\"#bd3786\"],[0.5555555555555556,\"#d8576b\"],[0.6666666666666666,\"#ed7953\"],[0.7777777777777778,\"#fb9f3a\"],[0.8888888888888888,\"#fdca26\"],[1.0,\"#f0f921\"]],\"type\":\"heatmap\"}],\"heatmapgl\":[{\"colorbar\":{\"outlinewidth\":0,\"ticks\":\"\"},\"colorscale\":[[0.0,\"#0d0887\"],[0.1111111111111111,\"#46039f\"],[0.2222222222222222,\"#7201a8\"],[0.3333333333333333,\"#9c179e\"],[0.4444444444444444,\"#bd3786\"],[0.5555555555555556,\"#d8576b\"],[0.6666666666666666,\"#ed7953\"],[0.7777777777777778,\"#fb9f3a\"],[0.8888888888888888,\"#fdca26\"],[1.0,\"#f0f921\"]],\"type\":\"heatmapgl\"}],\"histogram\":[{\"marker\":{\"pattern\":{\"fillmode\":\"overlay\",\"size\":10,\"solidity\":0.2}},\"type\":\"histogram\"}],\"histogram2d\":[{\"colorbar\":{\"outlinewidth\":0,\"ticks\":\"\"},\"colorscale\":[[0.0,\"#0d0887\"],[0.1111111111111111,\"#46039f\"],[0.2222222222222222,\"#7201a8\"],[0.3333333333333333,\"#9c179e\"],[0.4444444444444444,\"#bd3786\"],[0.5555555555555556,\"#d8576b\"],[0.6666666666666666,\"#ed7953\"],[0.7777777777777778,\"#fb9f3a\"],[0.8888888888888888,\"#fdca26\"],[1.0,\"#f0f921\"]],\"type\":\"histogram2d\"}],\"histogram2dcontour\":[{\"colorbar\":{\"outlinewidth\":0,\"ticks\":\"\"},\"colorscale\":[[0.0,\"#0d0887\"],[0.1111111111111111,\"#46039f\"],[0.2222222222222222,\"#7201a8\"],[0.3333333333333333,\"#9c179e\"],[0.4444444444444444,\"#bd3786\"],[0.5555555555555556,\"#d8576b\"],[0.6666666666666666,\"#ed7953\"],[0.7777777777777778,\"#fb9f3a\"],[0.8888888888888888,\"#fdca26\"],[1.0,\"#f0f921\"]],\"type\":\"histogram2dcontour\"}],\"mesh3d\":[{\"colorbar\":{\"outlinewidth\":0,\"ticks\":\"\"},\"type\":\"mesh3d\"}],\"parcoords\":[{\"line\":{\"colorbar\":{\"outlinewidth\":0,\"ticks\":\"\"}},\"type\":\"parcoords\"}],\"pie\":[{\"automargin\":true,\"type\":\"pie\"}],\"scatter\":[{\"marker\":{\"colorbar\":{\"outlinewidth\":0,\"ticks\":\"\"}},\"type\":\"scatter\"}],\"scatter3d\":[{\"line\":{\"colorbar\":{\"outlinewidth\":0,\"ticks\":\"\"}},\"marker\":{\"colorbar\":{\"outlinewidth\":0,\"ticks\":\"\"}},\"type\":\"scatter3d\"}],\"scattercarpet\":[{\"marker\":{\"colorbar\":{\"outlinewidth\":0,\"ticks\":\"\"}},\"type\":\"scattercarpet\"}],\"scattergeo\":[{\"marker\":{\"colorbar\":{\"outlinewidth\":0,\"ticks\":\"\"}},\"type\":\"scattergeo\"}],\"scattergl\":[{\"marker\":{\"colorbar\":{\"outlinewidth\":0,\"ticks\":\"\"}},\"type\":\"scattergl\"}],\"scattermapbox\":[{\"marker\":{\"colorbar\":{\"outlinewidth\":0,\"ticks\":\"\"}},\"type\":\"scattermapbox\"}],\"scatterpolar\":[{\"marker\":{\"colorbar\":{\"outlinewidth\":0,\"ticks\":\"\"}},\"type\":\"scatterpolar\"}],\"scatterpolargl\":[{\"marker\":{\"colorbar\":{\"outlinewidth\":0,\"ticks\":\"\"}},\"type\":\"scatterpolargl\"}],\"scatterternary\":[{\"marker\":{\"colorbar\":{\"outlinewidth\":0,\"ticks\":\"\"}},\"type\":\"scatterternary\"}],\"surface\":[{\"colorbar\":{\"outlinewidth\":0,\"ticks\":\"\"},\"colorscale\":[[0.0,\"#0d0887\"],[0.1111111111111111,\"#46039f\"],[0.2222222222222222,\"#7201a8\"],[0.3333333333333333,\"#9c179e\"],[0.4444444444444444,\"#bd3786\"],[0.5555555555555556,\"#d8576b\"],[0.6666666666666666,\"#ed7953\"],[0.7777777777777778,\"#fb9f3a\"],[0.8888888888888888,\"#fdca26\"],[1.0,\"#f0f921\"]],\"type\":\"surface\"}],\"table\":[{\"cells\":{\"fill\":{\"color\":\"#EBF0F8\"},\"line\":{\"color\":\"white\"}},\"header\":{\"fill\":{\"color\":\"#C8D4E3\"},\"line\":{\"color\":\"white\"}},\"type\":\"table\"}]},\"layout\":{\"annotationdefaults\":{\"arrowcolor\":\"#2a3f5f\",\"arrowhead\":0,\"arrowwidth\":1},\"autotypenumbers\":\"strict\",\"coloraxis\":{\"colorbar\":{\"outlinewidth\":0,\"ticks\":\"\"}},\"colorscale\":{\"diverging\":[[0,\"#8e0152\"],[0.1,\"#c51b7d\"],[0.2,\"#de77ae\"],[0.3,\"#f1b6da\"],[0.4,\"#fde0ef\"],[0.5,\"#f7f7f7\"],[0.6,\"#e6f5d0\"],[0.7,\"#b8e186\"],[0.8,\"#7fbc41\"],[0.9,\"#4d9221\"],[1,\"#276419\"]],\"sequential\":[[0.0,\"#0d0887\"],[0.1111111111111111,\"#46039f\"],[0.2222222222222222,\"#7201a8\"],[0.3333333333333333,\"#9c179e\"],[0.4444444444444444,\"#bd3786\"],[0.5555555555555556,\"#d8576b\"],[0.6666666666666666,\"#ed7953\"],[0.7777777777777778,\"#fb9f3a\"],[0.8888888888888888,\"#fdca26\"],[1.0,\"#f0f921\"]],\"sequentialminus\":[[0.0,\"#0d0887\"],[0.1111111111111111,\"#46039f\"],[0.2222222222222222,\"#7201a8\"],[0.3333333333333333,\"#9c179e\"],[0.4444444444444444,\"#bd3786\"],[0.5555555555555556,\"#d8576b\"],[0.6666666666666666,\"#ed7953\"],[0.7777777777777778,\"#fb9f3a\"],[0.8888888888888888,\"#fdca26\"],[1.0,\"#f0f921\"]]},\"colorway\":[\"#636efa\",\"#EF553B\",\"#00cc96\",\"#ab63fa\",\"#FFA15A\",\"#19d3f3\",\"#FF6692\",\"#B6E880\",\"#FF97FF\",\"#FECB52\"],\"font\":{\"color\":\"#2a3f5f\"},\"geo\":{\"bgcolor\":\"white\",\"lakecolor\":\"white\",\"landcolor\":\"#E5ECF6\",\"showlakes\":true,\"showland\":true,\"subunitcolor\":\"white\"},\"hoverlabel\":{\"align\":\"left\"},\"hovermode\":\"closest\",\"mapbox\":{\"style\":\"light\"},\"paper_bgcolor\":\"white\",\"plot_bgcolor\":\"#E5ECF6\",\"polar\":{\"angularaxis\":{\"gridcolor\":\"white\",\"linecolor\":\"white\",\"ticks\":\"\"},\"bgcolor\":\"#E5ECF6\",\"radialaxis\":{\"gridcolor\":\"white\",\"linecolor\":\"white\",\"ticks\":\"\"}},\"scene\":{\"xaxis\":{\"backgroundcolor\":\"#E5ECF6\",\"gridcolor\":\"white\",\"gridwidth\":2,\"linecolor\":\"white\",\"showbackground\":true,\"ticks\":\"\",\"zerolinecolor\":\"white\"},\"yaxis\":{\"backgroundcolor\":\"#E5ECF6\",\"gridcolor\":\"white\",\"gridwidth\":2,\"linecolor\":\"white\",\"showbackground\":true,\"ticks\":\"\",\"zerolinecolor\":\"white\"},\"zaxis\":{\"backgroundcolor\":\"#E5ECF6\",\"gridcolor\":\"white\",\"gridwidth\":2,\"linecolor\":\"white\",\"showbackground\":true,\"ticks\":\"\",\"zerolinecolor\":\"white\"}},\"shapedefaults\":{\"line\":{\"color\":\"#2a3f5f\"}},\"ternary\":{\"aaxis\":{\"gridcolor\":\"white\",\"linecolor\":\"white\",\"ticks\":\"\"},\"baxis\":{\"gridcolor\":\"white\",\"linecolor\":\"white\",\"ticks\":\"\"},\"bgcolor\":\"#E5ECF6\",\"caxis\":{\"gridcolor\":\"white\",\"linecolor\":\"white\",\"ticks\":\"\"}},\"title\":{\"x\":0.05},\"xaxis\":{\"automargin\":true,\"gridcolor\":\"white\",\"linecolor\":\"white\",\"ticks\":\"\",\"title\":{\"standoff\":15},\"zerolinecolor\":\"white\",\"zerolinewidth\":2},\"yaxis\":{\"automargin\":true,\"gridcolor\":\"white\",\"linecolor\":\"white\",\"ticks\":\"\",\"title\":{\"standoff\":15},\"zerolinecolor\":\"white\",\"zerolinewidth\":2}}},\"coloraxis\":{\"colorbar\":{\"title\":{\"text\":\"IMDb\"}},\"colorscale\":[[0.0,\"rgb(196, 230, 195)\"],[0.16666666666666666,\"rgb(150, 210, 164)\"],[0.3333333333333333,\"rgb(109, 188, 144)\"],[0.5,\"rgb(77, 162, 132)\"],[0.6666666666666666,\"rgb(54, 135, 122)\"],[0.8333333333333334,\"rgb(38, 107, 110)\"],[1.0,\"rgb(29, 79, 96)\"]]},\"legend\":{\"tracegroupgap\":0},\"margin\":{\"t\":60}},                        {\"responsive\": true}                    ).then(function(){\n",
              "                            \n",
              "var gd = document.getElementById('2f991390-ac5e-4462-8d8e-f01cf4fb6cc1');\n",
              "var x = new MutationObserver(function (mutations, observer) {{\n",
              "        var display = window.getComputedStyle(gd).display;\n",
              "        if (!display || display === 'none') {{\n",
              "            console.log([gd, 'removed!']);\n",
              "            Plotly.purge(gd);\n",
              "            observer.disconnect();\n",
              "        }}\n",
              "}});\n",
              "\n",
              "// Listen for the removal of the full notebook cells\n",
              "var notebookContainer = gd.closest('#notebook-container');\n",
              "if (notebookContainer) {{\n",
              "    x.observe(notebookContainer, {childList: true});\n",
              "}}\n",
              "\n",
              "// Listen for the clearing of the current output cell\n",
              "var outputEl = gd.closest('.output');\n",
              "if (outputEl) {{\n",
              "    x.observe(outputEl, {childList: true});\n",
              "}}\n",
              "\n",
              "                        })                };                            </script>        </div>\n",
              "</body>\n",
              "</html>"
            ]
          },
          "metadata": {}
        }
      ]
    },
    {
      "cell_type": "code",
      "source": [
        "sunburst(df_movie,'Prime Video','haline')"
      ],
      "metadata": {
        "colab": {
          "base_uri": "https://localhost:8080/",
          "height": 542
        },
        "id": "gG-Q5TNEpP_Q",
        "outputId": "d7f749d3-1f7d-4561-af67-87881f0416ab"
      },
      "execution_count": 36,
      "outputs": [
        {
          "output_type": "display_data",
          "data": {
            "text/html": [
              "<html>\n",
              "<head><meta charset=\"utf-8\" /></head>\n",
              "<body>\n",
              "    <div>            <script src=\"https://cdnjs.cloudflare.com/ajax/libs/mathjax/2.7.5/MathJax.js?config=TeX-AMS-MML_SVG\"></script><script type=\"text/javascript\">if (window.MathJax) {MathJax.Hub.Config({SVG: {font: \"STIX-Web\"}});}</script>                <script type=\"text/javascript\">window.PlotlyConfig = {MathJaxConfig: 'local'};</script>\n",
              "        <script src=\"https://cdn.plot.ly/plotly-2.8.3.min.js\"></script>                <div id=\"f84dca3b-5ea1-4839-a848-170ac1b7bdbe\" class=\"plotly-graph-div\" style=\"height:525px; width:100%;\"></div>            <script type=\"text/javascript\">                                    window.PLOTLYENV=window.PLOTLYENV || {};                                    if (document.getElementById(\"f84dca3b-5ea1-4839-a848-170ac1b7bdbe\")) {                    Plotly.newPlot(                        \"f84dca3b-5ea1-4839-a848-170ac1b7bdbe\",                        [{\"branchvalues\":\"total\",\"customdata\":[[8.7],[8.8],[9.7],[8.7],[9.0],[8.8],[8.8],[9.2],[8.8],[9.8],[8.8],[8.7],[8.8],[9.2],[8.8],[9.7],[9.8],[8.7],[9.0],[8.8]],\"domain\":{\"x\":[0.0,1.0],\"y\":[0.0,1.0]},\"hovertemplate\":\"labels=%{label}<br>IMDb_sum=%{value}<br>parent=%{parent}<br>id=%{id}<br>IMDb=%{color}<extra></extra>\",\"ids\":[\"C.S. Lewis Onstage: The Most Reluctant Convert/Biography,Drama,History\",\"Operation Toussaint: Operation Underground Railroad and the Fight to End Modern Day Slavery/Documentary\",\"Ostatni ludzie Czarnobyla/Documentary\",\"The Boy Whose Skin Fell Off/Documentary\",\"They Come to America IV: Immigration & Politics/Documentary\",\"Uncle Tom/Documentary\",\"Black Jack Pershing: Love and War/Documentary,Biography,History,War\",\"Healing Voices/Documentary,Drama\",\"Fight Club/Drama\",\"Ruby's Studio: the Feelings Show/Family\",\"Black Jack Pershing: Love and War\",\"C.S. Lewis Onstage: The Most Reluctant Convert\",\"Fight Club\",\"Healing Voices\",\"Operation Toussaint: Operation Underground Railroad and the Fight to End Modern Day Slavery\",\"Ostatni ludzie Czarnobyla\",\"Ruby's Studio: the Feelings Show\",\"The Boy Whose Skin Fell Off\",\"They Come to America IV: Immigration & Politics\",\"Uncle Tom\"],\"labels\":[\"Biography,Drama,History\",\"Documentary\",\"Documentary\",\"Documentary\",\"Documentary\",\"Documentary\",\"Documentary,Biography,History,War\",\"Documentary,Drama\",\"Drama\",\"Family\",\"Black Jack Pershing: Love and War\",\"C.S. Lewis Onstage: The Most Reluctant Convert\",\"Fight Club\",\"Healing Voices\",\"Operation Toussaint: Operation Underground Railroad and the Fight to End Modern Day Slavery\",\"Ostatni ludzie Czarnobyla\",\"Ruby's Studio: the Feelings Show\",\"The Boy Whose Skin Fell Off\",\"They Come to America IV: Immigration & Politics\",\"Uncle Tom\"],\"marker\":{\"coloraxis\":\"coloraxis\",\"colors\":[8.7,8.8,9.7,8.7,9.0,8.8,8.8,9.2,8.8,9.8,8.8,8.7,8.8,9.2,8.8,9.7,9.8,8.7,9.0,8.8]},\"name\":\"\",\"parents\":[\"C.S. Lewis Onstage: The Most Reluctant Convert\",\"Operation Toussaint: Operation Underground Railroad and the Fight to End Modern Day Slavery\",\"Ostatni ludzie Czarnobyla\",\"The Boy Whose Skin Fell Off\",\"They Come to America IV: Immigration & Politics\",\"Uncle Tom\",\"Black Jack Pershing: Love and War\",\"Healing Voices\",\"Fight Club\",\"Ruby's Studio: the Feelings Show\",\"\",\"\",\"\",\"\",\"\",\"\",\"\",\"\",\"\",\"\"],\"values\":[8.7,8.8,9.7,8.7,9.0,8.8,8.8,9.2,8.8,9.8,8.8,8.7,8.8,9.2,8.8,9.7,9.8,8.7,9.0,8.8],\"type\":\"sunburst\"}],                        {\"template\":{\"data\":{\"bar\":[{\"error_x\":{\"color\":\"#2a3f5f\"},\"error_y\":{\"color\":\"#2a3f5f\"},\"marker\":{\"line\":{\"color\":\"#E5ECF6\",\"width\":0.5},\"pattern\":{\"fillmode\":\"overlay\",\"size\":10,\"solidity\":0.2}},\"type\":\"bar\"}],\"barpolar\":[{\"marker\":{\"line\":{\"color\":\"#E5ECF6\",\"width\":0.5},\"pattern\":{\"fillmode\":\"overlay\",\"size\":10,\"solidity\":0.2}},\"type\":\"barpolar\"}],\"carpet\":[{\"aaxis\":{\"endlinecolor\":\"#2a3f5f\",\"gridcolor\":\"white\",\"linecolor\":\"white\",\"minorgridcolor\":\"white\",\"startlinecolor\":\"#2a3f5f\"},\"baxis\":{\"endlinecolor\":\"#2a3f5f\",\"gridcolor\":\"white\",\"linecolor\":\"white\",\"minorgridcolor\":\"white\",\"startlinecolor\":\"#2a3f5f\"},\"type\":\"carpet\"}],\"choropleth\":[{\"colorbar\":{\"outlinewidth\":0,\"ticks\":\"\"},\"type\":\"choropleth\"}],\"contour\":[{\"colorbar\":{\"outlinewidth\":0,\"ticks\":\"\"},\"colorscale\":[[0.0,\"#0d0887\"],[0.1111111111111111,\"#46039f\"],[0.2222222222222222,\"#7201a8\"],[0.3333333333333333,\"#9c179e\"],[0.4444444444444444,\"#bd3786\"],[0.5555555555555556,\"#d8576b\"],[0.6666666666666666,\"#ed7953\"],[0.7777777777777778,\"#fb9f3a\"],[0.8888888888888888,\"#fdca26\"],[1.0,\"#f0f921\"]],\"type\":\"contour\"}],\"contourcarpet\":[{\"colorbar\":{\"outlinewidth\":0,\"ticks\":\"\"},\"type\":\"contourcarpet\"}],\"heatmap\":[{\"colorbar\":{\"outlinewidth\":0,\"ticks\":\"\"},\"colorscale\":[[0.0,\"#0d0887\"],[0.1111111111111111,\"#46039f\"],[0.2222222222222222,\"#7201a8\"],[0.3333333333333333,\"#9c179e\"],[0.4444444444444444,\"#bd3786\"],[0.5555555555555556,\"#d8576b\"],[0.6666666666666666,\"#ed7953\"],[0.7777777777777778,\"#fb9f3a\"],[0.8888888888888888,\"#fdca26\"],[1.0,\"#f0f921\"]],\"type\":\"heatmap\"}],\"heatmapgl\":[{\"colorbar\":{\"outlinewidth\":0,\"ticks\":\"\"},\"colorscale\":[[0.0,\"#0d0887\"],[0.1111111111111111,\"#46039f\"],[0.2222222222222222,\"#7201a8\"],[0.3333333333333333,\"#9c179e\"],[0.4444444444444444,\"#bd3786\"],[0.5555555555555556,\"#d8576b\"],[0.6666666666666666,\"#ed7953\"],[0.7777777777777778,\"#fb9f3a\"],[0.8888888888888888,\"#fdca26\"],[1.0,\"#f0f921\"]],\"type\":\"heatmapgl\"}],\"histogram\":[{\"marker\":{\"pattern\":{\"fillmode\":\"overlay\",\"size\":10,\"solidity\":0.2}},\"type\":\"histogram\"}],\"histogram2d\":[{\"colorbar\":{\"outlinewidth\":0,\"ticks\":\"\"},\"colorscale\":[[0.0,\"#0d0887\"],[0.1111111111111111,\"#46039f\"],[0.2222222222222222,\"#7201a8\"],[0.3333333333333333,\"#9c179e\"],[0.4444444444444444,\"#bd3786\"],[0.5555555555555556,\"#d8576b\"],[0.6666666666666666,\"#ed7953\"],[0.7777777777777778,\"#fb9f3a\"],[0.8888888888888888,\"#fdca26\"],[1.0,\"#f0f921\"]],\"type\":\"histogram2d\"}],\"histogram2dcontour\":[{\"colorbar\":{\"outlinewidth\":0,\"ticks\":\"\"},\"colorscale\":[[0.0,\"#0d0887\"],[0.1111111111111111,\"#46039f\"],[0.2222222222222222,\"#7201a8\"],[0.3333333333333333,\"#9c179e\"],[0.4444444444444444,\"#bd3786\"],[0.5555555555555556,\"#d8576b\"],[0.6666666666666666,\"#ed7953\"],[0.7777777777777778,\"#fb9f3a\"],[0.8888888888888888,\"#fdca26\"],[1.0,\"#f0f921\"]],\"type\":\"histogram2dcontour\"}],\"mesh3d\":[{\"colorbar\":{\"outlinewidth\":0,\"ticks\":\"\"},\"type\":\"mesh3d\"}],\"parcoords\":[{\"line\":{\"colorbar\":{\"outlinewidth\":0,\"ticks\":\"\"}},\"type\":\"parcoords\"}],\"pie\":[{\"automargin\":true,\"type\":\"pie\"}],\"scatter\":[{\"marker\":{\"colorbar\":{\"outlinewidth\":0,\"ticks\":\"\"}},\"type\":\"scatter\"}],\"scatter3d\":[{\"line\":{\"colorbar\":{\"outlinewidth\":0,\"ticks\":\"\"}},\"marker\":{\"colorbar\":{\"outlinewidth\":0,\"ticks\":\"\"}},\"type\":\"scatter3d\"}],\"scattercarpet\":[{\"marker\":{\"colorbar\":{\"outlinewidth\":0,\"ticks\":\"\"}},\"type\":\"scattercarpet\"}],\"scattergeo\":[{\"marker\":{\"colorbar\":{\"outlinewidth\":0,\"ticks\":\"\"}},\"type\":\"scattergeo\"}],\"scattergl\":[{\"marker\":{\"colorbar\":{\"outlinewidth\":0,\"ticks\":\"\"}},\"type\":\"scattergl\"}],\"scattermapbox\":[{\"marker\":{\"colorbar\":{\"outlinewidth\":0,\"ticks\":\"\"}},\"type\":\"scattermapbox\"}],\"scatterpolar\":[{\"marker\":{\"colorbar\":{\"outlinewidth\":0,\"ticks\":\"\"}},\"type\":\"scatterpolar\"}],\"scatterpolargl\":[{\"marker\":{\"colorbar\":{\"outlinewidth\":0,\"ticks\":\"\"}},\"type\":\"scatterpolargl\"}],\"scatterternary\":[{\"marker\":{\"colorbar\":{\"outlinewidth\":0,\"ticks\":\"\"}},\"type\":\"scatterternary\"}],\"surface\":[{\"colorbar\":{\"outlinewidth\":0,\"ticks\":\"\"},\"colorscale\":[[0.0,\"#0d0887\"],[0.1111111111111111,\"#46039f\"],[0.2222222222222222,\"#7201a8\"],[0.3333333333333333,\"#9c179e\"],[0.4444444444444444,\"#bd3786\"],[0.5555555555555556,\"#d8576b\"],[0.6666666666666666,\"#ed7953\"],[0.7777777777777778,\"#fb9f3a\"],[0.8888888888888888,\"#fdca26\"],[1.0,\"#f0f921\"]],\"type\":\"surface\"}],\"table\":[{\"cells\":{\"fill\":{\"color\":\"#EBF0F8\"},\"line\":{\"color\":\"white\"}},\"header\":{\"fill\":{\"color\":\"#C8D4E3\"},\"line\":{\"color\":\"white\"}},\"type\":\"table\"}]},\"layout\":{\"annotationdefaults\":{\"arrowcolor\":\"#2a3f5f\",\"arrowhead\":0,\"arrowwidth\":1},\"autotypenumbers\":\"strict\",\"coloraxis\":{\"colorbar\":{\"outlinewidth\":0,\"ticks\":\"\"}},\"colorscale\":{\"diverging\":[[0,\"#8e0152\"],[0.1,\"#c51b7d\"],[0.2,\"#de77ae\"],[0.3,\"#f1b6da\"],[0.4,\"#fde0ef\"],[0.5,\"#f7f7f7\"],[0.6,\"#e6f5d0\"],[0.7,\"#b8e186\"],[0.8,\"#7fbc41\"],[0.9,\"#4d9221\"],[1,\"#276419\"]],\"sequential\":[[0.0,\"#0d0887\"],[0.1111111111111111,\"#46039f\"],[0.2222222222222222,\"#7201a8\"],[0.3333333333333333,\"#9c179e\"],[0.4444444444444444,\"#bd3786\"],[0.5555555555555556,\"#d8576b\"],[0.6666666666666666,\"#ed7953\"],[0.7777777777777778,\"#fb9f3a\"],[0.8888888888888888,\"#fdca26\"],[1.0,\"#f0f921\"]],\"sequentialminus\":[[0.0,\"#0d0887\"],[0.1111111111111111,\"#46039f\"],[0.2222222222222222,\"#7201a8\"],[0.3333333333333333,\"#9c179e\"],[0.4444444444444444,\"#bd3786\"],[0.5555555555555556,\"#d8576b\"],[0.6666666666666666,\"#ed7953\"],[0.7777777777777778,\"#fb9f3a\"],[0.8888888888888888,\"#fdca26\"],[1.0,\"#f0f921\"]]},\"colorway\":[\"#636efa\",\"#EF553B\",\"#00cc96\",\"#ab63fa\",\"#FFA15A\",\"#19d3f3\",\"#FF6692\",\"#B6E880\",\"#FF97FF\",\"#FECB52\"],\"font\":{\"color\":\"#2a3f5f\"},\"geo\":{\"bgcolor\":\"white\",\"lakecolor\":\"white\",\"landcolor\":\"#E5ECF6\",\"showlakes\":true,\"showland\":true,\"subunitcolor\":\"white\"},\"hoverlabel\":{\"align\":\"left\"},\"hovermode\":\"closest\",\"mapbox\":{\"style\":\"light\"},\"paper_bgcolor\":\"white\",\"plot_bgcolor\":\"#E5ECF6\",\"polar\":{\"angularaxis\":{\"gridcolor\":\"white\",\"linecolor\":\"white\",\"ticks\":\"\"},\"bgcolor\":\"#E5ECF6\",\"radialaxis\":{\"gridcolor\":\"white\",\"linecolor\":\"white\",\"ticks\":\"\"}},\"scene\":{\"xaxis\":{\"backgroundcolor\":\"#E5ECF6\",\"gridcolor\":\"white\",\"gridwidth\":2,\"linecolor\":\"white\",\"showbackground\":true,\"ticks\":\"\",\"zerolinecolor\":\"white\"},\"yaxis\":{\"backgroundcolor\":\"#E5ECF6\",\"gridcolor\":\"white\",\"gridwidth\":2,\"linecolor\":\"white\",\"showbackground\":true,\"ticks\":\"\",\"zerolinecolor\":\"white\"},\"zaxis\":{\"backgroundcolor\":\"#E5ECF6\",\"gridcolor\":\"white\",\"gridwidth\":2,\"linecolor\":\"white\",\"showbackground\":true,\"ticks\":\"\",\"zerolinecolor\":\"white\"}},\"shapedefaults\":{\"line\":{\"color\":\"#2a3f5f\"}},\"ternary\":{\"aaxis\":{\"gridcolor\":\"white\",\"linecolor\":\"white\",\"ticks\":\"\"},\"baxis\":{\"gridcolor\":\"white\",\"linecolor\":\"white\",\"ticks\":\"\"},\"bgcolor\":\"#E5ECF6\",\"caxis\":{\"gridcolor\":\"white\",\"linecolor\":\"white\",\"ticks\":\"\"}},\"title\":{\"x\":0.05},\"xaxis\":{\"automargin\":true,\"gridcolor\":\"white\",\"linecolor\":\"white\",\"ticks\":\"\",\"title\":{\"standoff\":15},\"zerolinecolor\":\"white\",\"zerolinewidth\":2},\"yaxis\":{\"automargin\":true,\"gridcolor\":\"white\",\"linecolor\":\"white\",\"ticks\":\"\",\"title\":{\"standoff\":15},\"zerolinecolor\":\"white\",\"zerolinewidth\":2}}},\"coloraxis\":{\"colorbar\":{\"title\":{\"text\":\"IMDb\"}},\"colorscale\":[[0.0,\"rgb(41, 24, 107)\"],[0.09090909090909091,\"rgb(42, 35, 160)\"],[0.18181818181818182,\"rgb(15, 71, 153)\"],[0.2727272727272727,\"rgb(18, 95, 142)\"],[0.36363636363636365,\"rgb(38, 116, 137)\"],[0.45454545454545453,\"rgb(53, 136, 136)\"],[0.5454545454545454,\"rgb(65, 157, 133)\"],[0.6363636363636364,\"rgb(81, 178, 124)\"],[0.7272727272727273,\"rgb(111, 198, 107)\"],[0.8181818181818182,\"rgb(160, 214, 91)\"],[0.9090909090909091,\"rgb(212, 225, 112)\"],[1.0,\"rgb(253, 238, 153)\"]]},\"legend\":{\"tracegroupgap\":0},\"margin\":{\"t\":60}},                        {\"responsive\": true}                    ).then(function(){\n",
              "                            \n",
              "var gd = document.getElementById('f84dca3b-5ea1-4839-a848-170ac1b7bdbe');\n",
              "var x = new MutationObserver(function (mutations, observer) {{\n",
              "        var display = window.getComputedStyle(gd).display;\n",
              "        if (!display || display === 'none') {{\n",
              "            console.log([gd, 'removed!']);\n",
              "            Plotly.purge(gd);\n",
              "            observer.disconnect();\n",
              "        }}\n",
              "}});\n",
              "\n",
              "// Listen for the removal of the full notebook cells\n",
              "var notebookContainer = gd.closest('#notebook-container');\n",
              "if (notebookContainer) {{\n",
              "    x.observe(notebookContainer, {childList: true});\n",
              "}}\n",
              "\n",
              "// Listen for the clearing of the current output cell\n",
              "var outputEl = gd.closest('.output');\n",
              "if (outputEl) {{\n",
              "    x.observe(outputEl, {childList: true});\n",
              "}}\n",
              "\n",
              "                        })                };                            </script>        </div>\n",
              "</body>\n",
              "</html>"
            ]
          },
          "metadata": {}
        }
      ]
    },
    {
      "cell_type": "code",
      "source": [
        "sunburst(df_movie,'Disney+','dense')"
      ],
      "metadata": {
        "colab": {
          "base_uri": "https://localhost:8080/",
          "height": 542
        },
        "id": "31rwSqUUpTaQ",
        "outputId": "b91f9ffb-0000-4c30-bc66-40abd47a25e2"
      },
      "execution_count": 37,
      "outputs": [
        {
          "output_type": "display_data",
          "data": {
            "text/html": [
              "<html>\n",
              "<head><meta charset=\"utf-8\" /></head>\n",
              "<body>\n",
              "    <div>            <script src=\"https://cdnjs.cloudflare.com/ajax/libs/mathjax/2.7.5/MathJax.js?config=TeX-AMS-MML_SVG\"></script><script type=\"text/javascript\">if (window.MathJax) {MathJax.Hub.Config({SVG: {font: \"STIX-Web\"}});}</script>                <script type=\"text/javascript\">window.PlotlyConfig = {MathJaxConfig: 'local'};</script>\n",
              "        <script src=\"https://cdn.plot.ly/plotly-2.8.3.min.js\"></script>                <div id=\"12565472-3fde-47d9-ad99-d4adc57940ee\" class=\"plotly-graph-div\" style=\"height:525px; width:100%;\"></div>            <script type=\"text/javascript\">                                    window.PLOTLYENV=window.PLOTLYENV || {};                                    if (document.getElementById(\"12565472-3fde-47d9-ad99-d4adc57940ee\")) {                    Plotly.newPlot(                        \"12565472-3fde-47d9-ad99-d4adc57940ee\",                        [{\"branchvalues\":\"total\",\"customdata\":[[8.6],[8.7],[8.4],[8.4],[8.5],[8.4],[8.4],[9.0],[8.9],[9.6],[8.4],[9.0],[8.4],[8.4],[8.9],[9.6],[8.6],[8.7],[8.5],[8.4]],\"domain\":{\"x\":[0.0,1.0],\"y\":[0.0,1.0]},\"hovertemplate\":\"labels=%{label}<br>IMDb_sum=%{value}<br>parent=%{parent}<br>id=%{id}<br>IMDb=%{color}<extra></extra>\",\"ids\":[\"Star Wars: A New Hope/Action,Adventure,Fantasy,Sci-Fi\",\"Star Wars: The Empire Strikes Back/Action,Adventure,Fantasy,Sci-Fi\",\"Avengers: Infinity War/Action,Adventure,Sci-Fi\",\"Coco/Animation,Adventure,Drama,Family,Fantasy,Music,Mystery\",\"The Lion King/Animation,Adventure,Drama,Family,Musical\",\"WALL\\u00b7E/Animation,Adventure,Family,Romance,Sci-Fi\",\"Folklore: The Long Pond Studio Sessions/Documentary,Drama,Music\",\"Blue Ribbon Kids/Documentary,Reality-TV\",\"Incredible! The Story of Dr. Pol/Documentary,Reality-TV\",\"Jingle Pols/Documentary,Reality-TV\",\"Avengers: Infinity War\",\"Blue Ribbon Kids\",\"Coco\",\"Folklore: The Long Pond Studio Sessions\",\"Incredible! The Story of Dr. Pol\",\"Jingle Pols\",\"Star Wars: A New Hope\",\"Star Wars: The Empire Strikes Back\",\"The Lion King\",\"WALL\\u00b7E\"],\"labels\":[\"Action,Adventure,Fantasy,Sci-Fi\",\"Action,Adventure,Fantasy,Sci-Fi\",\"Action,Adventure,Sci-Fi\",\"Animation,Adventure,Drama,Family,Fantasy,Music,Mystery\",\"Animation,Adventure,Drama,Family,Musical\",\"Animation,Adventure,Family,Romance,Sci-Fi\",\"Documentary,Drama,Music\",\"Documentary,Reality-TV\",\"Documentary,Reality-TV\",\"Documentary,Reality-TV\",\"Avengers: Infinity War\",\"Blue Ribbon Kids\",\"Coco\",\"Folklore: The Long Pond Studio Sessions\",\"Incredible! The Story of Dr. Pol\",\"Jingle Pols\",\"Star Wars: A New Hope\",\"Star Wars: The Empire Strikes Back\",\"The Lion King\",\"WALL\\u00b7E\"],\"marker\":{\"coloraxis\":\"coloraxis\",\"colors\":[8.6,8.7,8.4,8.4,8.5,8.4,8.4,9.0,8.9,9.6,8.4,9.0,8.4,8.4,8.9,9.6,8.6,8.7,8.5,8.4]},\"name\":\"\",\"parents\":[\"Star Wars: A New Hope\",\"Star Wars: The Empire Strikes Back\",\"Avengers: Infinity War\",\"Coco\",\"The Lion King\",\"WALL\\u00b7E\",\"Folklore: The Long Pond Studio Sessions\",\"Blue Ribbon Kids\",\"Incredible! The Story of Dr. Pol\",\"Jingle Pols\",\"\",\"\",\"\",\"\",\"\",\"\",\"\",\"\",\"\",\"\"],\"values\":[8.6,8.7,8.4,8.4,8.5,8.4,8.4,9.0,8.9,9.6,8.4,9.0,8.4,8.4,8.9,9.6,8.6,8.7,8.5,8.4],\"type\":\"sunburst\"}],                        {\"template\":{\"data\":{\"bar\":[{\"error_x\":{\"color\":\"#2a3f5f\"},\"error_y\":{\"color\":\"#2a3f5f\"},\"marker\":{\"line\":{\"color\":\"#E5ECF6\",\"width\":0.5},\"pattern\":{\"fillmode\":\"overlay\",\"size\":10,\"solidity\":0.2}},\"type\":\"bar\"}],\"barpolar\":[{\"marker\":{\"line\":{\"color\":\"#E5ECF6\",\"width\":0.5},\"pattern\":{\"fillmode\":\"overlay\",\"size\":10,\"solidity\":0.2}},\"type\":\"barpolar\"}],\"carpet\":[{\"aaxis\":{\"endlinecolor\":\"#2a3f5f\",\"gridcolor\":\"white\",\"linecolor\":\"white\",\"minorgridcolor\":\"white\",\"startlinecolor\":\"#2a3f5f\"},\"baxis\":{\"endlinecolor\":\"#2a3f5f\",\"gridcolor\":\"white\",\"linecolor\":\"white\",\"minorgridcolor\":\"white\",\"startlinecolor\":\"#2a3f5f\"},\"type\":\"carpet\"}],\"choropleth\":[{\"colorbar\":{\"outlinewidth\":0,\"ticks\":\"\"},\"type\":\"choropleth\"}],\"contour\":[{\"colorbar\":{\"outlinewidth\":0,\"ticks\":\"\"},\"colorscale\":[[0.0,\"#0d0887\"],[0.1111111111111111,\"#46039f\"],[0.2222222222222222,\"#7201a8\"],[0.3333333333333333,\"#9c179e\"],[0.4444444444444444,\"#bd3786\"],[0.5555555555555556,\"#d8576b\"],[0.6666666666666666,\"#ed7953\"],[0.7777777777777778,\"#fb9f3a\"],[0.8888888888888888,\"#fdca26\"],[1.0,\"#f0f921\"]],\"type\":\"contour\"}],\"contourcarpet\":[{\"colorbar\":{\"outlinewidth\":0,\"ticks\":\"\"},\"type\":\"contourcarpet\"}],\"heatmap\":[{\"colorbar\":{\"outlinewidth\":0,\"ticks\":\"\"},\"colorscale\":[[0.0,\"#0d0887\"],[0.1111111111111111,\"#46039f\"],[0.2222222222222222,\"#7201a8\"],[0.3333333333333333,\"#9c179e\"],[0.4444444444444444,\"#bd3786\"],[0.5555555555555556,\"#d8576b\"],[0.6666666666666666,\"#ed7953\"],[0.7777777777777778,\"#fb9f3a\"],[0.8888888888888888,\"#fdca26\"],[1.0,\"#f0f921\"]],\"type\":\"heatmap\"}],\"heatmapgl\":[{\"colorbar\":{\"outlinewidth\":0,\"ticks\":\"\"},\"colorscale\":[[0.0,\"#0d0887\"],[0.1111111111111111,\"#46039f\"],[0.2222222222222222,\"#7201a8\"],[0.3333333333333333,\"#9c179e\"],[0.4444444444444444,\"#bd3786\"],[0.5555555555555556,\"#d8576b\"],[0.6666666666666666,\"#ed7953\"],[0.7777777777777778,\"#fb9f3a\"],[0.8888888888888888,\"#fdca26\"],[1.0,\"#f0f921\"]],\"type\":\"heatmapgl\"}],\"histogram\":[{\"marker\":{\"pattern\":{\"fillmode\":\"overlay\",\"size\":10,\"solidity\":0.2}},\"type\":\"histogram\"}],\"histogram2d\":[{\"colorbar\":{\"outlinewidth\":0,\"ticks\":\"\"},\"colorscale\":[[0.0,\"#0d0887\"],[0.1111111111111111,\"#46039f\"],[0.2222222222222222,\"#7201a8\"],[0.3333333333333333,\"#9c179e\"],[0.4444444444444444,\"#bd3786\"],[0.5555555555555556,\"#d8576b\"],[0.6666666666666666,\"#ed7953\"],[0.7777777777777778,\"#fb9f3a\"],[0.8888888888888888,\"#fdca26\"],[1.0,\"#f0f921\"]],\"type\":\"histogram2d\"}],\"histogram2dcontour\":[{\"colorbar\":{\"outlinewidth\":0,\"ticks\":\"\"},\"colorscale\":[[0.0,\"#0d0887\"],[0.1111111111111111,\"#46039f\"],[0.2222222222222222,\"#7201a8\"],[0.3333333333333333,\"#9c179e\"],[0.4444444444444444,\"#bd3786\"],[0.5555555555555556,\"#d8576b\"],[0.6666666666666666,\"#ed7953\"],[0.7777777777777778,\"#fb9f3a\"],[0.8888888888888888,\"#fdca26\"],[1.0,\"#f0f921\"]],\"type\":\"histogram2dcontour\"}],\"mesh3d\":[{\"colorbar\":{\"outlinewidth\":0,\"ticks\":\"\"},\"type\":\"mesh3d\"}],\"parcoords\":[{\"line\":{\"colorbar\":{\"outlinewidth\":0,\"ticks\":\"\"}},\"type\":\"parcoords\"}],\"pie\":[{\"automargin\":true,\"type\":\"pie\"}],\"scatter\":[{\"marker\":{\"colorbar\":{\"outlinewidth\":0,\"ticks\":\"\"}},\"type\":\"scatter\"}],\"scatter3d\":[{\"line\":{\"colorbar\":{\"outlinewidth\":0,\"ticks\":\"\"}},\"marker\":{\"colorbar\":{\"outlinewidth\":0,\"ticks\":\"\"}},\"type\":\"scatter3d\"}],\"scattercarpet\":[{\"marker\":{\"colorbar\":{\"outlinewidth\":0,\"ticks\":\"\"}},\"type\":\"scattercarpet\"}],\"scattergeo\":[{\"marker\":{\"colorbar\":{\"outlinewidth\":0,\"ticks\":\"\"}},\"type\":\"scattergeo\"}],\"scattergl\":[{\"marker\":{\"colorbar\":{\"outlinewidth\":0,\"ticks\":\"\"}},\"type\":\"scattergl\"}],\"scattermapbox\":[{\"marker\":{\"colorbar\":{\"outlinewidth\":0,\"ticks\":\"\"}},\"type\":\"scattermapbox\"}],\"scatterpolar\":[{\"marker\":{\"colorbar\":{\"outlinewidth\":0,\"ticks\":\"\"}},\"type\":\"scatterpolar\"}],\"scatterpolargl\":[{\"marker\":{\"colorbar\":{\"outlinewidth\":0,\"ticks\":\"\"}},\"type\":\"scatterpolargl\"}],\"scatterternary\":[{\"marker\":{\"colorbar\":{\"outlinewidth\":0,\"ticks\":\"\"}},\"type\":\"scatterternary\"}],\"surface\":[{\"colorbar\":{\"outlinewidth\":0,\"ticks\":\"\"},\"colorscale\":[[0.0,\"#0d0887\"],[0.1111111111111111,\"#46039f\"],[0.2222222222222222,\"#7201a8\"],[0.3333333333333333,\"#9c179e\"],[0.4444444444444444,\"#bd3786\"],[0.5555555555555556,\"#d8576b\"],[0.6666666666666666,\"#ed7953\"],[0.7777777777777778,\"#fb9f3a\"],[0.8888888888888888,\"#fdca26\"],[1.0,\"#f0f921\"]],\"type\":\"surface\"}],\"table\":[{\"cells\":{\"fill\":{\"color\":\"#EBF0F8\"},\"line\":{\"color\":\"white\"}},\"header\":{\"fill\":{\"color\":\"#C8D4E3\"},\"line\":{\"color\":\"white\"}},\"type\":\"table\"}]},\"layout\":{\"annotationdefaults\":{\"arrowcolor\":\"#2a3f5f\",\"arrowhead\":0,\"arrowwidth\":1},\"autotypenumbers\":\"strict\",\"coloraxis\":{\"colorbar\":{\"outlinewidth\":0,\"ticks\":\"\"}},\"colorscale\":{\"diverging\":[[0,\"#8e0152\"],[0.1,\"#c51b7d\"],[0.2,\"#de77ae\"],[0.3,\"#f1b6da\"],[0.4,\"#fde0ef\"],[0.5,\"#f7f7f7\"],[0.6,\"#e6f5d0\"],[0.7,\"#b8e186\"],[0.8,\"#7fbc41\"],[0.9,\"#4d9221\"],[1,\"#276419\"]],\"sequential\":[[0.0,\"#0d0887\"],[0.1111111111111111,\"#46039f\"],[0.2222222222222222,\"#7201a8\"],[0.3333333333333333,\"#9c179e\"],[0.4444444444444444,\"#bd3786\"],[0.5555555555555556,\"#d8576b\"],[0.6666666666666666,\"#ed7953\"],[0.7777777777777778,\"#fb9f3a\"],[0.8888888888888888,\"#fdca26\"],[1.0,\"#f0f921\"]],\"sequentialminus\":[[0.0,\"#0d0887\"],[0.1111111111111111,\"#46039f\"],[0.2222222222222222,\"#7201a8\"],[0.3333333333333333,\"#9c179e\"],[0.4444444444444444,\"#bd3786\"],[0.5555555555555556,\"#d8576b\"],[0.6666666666666666,\"#ed7953\"],[0.7777777777777778,\"#fb9f3a\"],[0.8888888888888888,\"#fdca26\"],[1.0,\"#f0f921\"]]},\"colorway\":[\"#636efa\",\"#EF553B\",\"#00cc96\",\"#ab63fa\",\"#FFA15A\",\"#19d3f3\",\"#FF6692\",\"#B6E880\",\"#FF97FF\",\"#FECB52\"],\"font\":{\"color\":\"#2a3f5f\"},\"geo\":{\"bgcolor\":\"white\",\"lakecolor\":\"white\",\"landcolor\":\"#E5ECF6\",\"showlakes\":true,\"showland\":true,\"subunitcolor\":\"white\"},\"hoverlabel\":{\"align\":\"left\"},\"hovermode\":\"closest\",\"mapbox\":{\"style\":\"light\"},\"paper_bgcolor\":\"white\",\"plot_bgcolor\":\"#E5ECF6\",\"polar\":{\"angularaxis\":{\"gridcolor\":\"white\",\"linecolor\":\"white\",\"ticks\":\"\"},\"bgcolor\":\"#E5ECF6\",\"radialaxis\":{\"gridcolor\":\"white\",\"linecolor\":\"white\",\"ticks\":\"\"}},\"scene\":{\"xaxis\":{\"backgroundcolor\":\"#E5ECF6\",\"gridcolor\":\"white\",\"gridwidth\":2,\"linecolor\":\"white\",\"showbackground\":true,\"ticks\":\"\",\"zerolinecolor\":\"white\"},\"yaxis\":{\"backgroundcolor\":\"#E5ECF6\",\"gridcolor\":\"white\",\"gridwidth\":2,\"linecolor\":\"white\",\"showbackground\":true,\"ticks\":\"\",\"zerolinecolor\":\"white\"},\"zaxis\":{\"backgroundcolor\":\"#E5ECF6\",\"gridcolor\":\"white\",\"gridwidth\":2,\"linecolor\":\"white\",\"showbackground\":true,\"ticks\":\"\",\"zerolinecolor\":\"white\"}},\"shapedefaults\":{\"line\":{\"color\":\"#2a3f5f\"}},\"ternary\":{\"aaxis\":{\"gridcolor\":\"white\",\"linecolor\":\"white\",\"ticks\":\"\"},\"baxis\":{\"gridcolor\":\"white\",\"linecolor\":\"white\",\"ticks\":\"\"},\"bgcolor\":\"#E5ECF6\",\"caxis\":{\"gridcolor\":\"white\",\"linecolor\":\"white\",\"ticks\":\"\"}},\"title\":{\"x\":0.05},\"xaxis\":{\"automargin\":true,\"gridcolor\":\"white\",\"linecolor\":\"white\",\"ticks\":\"\",\"title\":{\"standoff\":15},\"zerolinecolor\":\"white\",\"zerolinewidth\":2},\"yaxis\":{\"automargin\":true,\"gridcolor\":\"white\",\"linecolor\":\"white\",\"ticks\":\"\",\"title\":{\"standoff\":15},\"zerolinecolor\":\"white\",\"zerolinewidth\":2}}},\"coloraxis\":{\"colorbar\":{\"title\":{\"text\":\"IMDb\"}},\"colorscale\":[[0.0,\"rgb(230, 240, 240)\"],[0.09090909090909091,\"rgb(191, 221, 229)\"],[0.18181818181818182,\"rgb(156, 201, 226)\"],[0.2727272727272727,\"rgb(129, 180, 227)\"],[0.36363636363636365,\"rgb(115, 154, 228)\"],[0.45454545454545453,\"rgb(117, 127, 221)\"],[0.5454545454545454,\"rgb(120, 100, 202)\"],[0.6363636363636364,\"rgb(119, 74, 175)\"],[0.7272727272727273,\"rgb(113, 50, 141)\"],[0.8181818181818182,\"rgb(100, 31, 104)\"],[0.9090909090909091,\"rgb(80, 20, 66)\"],[1.0,\"rgb(54, 14, 36)\"]]},\"legend\":{\"tracegroupgap\":0},\"margin\":{\"t\":60}},                        {\"responsive\": true}                    ).then(function(){\n",
              "                            \n",
              "var gd = document.getElementById('12565472-3fde-47d9-ad99-d4adc57940ee');\n",
              "var x = new MutationObserver(function (mutations, observer) {{\n",
              "        var display = window.getComputedStyle(gd).display;\n",
              "        if (!display || display === 'none') {{\n",
              "            console.log([gd, 'removed!']);\n",
              "            Plotly.purge(gd);\n",
              "            observer.disconnect();\n",
              "        }}\n",
              "}});\n",
              "\n",
              "// Listen for the removal of the full notebook cells\n",
              "var notebookContainer = gd.closest('#notebook-container');\n",
              "if (notebookContainer) {{\n",
              "    x.observe(notebookContainer, {childList: true});\n",
              "}}\n",
              "\n",
              "// Listen for the clearing of the current output cell\n",
              "var outputEl = gd.closest('.output');\n",
              "if (outputEl) {{\n",
              "    x.observe(outputEl, {childList: true});\n",
              "}}\n",
              "\n",
              "                        })                };                            </script>        </div>\n",
              "</body>\n",
              "</html>"
            ]
          },
          "metadata": {}
        }
      ]
    },
    {
      "cell_type": "code",
      "source": [
        "### 영화 런타임 및 개봉 연도 분포 그래프 ###"
      ],
      "metadata": {
        "id": "FDuzfBn6paNr"
      },
      "execution_count": null,
      "outputs": []
    },
    {
      "cell_type": "code",
      "source": [
        "def kde(i,dataframe,platform,c):\n",
        "    plt.subplot(i)\n",
        "    dataframe=dataframe.loc[dataframe[platform] == 1]\n",
        "    sns.kdeplot(data=dataframe['Runtime'], color=custom_colors[c],shade=True)\n",
        "    plt.xlabel('Runtime in minutes', fontsize = 15)\n",
        "    plt.legend(fontsize = 15);\n",
        "    plt.subplot(i+1)\n",
        "    sns.kdeplot(data=dataframe['Year'], color=custom_colors[c],shade=True)\n",
        "    plt.xlabel('Release Year', fontsize = 15)\n",
        "    plt.legend(fontsize = 15);"
      ],
      "metadata": {
        "id": "2AnYqXlFpeMT"
      },
      "execution_count": 38,
      "outputs": []
    },
    {
      "cell_type": "code",
      "source": [
        "plt.figure(figsize = (16, 8))\n",
        "\n",
        "kde(421,df_movie,'Netflix',0)\n",
        "kde(423,df_movie,'Hulu',1)\n",
        "kde(425,df_movie,'Prime Video',2)\n",
        "kde(427,df_movie,'Disney+',3)"
      ],
      "metadata": {
        "colab": {
          "base_uri": "https://localhost:8080/",
          "height": 496
        },
        "id": "9FKHip7wpjGT",
        "outputId": "a7dca715-ec1d-4700-d133-fe02e28f6ba8"
      },
      "execution_count": 40,
      "outputs": [
        {
          "output_type": "stream",
          "name": "stderr",
          "text": [
            "No handles with labels found to put in legend.\n",
            "No handles with labels found to put in legend.\n",
            "No handles with labels found to put in legend.\n",
            "No handles with labels found to put in legend.\n",
            "No handles with labels found to put in legend.\n",
            "No handles with labels found to put in legend.\n",
            "No handles with labels found to put in legend.\n",
            "No handles with labels found to put in legend.\n"
          ]
        },
        {
          "output_type": "display_data",
          "data": {
            "text/plain": [
              "<Figure size 1152x576 with 8 Axes>"
            ],
            "image/png": "[encoded data removed]"
          },
          "metadata": {
            "needs_background": "light"
          }
        }
      ]
    },
    {
      "cell_type": "code",
      "source": [
        "post_1980 = df_movie[df_movie.Year >= 1980]\n",
        "year_movie = post_1980.groupby('Year')[['Netflix','Hulu','Prime Video','Disney+']].sum()\n",
        "\n",
        "plt.figure(figsize = (16, 8))\n",
        "sns.lineplot(x=year_movie.index,y=year_movie['Netflix'])\n",
        "sns.lineplot(x=year_movie.index,y=year_movie['Hulu'])\n",
        "sns.lineplot(x=year_movie.index,y=year_movie['Prime Video'])\n",
        "sns.lineplot(x=year_movie.index,y=year_movie['Disney+'])\n",
        "plt.xlabel('Release Year', fontsize = 15)\n",
        "plt.ylabel('Count', fontsize = 15)\n",
        "plt.show()"
      ],
      "metadata": {
        "colab": {
          "base_uri": "https://localhost:8080/",
          "height": 354
        },
        "id": "tXLgNhCFpqKt",
        "outputId": "a8d2be7f-63e6-4d0f-89b1-79c0f5b2eb11"
      },
      "execution_count": 42,
      "outputs": [
        {
          "output_type": "display_data",
          "data": {
            "text/plain": [
              "<Figure size 1152x576 with 1 Axes>"
            ],
            "image/png": "[encoded data removed]"
          },
          "metadata": {
            "needs_background": "light"
          }
        }
      ]
    },
    {
      "cell_type": "code",
      "source": [
        "post_2000 = df_movie[df_movie.Year >= 2000]\n",
        "year_movie = post_2000.groupby('Year')[['Netflix','Hulu','Prime Video','Disney+']].sum()\n",
        "\n",
        "plt.figure(figsize = (16, 8))\n",
        "sns.lineplot(x=year_movie.index,y=year_movie['Netflix'])\n",
        "sns.lineplot(x=year_movie.index,y=year_movie['Hulu'])\n",
        "sns.lineplot(x=year_movie.index,y=year_movie['Prime Video'])\n",
        "sns.lineplot(x=year_movie.index,y=year_movie['Disney+'])\n",
        "plt.xlabel('Release Year', fontsize = 15)\n",
        "plt.ylabel('Count', fontsize = 15)\n",
        "plt.show()"
      ],
      "metadata": {
        "colab": {
          "base_uri": "https://localhost:8080/",
          "height": 354
        },
        "id": "JrJDh7l-p-_d",
        "outputId": "3cb76803-21db-4314-c2cd-9ee25fb3dd6a"
      },
      "execution_count": 43,
      "outputs": [
        {
          "output_type": "display_data",
          "data": {
            "text/plain": [
              "<Figure size 1152x576 with 1 Axes>"
            ],
            "image/png": "[encoded data removed]"
          },
          "metadata": {
            "needs_background": "light"
          }
        }
      ]
    },
    {
      "cell_type": "code",
      "source": [
        "post_2015 = df_movie[df_movie.Year >= 2015]\n",
        "year_movie = post_2015.groupby('Year')[['Netflix','Hulu','Prime Video','Disney+']].sum()\n",
        "\n",
        "plt.figure(figsize = (16, 8))\n",
        "sns.lineplot(x=year_movie.index,y=year_movie['Netflix'])\n",
        "sns.lineplot(x=year_movie.index,y=year_movie['Hulu'])\n",
        "sns.lineplot(x=year_movie.index,y=year_movie['Prime Video'])\n",
        "sns.lineplot(x=year_movie.index,y=year_movie['Disney+'])\n",
        "plt.xlabel('Release Year', fontsize = 15)\n",
        "plt.ylabel('Count', fontsize = 15)\n",
        "plt.show()"
      ],
      "metadata": {
        "colab": {
          "base_uri": "https://localhost:8080/",
          "height": 354
        },
        "id": "W4OPxbnfqR-l",
        "outputId": "a4be53cc-89b0-4f37-c358-022a67059cba"
      },
      "execution_count": 44,
      "outputs": [
        {
          "output_type": "display_data",
          "data": {
            "text/plain": [
              "<Figure size 1152x576 with 1 Axes>"
            ],
            "image/png": "[encoded data removed]"
          },
          "metadata": {
            "needs_background": "light"
          }
        }
      ]
    },
    {
      "cell_type": "code",
      "source": [
        "### Age별 TV Show 분포 그래프 ###"
      ],
      "metadata": {
        "id": "NfeWWxTQqdpe"
      },
      "execution_count": null,
      "outputs": []
    },
    {
      "cell_type": "code",
      "source": [
        "df_t = df_tv.copy()\n",
        "df_t = df_t[df_t['Age'].notna()]"
      ],
      "metadata": {
        "id": "XEgHCDcwqth5"
      },
      "execution_count": 45,
      "outputs": []
    },
    {
      "cell_type": "code",
      "source": [
        "df_t['Age']=df_t['Age'].str.replace('+','')\n",
        "df_t['Age']=df_t['Age'].str.replace('all','0')\n",
        "df_t['Age']=df_t['Age'].astype(str).astype(int)"
      ],
      "metadata": {
        "id": "m_WMj97PqvfV"
      },
      "execution_count": null,
      "outputs": []
    },
    {
      "cell_type": "code",
      "source": [
        "def barplot(i,dataframe,platform,p):\n",
        "    plt.subplot(i)\n",
        "    dataframe=dataframe.loc[dataframe[platform] == 1]\n",
        "    dataframe = dataframe['Age'].value_counts().reset_index()\n",
        "    dataframe.columns=['age','count']\n",
        "    sns.barplot(x=\"age\", y=\"count\", data=dataframe,palette=p)\n",
        "    plt.xlabel('Age', fontsize = 15)\n",
        "    plt.ylabel(platform, fontsize = 15)"
      ],
      "metadata": {
        "id": "LsVwW9hDq0oe"
      },
      "execution_count": 47,
      "outputs": []
    },
    {
      "cell_type": "code",
      "source": [
        "plt.figure(figsize = (20, 20))\n",
        "\n",
        "barplot(421,df_t,'Netflix',netflix_p)\n",
        "barplot(423,df_t,'Hulu',hulu_p)\n",
        "barplot(425,df_t,'Prime Video',prime_p)\n",
        "barplot(427,df_t,'Disney+',disney_p)"
      ],
      "metadata": {
        "colab": {
          "base_uri": "https://localhost:8080/",
          "height": 1000
        },
        "id": "VMzvIc1vq6T4",
        "outputId": "b7db673d-3cbc-4407-d76d-59a3929e7822"
      },
      "execution_count": 48,
      "outputs": [
        {
          "output_type": "display_data",
          "data": {
            "text/plain": [
              "<Figure size 1440x1440 with 4 Axes>"
            ],
            "image/png": "[encoded data removed]"
          },
          "metadata": {
            "needs_background": "light"
          }
        }
      ]
    },
    {
      "cell_type": "code",
      "source": [
        "plt.figure(figsize = (16, 8))\n",
        "tv_age = df_t.groupby('Age')[['Netflix','Hulu','Prime Video','Disney+']].sum()\n",
        "sns.heatmap(tv_age,cmap=\"YlGnBu\")\n",
        "plt.show()"
      ],
      "metadata": {
        "colab": {
          "base_uri": "https://localhost:8080/",
          "height": 506
        },
        "id": "OHXQoFoLq9CP",
        "outputId": "35c80dbe-8a6e-404d-a098-c3eab466bfd9"
      },
      "execution_count": 49,
      "outputs": [
        {
          "output_type": "display_data",
          "data": {
            "text/plain": [
              "<Figure size 1152x576 with 2 Axes>"
            ],
            "image/png": "[encoded data removed]"
          },
          "metadata": {
            "needs_background": "light"
          }
        }
      ]
    },
    {
      "cell_type": "code",
      "source": [
        "### IMDb 평점과 어떤 플랫폼에서 보유하고 있는지 ###"
      ],
      "metadata": {
        "id": "-kZPylw9rA1S"
      },
      "execution_count": null,
      "outputs": []
    },
    {
      "cell_type": "code",
      "source": [
        "r = df_tv.sort_values(by='IMDb', ascending=False)\n",
        "r = r[0:20]\n",
        "r = r[['Title','IMDb','Netflix','Hulu','Prime Video','Disney+']]\n",
        "r['IMDb'] = r['IMDb'].astype(float)"
      ],
      "metadata": {
        "id": "PMmDw8E1rWxu"
      },
      "execution_count": 50,
      "outputs": []
    },
    {
      "cell_type": "code",
      "source": [
        "r.style.bar(subset=[\"Netflix\"], color='#ff6b6b')\\\n",
        ".bar(subset=[\"Hulu\"], color='#95d5b2')\\\n",
        ".bar(subset=[\"Prime Video\"], color='#a2d2ff')\\\n",
        ".bar(subset=[\"Disney+\"], color='#72efdd')\\\n",
        ".bar(subset=[\"IMDb\"], color='#').background_gradient(cmap='Purples')"
      ],
      "metadata": {
        "colab": {
          "base_uri": "https://localhost:8080/",
          "height": 1000
        },
        "id": "sO8-tOIhrZsX",
        "outputId": "bbfbb008-70d4-43ac-f3fb-e0884b589031"
      },
      "execution_count": 51,
      "outputs": [
        {
          "output_type": "execute_result",
          "data": {
            "text/plain": [
              "<pandas.io.formats.style.Styler at 0x7faba8d19510>"
            ],
            "text/html": [
              "<style type=\"text/css\">\n",
              "#T_5dc9c_row0_col1, #T_5dc9c_row1_col1 {\n",
              "  width: 10em;\n",
              "  height: 80%;\n",
              "  background: linear-gradient(90deg,# 100.0%, transparent 100.0%);\n",
              "  background-color: #3f007d;\n",
              "  color: #f1f1f1;\n",
              "}\n",
              "#T_5dc9c_row0_col2, #T_5dc9c_row0_col3, #T_5dc9c_row0_col5, #T_5dc9c_row1_col2, #T_5dc9c_row1_col3, #T_5dc9c_row1_col4, #T_5dc9c_row2_col2, #T_5dc9c_row2_col3, #T_5dc9c_row2_col5, #T_5dc9c_row3_col3, #T_5dc9c_row3_col4, #T_5dc9c_row3_col5, #T_5dc9c_row4_col2, #T_5dc9c_row4_col3, #T_5dc9c_row4_col4, #T_5dc9c_row5_col3, #T_5dc9c_row5_col4, #T_5dc9c_row5_col5, #T_5dc9c_row6_col2, #T_5dc9c_row6_col4, #T_5dc9c_row6_col5, #T_5dc9c_row7_col2, #T_5dc9c_row7_col3, #T_5dc9c_row7_col5, #T_5dc9c_row8_col2, #T_5dc9c_row9_col3, #T_5dc9c_row9_col5, #T_5dc9c_row10_col2, #T_5dc9c_row10_col3, #T_5dc9c_row10_col5, #T_5dc9c_row11_col2, #T_5dc9c_row11_col4, #T_5dc9c_row11_col5, #T_5dc9c_row12_col2, #T_5dc9c_row12_col3, #T_5dc9c_row12_col4, #T_5dc9c_row13_col2, #T_5dc9c_row13_col3, #T_5dc9c_row13_col5, #T_5dc9c_row14_col2, #T_5dc9c_row14_col3, #T_5dc9c_row14_col5, #T_5dc9c_row15_col1, #T_5dc9c_row15_col3, #T_5dc9c_row15_col4, #T_5dc9c_row15_col5, #T_5dc9c_row16_col1, #T_5dc9c_row16_col3, #T_5dc9c_row16_col4, #T_5dc9c_row16_col5, #T_5dc9c_row17_col1, #T_5dc9c_row17_col3, #T_5dc9c_row17_col4, #T_5dc9c_row17_col5, #T_5dc9c_row18_col1, #T_5dc9c_row18_col4, #T_5dc9c_row18_col5, #T_5dc9c_row19_col1, #T_5dc9c_row19_col2, #T_5dc9c_row19_col3, #T_5dc9c_row19_col5 {\n",
              "  width: 10em;\n",
              "  height: 80%;\n",
              "  background-color: #fcfbfd;\n",
              "  color: #000000;\n",
              "}\n",
              "#T_5dc9c_row0_col4, #T_5dc9c_row2_col4, #T_5dc9c_row7_col4, #T_5dc9c_row8_col4, #T_5dc9c_row9_col4, #T_5dc9c_row10_col4, #T_5dc9c_row13_col4, #T_5dc9c_row14_col4, #T_5dc9c_row19_col4 {\n",
              "  width: 10em;\n",
              "  height: 80%;\n",
              "  background: linear-gradient(90deg,#a2d2ff 100.0%, transparent 100.0%);\n",
              "  background-color: #3f007d;\n",
              "  color: #f1f1f1;\n",
              "}\n",
              "#T_5dc9c_row1_col5, #T_5dc9c_row4_col5, #T_5dc9c_row8_col5, #T_5dc9c_row12_col5 {\n",
              "  width: 10em;\n",
              "  height: 80%;\n",
              "  background: linear-gradient(90deg,#72efdd 100.0%, transparent 100.0%);\n",
              "  background-color: #3f007d;\n",
              "  color: #f1f1f1;\n",
              "}\n",
              "#T_5dc9c_row2_col1 {\n",
              "  width: 10em;\n",
              "  height: 80%;\n",
              "  background: linear-gradient(90deg,# 80.0%, transparent 80.0%);\n",
              "  background-color: #61409b;\n",
              "  color: #f1f1f1;\n",
              "}\n",
              "#T_5dc9c_row3_col1, #T_5dc9c_row4_col1 {\n",
              "  width: 10em;\n",
              "  height: 80%;\n",
              "  background: linear-gradient(90deg,# 60.0%, transparent 60.0%);\n",
              "  background-color: #8683bd;\n",
              "  color: #f1f1f1;\n",
              "}\n",
              "#T_5dc9c_row3_col2, #T_5dc9c_row5_col2, #T_5dc9c_row9_col2, #T_5dc9c_row15_col2, #T_5dc9c_row16_col2, #T_5dc9c_row17_col2, #T_5dc9c_row18_col2 {\n",
              "  width: 10em;\n",
              "  height: 80%;\n",
              "  background: linear-gradient(90deg,#ff6b6b 100.0%, transparent 100.0%);\n",
              "  background-color: #3f007d;\n",
              "  color: #f1f1f1;\n",
              "}\n",
              "#T_5dc9c_row5_col1, #T_5dc9c_row6_col1, #T_5dc9c_row7_col1, #T_5dc9c_row8_col1, #T_5dc9c_row9_col1 {\n",
              "  width: 10em;\n",
              "  height: 80%;\n",
              "  background: linear-gradient(90deg,# 40.0%, transparent 40.0%);\n",
              "  background-color: #b6b6d8;\n",
              "  color: #000000;\n",
              "}\n",
              "#T_5dc9c_row6_col3, #T_5dc9c_row8_col3, #T_5dc9c_row11_col3, #T_5dc9c_row18_col3 {\n",
              "  width: 10em;\n",
              "  height: 80%;\n",
              "  background: linear-gradient(90deg,#95d5b2 100.0%, transparent 100.0%);\n",
              "  background-color: #3f007d;\n",
              "  color: #f1f1f1;\n",
              "}\n",
              "#T_5dc9c_row10_col1, #T_5dc9c_row11_col1, #T_5dc9c_row12_col1, #T_5dc9c_row13_col1, #T_5dc9c_row14_col1 {\n",
              "  width: 10em;\n",
              "  height: 80%;\n",
              "  background: linear-gradient(90deg,# 20.0%, transparent 20.0%);\n",
              "  background-color: #e2e2ef;\n",
              "  color: #000000;\n",
              "}\n",
              "</style>\n",
              "<table id=\"T_5dc9c_\" class=\"dataframe\">\n",
              "  <thead>\n",
              "    <tr>\n",
              "      <th class=\"blank level0\" >&nbsp;</th>\n",
              "      <th class=\"col_heading level0 col0\" >Title</th>\n",
              "      <th class=\"col_heading level0 col1\" >IMDb</th>\n",
              "      <th class=\"col_heading level0 col2\" >Netflix</th>\n",
              "      <th class=\"col_heading level0 col3\" >Hulu</th>\n",
              "      <th class=\"col_heading level0 col4\" >Prime Video</th>\n",
              "      <th class=\"col_heading level0 col5\" >Disney+</th>\n",
              "    </tr>\n",
              "  </thead>\n",
              "  <tbody>\n",
              "    <tr>\n",
              "      <th id=\"T_5dc9c_level0_row0\" class=\"row_heading level0 row0\" >3802</th>\n",
              "      <td id=\"T_5dc9c_row0_col0\" class=\"data row0 col0\" >The Secret World of Nature: Spain</td>\n",
              "      <td id=\"T_5dc9c_row0_col1\" class=\"data row0 col1\" >9.600000</td>\n",
              "      <td id=\"T_5dc9c_row0_col2\" class=\"data row0 col2\" >0</td>\n",
              "      <td id=\"T_5dc9c_row0_col3\" class=\"data row0 col3\" >0</td>\n",
              "      <td id=\"T_5dc9c_row0_col4\" class=\"data row0 col4\" >1</td>\n",
              "      <td id=\"T_5dc9c_row0_col5\" class=\"data row0 col5\" >0</td>\n",
              "    </tr>\n",
              "    <tr>\n",
              "      <th id=\"T_5dc9c_level0_row1\" class=\"row_heading level0 row1\" >5077</th>\n",
              "      <td id=\"T_5dc9c_row1_col0\" class=\"data row1 col0\" >Bluey</td>\n",
              "      <td id=\"T_5dc9c_row1_col1\" class=\"data row1 col1\" >9.600000</td>\n",
              "      <td id=\"T_5dc9c_row1_col2\" class=\"data row1 col2\" >0</td>\n",
              "      <td id=\"T_5dc9c_row1_col3\" class=\"data row1 col3\" >0</td>\n",
              "      <td id=\"T_5dc9c_row1_col4\" class=\"data row1 col4\" >0</td>\n",
              "      <td id=\"T_5dc9c_row1_col5\" class=\"data row1 col5\" >1</td>\n",
              "    </tr>\n",
              "    <tr>\n",
              "      <th id=\"T_5dc9c_level0_row2\" class=\"row_heading level0 row2\" >3611</th>\n",
              "      <td id=\"T_5dc9c_row2_col0\" class=\"data row2 col0\" >Malgudi Days</td>\n",
              "      <td id=\"T_5dc9c_row2_col1\" class=\"data row2 col1\" >9.500000</td>\n",
              "      <td id=\"T_5dc9c_row2_col2\" class=\"data row2 col2\" >0</td>\n",
              "      <td id=\"T_5dc9c_row2_col3\" class=\"data row2 col3\" >0</td>\n",
              "      <td id=\"T_5dc9c_row2_col4\" class=\"data row2 col4\" >1</td>\n",
              "      <td id=\"T_5dc9c_row2_col5\" class=\"data row2 col5\" >0</td>\n",
              "    </tr>\n",
              "    <tr>\n",
              "      <th id=\"T_5dc9c_level0_row3\" class=\"row_heading level0 row3\" >0</th>\n",
              "      <td id=\"T_5dc9c_row3_col0\" class=\"data row3 col0\" >Breaking Bad</td>\n",
              "      <td id=\"T_5dc9c_row3_col1\" class=\"data row3 col1\" >9.400000</td>\n",
              "      <td id=\"T_5dc9c_row3_col2\" class=\"data row3 col2\" >1</td>\n",
              "      <td id=\"T_5dc9c_row3_col3\" class=\"data row3 col3\" >0</td>\n",
              "      <td id=\"T_5dc9c_row3_col4\" class=\"data row3 col4\" >0</td>\n",
              "      <td id=\"T_5dc9c_row3_col5\" class=\"data row3 col5\" >0</td>\n",
              "    </tr>\n",
              "    <tr>\n",
              "      <th id=\"T_5dc9c_level0_row4\" class=\"row_heading level0 row4\" >5277</th>\n",
              "      <td id=\"T_5dc9c_row4_col0\" class=\"data row4 col0\" >Alaska Animal Rescue</td>\n",
              "      <td id=\"T_5dc9c_row4_col1\" class=\"data row4 col1\" >9.400000</td>\n",
              "      <td id=\"T_5dc9c_row4_col2\" class=\"data row4 col2\" >0</td>\n",
              "      <td id=\"T_5dc9c_row4_col3\" class=\"data row4 col3\" >0</td>\n",
              "      <td id=\"T_5dc9c_row4_col4\" class=\"data row4 col4\" >0</td>\n",
              "      <td id=\"T_5dc9c_row4_col5\" class=\"data row4 col5\" >1</td>\n",
              "    </tr>\n",
              "    <tr>\n",
              "      <th id=\"T_5dc9c_level0_row5\" class=\"row_heading level0 row5\" >80</th>\n",
              "      <td id=\"T_5dc9c_row5_col0\" class=\"data row5 col0\" >Our Planet</td>\n",
              "      <td id=\"T_5dc9c_row5_col1\" class=\"data row5 col1\" >9.300000</td>\n",
              "      <td id=\"T_5dc9c_row5_col2\" class=\"data row5 col2\" >1</td>\n",
              "      <td id=\"T_5dc9c_row5_col3\" class=\"data row5 col3\" >0</td>\n",
              "      <td id=\"T_5dc9c_row5_col4\" class=\"data row5 col4\" >0</td>\n",
              "      <td id=\"T_5dc9c_row5_col5\" class=\"data row5 col5\" >0</td>\n",
              "    </tr>\n",
              "    <tr>\n",
              "      <th id=\"T_5dc9c_level0_row6\" class=\"row_heading level0 row6\" >3115</th>\n",
              "      <td id=\"T_5dc9c_row6_col0\" class=\"data row6 col0\" >Hungry Henry</td>\n",
              "      <td id=\"T_5dc9c_row6_col1\" class=\"data row6 col1\" >9.300000</td>\n",
              "      <td id=\"T_5dc9c_row6_col2\" class=\"data row6 col2\" >0</td>\n",
              "      <td id=\"T_5dc9c_row6_col3\" class=\"data row6 col3\" >1</td>\n",
              "      <td id=\"T_5dc9c_row6_col4\" class=\"data row6 col4\" >0</td>\n",
              "      <td id=\"T_5dc9c_row6_col5\" class=\"data row6 col5\" >0</td>\n",
              "    </tr>\n",
              "    <tr>\n",
              "      <th id=\"T_5dc9c_level0_row7\" class=\"row_heading level0 row7\" >3760</th>\n",
              "      <td id=\"T_5dc9c_row7_col0\" class=\"data row7 col0\" >Everyday Driver</td>\n",
              "      <td id=\"T_5dc9c_row7_col1\" class=\"data row7 col1\" >9.300000</td>\n",
              "      <td id=\"T_5dc9c_row7_col2\" class=\"data row7 col2\" >0</td>\n",
              "      <td id=\"T_5dc9c_row7_col3\" class=\"data row7 col3\" >0</td>\n",
              "      <td id=\"T_5dc9c_row7_col4\" class=\"data row7 col4\" >1</td>\n",
              "      <td id=\"T_5dc9c_row7_col5\" class=\"data row7 col5\" >0</td>\n",
              "    </tr>\n",
              "    <tr>\n",
              "      <th id=\"T_5dc9c_level0_row8\" class=\"row_heading level0 row8\" >2009</th>\n",
              "      <td id=\"T_5dc9c_row8_col0\" class=\"data row8 col0\" >Cosmos</td>\n",
              "      <td id=\"T_5dc9c_row8_col1\" class=\"data row8 col1\" >9.300000</td>\n",
              "      <td id=\"T_5dc9c_row8_col2\" class=\"data row8 col2\" >0</td>\n",
              "      <td id=\"T_5dc9c_row8_col3\" class=\"data row8 col3\" >1</td>\n",
              "      <td id=\"T_5dc9c_row8_col4\" class=\"data row8 col4\" >1</td>\n",
              "      <td id=\"T_5dc9c_row8_col5\" class=\"data row8 col5\" >1</td>\n",
              "    </tr>\n",
              "    <tr>\n",
              "      <th id=\"T_5dc9c_level0_row9\" class=\"row_heading level0 row9\" >5</th>\n",
              "      <td id=\"T_5dc9c_row9_col0\" class=\"data row9 col0\" >Avatar: The Last Airbender</td>\n",
              "      <td id=\"T_5dc9c_row9_col1\" class=\"data row9 col1\" >9.300000</td>\n",
              "      <td id=\"T_5dc9c_row9_col2\" class=\"data row9 col2\" >1</td>\n",
              "      <td id=\"T_5dc9c_row9_col3\" class=\"data row9 col3\" >0</td>\n",
              "      <td id=\"T_5dc9c_row9_col4\" class=\"data row9 col4\" >1</td>\n",
              "      <td id=\"T_5dc9c_row9_col5\" class=\"data row9 col5\" >0</td>\n",
              "    </tr>\n",
              "    <tr>\n",
              "      <th id=\"T_5dc9c_level0_row10\" class=\"row_heading level0 row10\" >3503</th>\n",
              "      <td id=\"T_5dc9c_row10_col0\" class=\"data row10 col0\" >Clarkson's Farm</td>\n",
              "      <td id=\"T_5dc9c_row10_col1\" class=\"data row10 col1\" >9.200000</td>\n",
              "      <td id=\"T_5dc9c_row10_col2\" class=\"data row10 col2\" >0</td>\n",
              "      <td id=\"T_5dc9c_row10_col3\" class=\"data row10 col3\" >0</td>\n",
              "      <td id=\"T_5dc9c_row10_col4\" class=\"data row10 col4\" >1</td>\n",
              "      <td id=\"T_5dc9c_row10_col5\" class=\"data row10 col5\" >0</td>\n",
              "    </tr>\n",
              "    <tr>\n",
              "      <th id=\"T_5dc9c_level0_row11\" class=\"row_heading level0 row11\" >1950</th>\n",
              "      <td id=\"T_5dc9c_row11_col0\" class=\"data row11 col0\" >Rick and Morty</td>\n",
              "      <td id=\"T_5dc9c_row11_col1\" class=\"data row11 col1\" >9.200000</td>\n",
              "      <td id=\"T_5dc9c_row11_col2\" class=\"data row11 col2\" >0</td>\n",
              "      <td id=\"T_5dc9c_row11_col3\" class=\"data row11 col3\" >1</td>\n",
              "      <td id=\"T_5dc9c_row11_col4\" class=\"data row11 col4\" >0</td>\n",
              "      <td id=\"T_5dc9c_row11_col5\" class=\"data row11 col5\" >0</td>\n",
              "    </tr>\n",
              "    <tr>\n",
              "      <th id=\"T_5dc9c_level0_row12\" class=\"row_heading level0 row12\" >5106</th>\n",
              "      <td id=\"T_5dc9c_row12_col0\" class=\"data row12 col0\" >Cosmos: Possible Worlds</td>\n",
              "      <td id=\"T_5dc9c_row12_col1\" class=\"data row12 col1\" >9.200000</td>\n",
              "      <td id=\"T_5dc9c_row12_col2\" class=\"data row12 col2\" >0</td>\n",
              "      <td id=\"T_5dc9c_row12_col3\" class=\"data row12 col3\" >0</td>\n",
              "      <td id=\"T_5dc9c_row12_col4\" class=\"data row12 col4\" >0</td>\n",
              "      <td id=\"T_5dc9c_row12_col5\" class=\"data row12 col5\" >1</td>\n",
              "    </tr>\n",
              "    <tr>\n",
              "      <th id=\"T_5dc9c_level0_row13\" class=\"row_heading level0 row13\" >3771</th>\n",
              "      <td id=\"T_5dc9c_row13_col0\" class=\"data row13 col0\" >Harmony with A R Rahman</td>\n",
              "      <td id=\"T_5dc9c_row13_col1\" class=\"data row13 col1\" >9.200000</td>\n",
              "      <td id=\"T_5dc9c_row13_col2\" class=\"data row13 col2\" >0</td>\n",
              "      <td id=\"T_5dc9c_row13_col3\" class=\"data row13 col3\" >0</td>\n",
              "      <td id=\"T_5dc9c_row13_col4\" class=\"data row13 col4\" >1</td>\n",
              "      <td id=\"T_5dc9c_row13_col5\" class=\"data row13 col5\" >0</td>\n",
              "    </tr>\n",
              "    <tr>\n",
              "      <th id=\"T_5dc9c_level0_row14\" class=\"row_heading level0 row14\" >4106</th>\n",
              "      <td id=\"T_5dc9c_row14_col0\" class=\"data row14 col0\" >Becoming a Man</td>\n",
              "      <td id=\"T_5dc9c_row14_col1\" class=\"data row14 col1\" >9.200000</td>\n",
              "      <td id=\"T_5dc9c_row14_col2\" class=\"data row14 col2\" >0</td>\n",
              "      <td id=\"T_5dc9c_row14_col3\" class=\"data row14 col3\" >0</td>\n",
              "      <td id=\"T_5dc9c_row14_col4\" class=\"data row14 col4\" >1</td>\n",
              "      <td id=\"T_5dc9c_row14_col5\" class=\"data row14 col5\" >0</td>\n",
              "    </tr>\n",
              "    <tr>\n",
              "      <th id=\"T_5dc9c_level0_row15\" class=\"row_heading level0 row15\" >1001</th>\n",
              "      <td id=\"T_5dc9c_row15_col0\" class=\"data row15 col0\" >Okupas</td>\n",
              "      <td id=\"T_5dc9c_row15_col1\" class=\"data row15 col1\" >9.100000</td>\n",
              "      <td id=\"T_5dc9c_row15_col2\" class=\"data row15 col2\" >1</td>\n",
              "      <td id=\"T_5dc9c_row15_col3\" class=\"data row15 col3\" >0</td>\n",
              "      <td id=\"T_5dc9c_row15_col4\" class=\"data row15 col4\" >0</td>\n",
              "      <td id=\"T_5dc9c_row15_col5\" class=\"data row15 col5\" >0</td>\n",
              "    </tr>\n",
              "    <tr>\n",
              "      <th id=\"T_5dc9c_level0_row16\" class=\"row_heading level0 row16\" >201</th>\n",
              "      <td id=\"T_5dc9c_row16_col0\" class=\"data row16 col0\" >Leyla ile Mecnun</td>\n",
              "      <td id=\"T_5dc9c_row16_col1\" class=\"data row16 col1\" >9.100000</td>\n",
              "      <td id=\"T_5dc9c_row16_col2\" class=\"data row16 col2\" >1</td>\n",
              "      <td id=\"T_5dc9c_row16_col3\" class=\"data row16 col3\" >0</td>\n",
              "      <td id=\"T_5dc9c_row16_col4\" class=\"data row16 col4\" >0</td>\n",
              "      <td id=\"T_5dc9c_row16_col5\" class=\"data row16 col5\" >0</td>\n",
              "    </tr>\n",
              "    <tr>\n",
              "      <th id=\"T_5dc9c_level0_row17\" class=\"row_heading level0 row17\" >401</th>\n",
              "      <td id=\"T_5dc9c_row17_col0\" class=\"data row17 col0\" >My Mister</td>\n",
              "      <td id=\"T_5dc9c_row17_col1\" class=\"data row17 col1\" >9.100000</td>\n",
              "      <td id=\"T_5dc9c_row17_col2\" class=\"data row17 col2\" >1</td>\n",
              "      <td id=\"T_5dc9c_row17_col3\" class=\"data row17 col3\" >0</td>\n",
              "      <td id=\"T_5dc9c_row17_col4\" class=\"data row17 col4\" >0</td>\n",
              "      <td id=\"T_5dc9c_row17_col5\" class=\"data row17 col5\" >0</td>\n",
              "    </tr>\n",
              "    <tr>\n",
              "      <th id=\"T_5dc9c_level0_row18\" class=\"row_heading level0 row18\" >25</th>\n",
              "      <td id=\"T_5dc9c_row18_col0\" class=\"data row18 col0\" >Fullmetal Alchemist: Brotherhood</td>\n",
              "      <td id=\"T_5dc9c_row18_col1\" class=\"data row18 col1\" >9.100000</td>\n",
              "      <td id=\"T_5dc9c_row18_col2\" class=\"data row18 col2\" >1</td>\n",
              "      <td id=\"T_5dc9c_row18_col3\" class=\"data row18 col3\" >1</td>\n",
              "      <td id=\"T_5dc9c_row18_col4\" class=\"data row18 col4\" >0</td>\n",
              "      <td id=\"T_5dc9c_row18_col5\" class=\"data row18 col5\" >0</td>\n",
              "    </tr>\n",
              "    <tr>\n",
              "      <th id=\"T_5dc9c_level0_row19\" class=\"row_heading level0 row19\" >4068</th>\n",
              "      <td id=\"T_5dc9c_row19_col0\" class=\"data row19 col0\" >Junk Drawer Magic</td>\n",
              "      <td id=\"T_5dc9c_row19_col1\" class=\"data row19 col1\" >9.100000</td>\n",
              "      <td id=\"T_5dc9c_row19_col2\" class=\"data row19 col2\" >0</td>\n",
              "      <td id=\"T_5dc9c_row19_col3\" class=\"data row19 col3\" >0</td>\n",
              "      <td id=\"T_5dc9c_row19_col4\" class=\"data row19 col4\" >1</td>\n",
              "      <td id=\"T_5dc9c_row19_col5\" class=\"data row19 col5\" >0</td>\n",
              "    </tr>\n",
              "  </tbody>\n",
              "</table>\n"
            ]
          },
          "metadata": {},
          "execution_count": 51
        }
      ]
    },
    {
      "cell_type": "code",
      "source": [
        "r1 = df_movie.sort_values(by='IMDb', ascending=False)\n",
        "r1 = r1[0:10]\n",
        "r1['Movie']='Movie'\n",
        "fig = px.treemap(r1, path=['Movie','Title', 'Genres','Language'], values='IMDb',color='IMDb',color_continuous_scale='Purp')\n",
        "fig.show()"
      ],
      "metadata": {
        "colab": {
          "base_uri": "https://localhost:8080/",
          "height": 542
        },
        "id": "QnGHdXxYrbzW",
        "outputId": "38df640b-530b-4a05-97c6-ce62d7e2a29b"
      },
      "execution_count": 52,
      "outputs": [
        {
          "output_type": "display_data",
          "data": {
            "text/html": [
              "<html>\n",
              "<head><meta charset=\"utf-8\" /></head>\n",
              "<body>\n",
              "    <div>            <script src=\"https://cdnjs.cloudflare.com/ajax/libs/mathjax/2.7.5/MathJax.js?config=TeX-AMS-MML_SVG\"></script><script type=\"text/javascript\">if (window.MathJax) {MathJax.Hub.Config({SVG: {font: \"STIX-Web\"}});}</script>                <script type=\"text/javascript\">window.PlotlyConfig = {MathJaxConfig: 'local'};</script>\n",
              "        <script src=\"https://cdn.plot.ly/plotly-2.8.3.min.js\"></script>                <div id=\"77c5adb7-920b-424a-92ea-bac03923b3bb\" class=\"plotly-graph-div\" style=\"height:525px; width:100%;\"></div>            <script type=\"text/javascript\">                                    window.PLOTLYENV=window.PLOTLYENV || {};                                    if (document.getElementById(\"77c5adb7-920b-424a-92ea-bac03923b3bb\")) {                    Plotly.newPlot(                        \"77c5adb7-920b-424a-92ea-bac03923b3bb\",                        [{\"branchvalues\":\"total\",\"customdata\":[[9.0],[9.0],[9.0],[9.2],[9.8],[9.0],[9.0],[9.7],[9.0],[9.0],[9.7],[9.0],[9.0],[9.2],[9.0],[9.6],[9.0],[9.8],[9.0],[9.0],[9.0],[9.2],[9.6],[9.0],[9.7],[9.8],[9.0],[9.0],[9.240845070422536]],\"domain\":{\"x\":[0.0,1.0],\"y\":[0.0,1.0]},\"hovertemplate\":\"labels=%{label}<br>IMDb_sum=%{value}<br>parent=%{parent}<br>id=%{id}<br>IMDb=%{color}<extra></extra>\",\"ids\":[\"Movie/No Longer kids/Comedy/Arabic\",\"Movie/They Come to America IV: Immigration & Politics/Documentary/English\",\"Movie/David Attenborough: A Life on Our Planet/Documentary,Biography/English\",\"Movie/Healing Voices/Documentary,Drama/English\",\"Movie/Ruby's Studio: the Feelings Show/Family/English\",\"Movie/The Dark Knight/Action,Crime,Drama,Thriller/English,Mandarin\",\"Movie/C/o Kancharapalem/Drama/Telugu\",\"Movie/Ostatni ludzie Czarnobyla/Documentary/Ukrainian\",\"Movie/The Dark Knight/Action,Crime,Drama,Thriller\",\"Movie/No Longer kids/Comedy\",\"Movie/Ostatni ludzie Czarnobyla/Documentary\",\"Movie/They Come to America IV: Immigration & Politics/Documentary\",\"Movie/David Attenborough: A Life on Our Planet/Documentary,Biography\",\"Movie/Healing Voices/Documentary,Drama\",\"Movie/Blue Ribbon Kids/Documentary,Reality-TV\",\"Movie/Jingle Pols/Documentary,Reality-TV\",\"Movie/C/o Kancharapalem/Drama\",\"Movie/Ruby's Studio: the Feelings Show/Family\",\"Movie/Blue Ribbon Kids\",\"Movie/C/o Kancharapalem\",\"Movie/David Attenborough: A Life on Our Planet\",\"Movie/Healing Voices\",\"Movie/Jingle Pols\",\"Movie/No Longer kids\",\"Movie/Ostatni ludzie Czarnobyla\",\"Movie/Ruby's Studio: the Feelings Show\",\"Movie/The Dark Knight\",\"Movie/They Come to America IV: Immigration & Politics\",\"Movie\"],\"labels\":[\"Arabic\",\"English\",\"English\",\"English\",\"English\",\"English,Mandarin\",\"Telugu\",\"Ukrainian\",\"Action,Crime,Drama,Thriller\",\"Comedy\",\"Documentary\",\"Documentary\",\"Documentary,Biography\",\"Documentary,Drama\",\"Documentary,Reality-TV\",\"Documentary,Reality-TV\",\"Drama\",\"Family\",\"Blue Ribbon Kids\",\"C/o Kancharapalem\",\"David Attenborough: A Life on Our Planet\",\"Healing Voices\",\"Jingle Pols\",\"No Longer kids\",\"Ostatni ludzie Czarnobyla\",\"Ruby's Studio: the Feelings Show\",\"The Dark Knight\",\"They Come to America IV: Immigration & Politics\",\"Movie\"],\"marker\":{\"coloraxis\":\"coloraxis\",\"colors\":[9.0,9.0,9.0,9.2,9.8,9.0,9.0,9.7,9.0,9.0,9.7,9.0,9.0,9.2,9.0,9.6,9.0,9.8,9.0,9.0,9.0,9.2,9.6,9.0,9.7,9.8,9.0,9.0,9.240845070422536]},\"name\":\"\",\"parents\":[\"Movie/No Longer kids/Comedy\",\"Movie/They Come to America IV: Immigration & Politics/Documentary\",\"Movie/David Attenborough: A Life on Our Planet/Documentary,Biography\",\"Movie/Healing Voices/Documentary,Drama\",\"Movie/Ruby's Studio: the Feelings Show/Family\",\"Movie/The Dark Knight/Action,Crime,Drama,Thriller\",\"Movie/C/o Kancharapalem/Drama\",\"Movie/Ostatni ludzie Czarnobyla/Documentary\",\"Movie/The Dark Knight\",\"Movie/No Longer kids\",\"Movie/Ostatni ludzie Czarnobyla\",\"Movie/They Come to America IV: Immigration & Politics\",\"Movie/David Attenborough: A Life on Our Planet\",\"Movie/Healing Voices\",\"Movie/Blue Ribbon Kids\",\"Movie/Jingle Pols\",\"Movie/C/o Kancharapalem\",\"Movie/Ruby's Studio: the Feelings Show\",\"Movie\",\"Movie\",\"Movie\",\"Movie\",\"Movie\",\"Movie\",\"Movie\",\"Movie\",\"Movie\",\"Movie\",\"\"],\"values\":[9.0,9.0,9.0,9.2,9.8,9.0,9.0,9.7,9.0,9.0,9.7,9.0,9.0,9.2,9.0,9.6,9.0,9.8,9.0,9.0,9.0,9.2,9.6,9.0,9.7,9.8,9.0,9.0,92.3],\"type\":\"treemap\"}],                        {\"template\":{\"data\":{\"bar\":[{\"error_x\":{\"color\":\"#2a3f5f\"},\"error_y\":{\"color\":\"#2a3f5f\"},\"marker\":{\"line\":{\"color\":\"#E5ECF6\",\"width\":0.5},\"pattern\":{\"fillmode\":\"overlay\",\"size\":10,\"solidity\":0.2}},\"type\":\"bar\"}],\"barpolar\":[{\"marker\":{\"line\":{\"color\":\"#E5ECF6\",\"width\":0.5},\"pattern\":{\"fillmode\":\"overlay\",\"size\":10,\"solidity\":0.2}},\"type\":\"barpolar\"}],\"carpet\":[{\"aaxis\":{\"endlinecolor\":\"#2a3f5f\",\"gridcolor\":\"white\",\"linecolor\":\"white\",\"minorgridcolor\":\"white\",\"startlinecolor\":\"#2a3f5f\"},\"baxis\":{\"endlinecolor\":\"#2a3f5f\",\"gridcolor\":\"white\",\"linecolor\":\"white\",\"minorgridcolor\":\"white\",\"startlinecolor\":\"#2a3f5f\"},\"type\":\"carpet\"}],\"choropleth\":[{\"colorbar\":{\"outlinewidth\":0,\"ticks\":\"\"},\"type\":\"choropleth\"}],\"contour\":[{\"colorbar\":{\"outlinewidth\":0,\"ticks\":\"\"},\"colorscale\":[[0.0,\"#0d0887\"],[0.1111111111111111,\"#46039f\"],[0.2222222222222222,\"#7201a8\"],[0.3333333333333333,\"#9c179e\"],[0.4444444444444444,\"#bd3786\"],[0.5555555555555556,\"#d8576b\"],[0.6666666666666666,\"#ed7953\"],[0.7777777777777778,\"#fb9f3a\"],[0.8888888888888888,\"#fdca26\"],[1.0,\"#f0f921\"]],\"type\":\"contour\"}],\"contourcarpet\":[{\"colorbar\":{\"outlinewidth\":0,\"ticks\":\"\"},\"type\":\"contourcarpet\"}],\"heatmap\":[{\"colorbar\":{\"outlinewidth\":0,\"ticks\":\"\"},\"colorscale\":[[0.0,\"#0d0887\"],[0.1111111111111111,\"#46039f\"],[0.2222222222222222,\"#7201a8\"],[0.3333333333333333,\"#9c179e\"],[0.4444444444444444,\"#bd3786\"],[0.5555555555555556,\"#d8576b\"],[0.6666666666666666,\"#ed7953\"],[0.7777777777777778,\"#fb9f3a\"],[0.8888888888888888,\"#fdca26\"],[1.0,\"#f0f921\"]],\"type\":\"heatmap\"}],\"heatmapgl\":[{\"colorbar\":{\"outlinewidth\":0,\"ticks\":\"\"},\"colorscale\":[[0.0,\"#0d0887\"],[0.1111111111111111,\"#46039f\"],[0.2222222222222222,\"#7201a8\"],[0.3333333333333333,\"#9c179e\"],[0.4444444444444444,\"#bd3786\"],[0.5555555555555556,\"#d8576b\"],[0.6666666666666666,\"#ed7953\"],[0.7777777777777778,\"#fb9f3a\"],[0.8888888888888888,\"#fdca26\"],[1.0,\"#f0f921\"]],\"type\":\"heatmapgl\"}],\"histogram\":[{\"marker\":{\"pattern\":{\"fillmode\":\"overlay\",\"size\":10,\"solidity\":0.2}},\"type\":\"histogram\"}],\"histogram2d\":[{\"colorbar\":{\"outlinewidth\":0,\"ticks\":\"\"},\"colorscale\":[[0.0,\"#0d0887\"],[0.1111111111111111,\"#46039f\"],[0.2222222222222222,\"#7201a8\"],[0.3333333333333333,\"#9c179e\"],[0.4444444444444444,\"#bd3786\"],[0.5555555555555556,\"#d8576b\"],[0.6666666666666666,\"#ed7953\"],[0.7777777777777778,\"#fb9f3a\"],[0.8888888888888888,\"#fdca26\"],[1.0,\"#f0f921\"]],\"type\":\"histogram2d\"}],\"histogram2dcontour\":[{\"colorbar\":{\"outlinewidth\":0,\"ticks\":\"\"},\"colorscale\":[[0.0,\"#0d0887\"],[0.1111111111111111,\"#46039f\"],[0.2222222222222222,\"#7201a8\"],[0.3333333333333333,\"#9c179e\"],[0.4444444444444444,\"#bd3786\"],[0.5555555555555556,\"#d8576b\"],[0.6666666666666666,\"#ed7953\"],[0.7777777777777778,\"#fb9f3a\"],[0.8888888888888888,\"#fdca26\"],[1.0,\"#f0f921\"]],\"type\":\"histogram2dcontour\"}],\"mesh3d\":[{\"colorbar\":{\"outlinewidth\":0,\"ticks\":\"\"},\"type\":\"mesh3d\"}],\"parcoords\":[{\"line\":{\"colorbar\":{\"outlinewidth\":0,\"ticks\":\"\"}},\"type\":\"parcoords\"}],\"pie\":[{\"automargin\":true,\"type\":\"pie\"}],\"scatter\":[{\"marker\":{\"colorbar\":{\"outlinewidth\":0,\"ticks\":\"\"}},\"type\":\"scatter\"}],\"scatter3d\":[{\"line\":{\"colorbar\":{\"outlinewidth\":0,\"ticks\":\"\"}},\"marker\":{\"colorbar\":{\"outlinewidth\":0,\"ticks\":\"\"}},\"type\":\"scatter3d\"}],\"scattercarpet\":[{\"marker\":{\"colorbar\":{\"outlinewidth\":0,\"ticks\":\"\"}},\"type\":\"scattercarpet\"}],\"scattergeo\":[{\"marker\":{\"colorbar\":{\"outlinewidth\":0,\"ticks\":\"\"}},\"type\":\"scattergeo\"}],\"scattergl\":[{\"marker\":{\"colorbar\":{\"outlinewidth\":0,\"ticks\":\"\"}},\"type\":\"scattergl\"}],\"scattermapbox\":[{\"marker\":{\"colorbar\":{\"outlinewidth\":0,\"ticks\":\"\"}},\"type\":\"scattermapbox\"}],\"scatterpolar\":[{\"marker\":{\"colorbar\":{\"outlinewidth\":0,\"ticks\":\"\"}},\"type\":\"scatterpolar\"}],\"scatterpolargl\":[{\"marker\":{\"colorbar\":{\"outlinewidth\":0,\"ticks\":\"\"}},\"type\":\"scatterpolargl\"}],\"scatterternary\":[{\"marker\":{\"colorbar\":{\"outlinewidth\":0,\"ticks\":\"\"}},\"type\":\"scatterternary\"}],\"surface\":[{\"colorbar\":{\"outlinewidth\":0,\"ticks\":\"\"},\"colorscale\":[[0.0,\"#0d0887\"],[0.1111111111111111,\"#46039f\"],[0.2222222222222222,\"#7201a8\"],[0.3333333333333333,\"#9c179e\"],[0.4444444444444444,\"#bd3786\"],[0.5555555555555556,\"#d8576b\"],[0.6666666666666666,\"#ed7953\"],[0.7777777777777778,\"#fb9f3a\"],[0.8888888888888888,\"#fdca26\"],[1.0,\"#f0f921\"]],\"type\":\"surface\"}],\"table\":[{\"cells\":{\"fill\":{\"color\":\"#EBF0F8\"},\"line\":{\"color\":\"white\"}},\"header\":{\"fill\":{\"color\":\"#C8D4E3\"},\"line\":{\"color\":\"white\"}},\"type\":\"table\"}]},\"layout\":{\"annotationdefaults\":{\"arrowcolor\":\"#2a3f5f\",\"arrowhead\":0,\"arrowwidth\":1},\"autotypenumbers\":\"strict\",\"coloraxis\":{\"colorbar\":{\"outlinewidth\":0,\"ticks\":\"\"}},\"colorscale\":{\"diverging\":[[0,\"#8e0152\"],[0.1,\"#c51b7d\"],[0.2,\"#de77ae\"],[0.3,\"#f1b6da\"],[0.4,\"#fde0ef\"],[0.5,\"#f7f7f7\"],[0.6,\"#e6f5d0\"],[0.7,\"#b8e186\"],[0.8,\"#7fbc41\"],[0.9,\"#4d9221\"],[1,\"#276419\"]],\"sequential\":[[0.0,\"#0d0887\"],[0.1111111111111111,\"#46039f\"],[0.2222222222222222,\"#7201a8\"],[0.3333333333333333,\"#9c179e\"],[0.4444444444444444,\"#bd3786\"],[0.5555555555555556,\"#d8576b\"],[0.6666666666666666,\"#ed7953\"],[0.7777777777777778,\"#fb9f3a\"],[0.8888888888888888,\"#fdca26\"],[1.0,\"#f0f921\"]],\"sequentialminus\":[[0.0,\"#0d0887\"],[0.1111111111111111,\"#46039f\"],[0.2222222222222222,\"#7201a8\"],[0.3333333333333333,\"#9c179e\"],[0.4444444444444444,\"#bd3786\"],[0.5555555555555556,\"#d8576b\"],[0.6666666666666666,\"#ed7953\"],[0.7777777777777778,\"#fb9f3a\"],[0.8888888888888888,\"#fdca26\"],[1.0,\"#f0f921\"]]},\"colorway\":[\"#636efa\",\"#EF553B\",\"#00cc96\",\"#ab63fa\",\"#FFA15A\",\"#19d3f3\",\"#FF6692\",\"#B6E880\",\"#FF97FF\",\"#FECB52\"],\"font\":{\"color\":\"#2a3f5f\"},\"geo\":{\"bgcolor\":\"white\",\"lakecolor\":\"white\",\"landcolor\":\"#E5ECF6\",\"showlakes\":true,\"showland\":true,\"subunitcolor\":\"white\"},\"hoverlabel\":{\"align\":\"left\"},\"hovermode\":\"closest\",\"mapbox\":{\"style\":\"light\"},\"paper_bgcolor\":\"white\",\"plot_bgcolor\":\"#E5ECF6\",\"polar\":{\"angularaxis\":{\"gridcolor\":\"white\",\"linecolor\":\"white\",\"ticks\":\"\"},\"bgcolor\":\"#E5ECF6\",\"radialaxis\":{\"gridcolor\":\"white\",\"linecolor\":\"white\",\"ticks\":\"\"}},\"scene\":{\"xaxis\":{\"backgroundcolor\":\"#E5ECF6\",\"gridcolor\":\"white\",\"gridwidth\":2,\"linecolor\":\"white\",\"showbackground\":true,\"ticks\":\"\",\"zerolinecolor\":\"white\"},\"yaxis\":{\"backgroundcolor\":\"#E5ECF6\",\"gridcolor\":\"white\",\"gridwidth\":2,\"linecolor\":\"white\",\"showbackground\":true,\"ticks\":\"\",\"zerolinecolor\":\"white\"},\"zaxis\":{\"backgroundcolor\":\"#E5ECF6\",\"gridcolor\":\"white\",\"gridwidth\":2,\"linecolor\":\"white\",\"showbackground\":true,\"ticks\":\"\",\"zerolinecolor\":\"white\"}},\"shapedefaults\":{\"line\":{\"color\":\"#2a3f5f\"}},\"ternary\":{\"aaxis\":{\"gridcolor\":\"white\",\"linecolor\":\"white\",\"ticks\":\"\"},\"baxis\":{\"gridcolor\":\"white\",\"linecolor\":\"white\",\"ticks\":\"\"},\"bgcolor\":\"#E5ECF6\",\"caxis\":{\"gridcolor\":\"white\",\"linecolor\":\"white\",\"ticks\":\"\"}},\"title\":{\"x\":0.05},\"xaxis\":{\"automargin\":true,\"gridcolor\":\"white\",\"linecolor\":\"white\",\"ticks\":\"\",\"title\":{\"standoff\":15},\"zerolinecolor\":\"white\",\"zerolinewidth\":2},\"yaxis\":{\"automargin\":true,\"gridcolor\":\"white\",\"linecolor\":\"white\",\"ticks\":\"\",\"title\":{\"standoff\":15},\"zerolinecolor\":\"white\",\"zerolinewidth\":2}}},\"coloraxis\":{\"colorbar\":{\"title\":{\"text\":\"IMDb\"}},\"colorscale\":[[0.0,\"rgb(243, 224, 247)\"],[0.16666666666666666,\"rgb(228, 199, 241)\"],[0.3333333333333333,\"rgb(209, 175, 232)\"],[0.5,\"rgb(185, 152, 221)\"],[0.6666666666666666,\"rgb(159, 130, 206)\"],[0.8333333333333334,\"rgb(130, 109, 186)\"],[1.0,\"rgb(99, 88, 159)\"]]},\"legend\":{\"tracegroupgap\":0},\"margin\":{\"t\":60}},                        {\"responsive\": true}                    ).then(function(){\n",
              "                            \n",
              "var gd = document.getElementById('77c5adb7-920b-424a-92ea-bac03923b3bb');\n",
              "var x = new MutationObserver(function (mutations, observer) {{\n",
              "        var display = window.getComputedStyle(gd).display;\n",
              "        if (!display || display === 'none') {{\n",
              "            console.log([gd, 'removed!']);\n",
              "            Plotly.purge(gd);\n",
              "            observer.disconnect();\n",
              "        }}\n",
              "}});\n",
              "\n",
              "// Listen for the removal of the full notebook cells\n",
              "var notebookContainer = gd.closest('#notebook-container');\n",
              "if (notebookContainer) {{\n",
              "    x.observe(notebookContainer, {childList: true});\n",
              "}}\n",
              "\n",
              "// Listen for the clearing of the current output cell\n",
              "var outputEl = gd.closest('.output');\n",
              "if (outputEl) {{\n",
              "    x.observe(outputEl, {childList: true});\n",
              "}}\n",
              "\n",
              "                        })                };                            </script>        </div>\n",
              "</body>\n",
              "</html>"
            ]
          },
          "metadata": {}
        }
      ]
    },
    {
      "cell_type": "code",
      "source": [
        "### Rotten Tomatoes 기준 ###"
      ],
      "metadata": {
        "id": "uxJnRuJCr0Go"
      },
      "execution_count": 53,
      "outputs": []
    },
    {
      "cell_type": "code",
      "source": [
        "df_m = df_movie.copy()\n",
        "df_m = df_m.dropna()"
      ],
      "metadata": {
        "id": "xqZpS_Hwr3Ty"
      },
      "execution_count": 54,
      "outputs": []
    },
    {
      "cell_type": "code",
      "source": [
        "df_m['Rotten Tomatoes']=df_m['Rotten Tomatoes'].str.replace('%','')\n",
        "df_m['Rotten Tomatoes']=df_m['Rotten Tomatoes'].astype(str).astype(int)\n",
        "df_m['Directors']=df_m['Directors'].astype('str')"
      ],
      "metadata": {
        "id": "FcsEm48Kr7WZ"
      },
      "execution_count": 55,
      "outputs": []
    },
    {
      "cell_type": "code",
      "source": [
        "df_m=df_m.sort_values(by='Rotten Tomatoes', ascending=False)\n",
        "rating = df_m[0:20]\n",
        "sns.catplot(x=\"Rotten Tomatoes\", y=\"Directors\",data=rating, palette=netflix_p,height=7,kind=\"point\");"
      ],
      "metadata": {
        "colab": {
          "base_uri": "https://localhost:8080/",
          "height": 513
        },
        "id": "BboR2h_sr-ti",
        "outputId": "4d48a86d-b336-493d-9926-ca013e965e99"
      },
      "execution_count": 56,
      "outputs": [
        {
          "output_type": "display_data",
          "data": {
            "text/plain": [
              "<Figure size 504x504 with 1 Axes>"
            ],
            "image/png": "[encoded data removed]"
          },
          "metadata": {
            "needs_background": "light"
          }
        }
      ]
    },
    {
      "cell_type": "code",
      "source": [
        "### 모든 데이터 기반 ###"
      ],
      "metadata": {
        "id": "Nx60JTiasANB"
      },
      "execution_count": 58,
      "outputs": []
    },
    {
      "cell_type": "code",
      "source": [
        "def dist(i,dataframe,platform,c):\n",
        "    plt.subplot(i)\n",
        "    dataframe=dataframe.loc[dataframe[platform] == 1]\n",
        "    sns.distplot(dataframe['IMDb'], color=custom_colors[c],vertical=True)\n",
        "    \n",
        "    plt.ylabel('IMDb rating, '+platform, fontsize = 15)\n",
        "    plt.subplot(i+1)\n",
        "    sns.distplot(dataframe['Rotten Tomatoes'], color=custom_colors[c],vertical=True)\n",
        "    plt.ylabel('Rotten Tomatoes, '+platform, fontsize = 15)"
      ],
      "metadata": {
        "id": "Hof3zGT0sI2A"
      },
      "execution_count": 59,
      "outputs": []
    },
    {
      "cell_type": "code",
      "source": [
        "plt.figure(figsize = (20, 20))\n",
        "\n",
        "dist(421,df_m,'Netflix',0)\n",
        "dist(423,df_m,'Hulu',1)\n",
        "dist(425,df_m,'Prime Video',2)\n",
        "dist(427,df_m,'Disney+',3)"
      ],
      "metadata": {
        "colab": {
          "base_uri": "https://localhost:8080/",
          "height": 1000
        },
        "id": "XnLmbwiIsYD5",
        "outputId": "c6ae0a82-8d6c-41dd-dcf7-3c43b951a890"
      },
      "execution_count": 60,
      "outputs": [
        {
          "output_type": "stream",
          "name": "stderr",
          "text": [
            "/usr/local/lib/python3.7/dist-packages/seaborn/distributions.py:2619: FutureWarning:\n",
            "\n",
            "`distplot` is a deprecated function and will be removed in a future version. Please adapt your code to use either `displot` (a figure-level function with similar flexibility) or `histplot` (an axes-level function for histograms).\n",
            "\n",
            "/usr/local/lib/python3.7/dist-packages/seaborn/distributions.py:1689: FutureWarning:\n",
            "\n",
            "The `vertical` parameter is deprecated and will be removed in a future version. Assign the data to the `y` variable instead.\n",
            "\n",
            "/usr/local/lib/python3.7/dist-packages/seaborn/distributions.py:2619: FutureWarning:\n",
            "\n",
            "`distplot` is a deprecated function and will be removed in a future version. Please adapt your code to use either `displot` (a figure-level function with similar flexibility) or `histplot` (an axes-level function for histograms).\n",
            "\n",
            "/usr/local/lib/python3.7/dist-packages/seaborn/distributions.py:1689: FutureWarning:\n",
            "\n",
            "The `vertical` parameter is deprecated and will be removed in a future version. Assign the data to the `y` variable instead.\n",
            "\n",
            "/usr/local/lib/python3.7/dist-packages/seaborn/distributions.py:2619: FutureWarning:\n",
            "\n",
            "`distplot` is a deprecated function and will be removed in a future version. Please adapt your code to use either `displot` (a figure-level function with similar flexibility) or `histplot` (an axes-level function for histograms).\n",
            "\n",
            "/usr/local/lib/python3.7/dist-packages/seaborn/distributions.py:1689: FutureWarning:\n",
            "\n",
            "The `vertical` parameter is deprecated and will be removed in a future version. Assign the data to the `y` variable instead.\n",
            "\n",
            "/usr/local/lib/python3.7/dist-packages/seaborn/distributions.py:2619: FutureWarning:\n",
            "\n",
            "`distplot` is a deprecated function and will be removed in a future version. Please adapt your code to use either `displot` (a figure-level function with similar flexibility) or `histplot` (an axes-level function for histograms).\n",
            "\n",
            "/usr/local/lib/python3.7/dist-packages/seaborn/distributions.py:1689: FutureWarning:\n",
            "\n",
            "The `vertical` parameter is deprecated and will be removed in a future version. Assign the data to the `y` variable instead.\n",
            "\n",
            "/usr/local/lib/python3.7/dist-packages/seaborn/distributions.py:2619: FutureWarning:\n",
            "\n",
            "`distplot` is a deprecated function and will be removed in a future version. Please adapt your code to use either `displot` (a figure-level function with similar flexibility) or `histplot` (an axes-level function for histograms).\n",
            "\n",
            "/usr/local/lib/python3.7/dist-packages/seaborn/distributions.py:1689: FutureWarning:\n",
            "\n",
            "The `vertical` parameter is deprecated and will be removed in a future version. Assign the data to the `y` variable instead.\n",
            "\n",
            "/usr/local/lib/python3.7/dist-packages/seaborn/distributions.py:2619: FutureWarning:\n",
            "\n",
            "`distplot` is a deprecated function and will be removed in a future version. Please adapt your code to use either `displot` (a figure-level function with similar flexibility) or `histplot` (an axes-level function for histograms).\n",
            "\n",
            "/usr/local/lib/python3.7/dist-packages/seaborn/distributions.py:1689: FutureWarning:\n",
            "\n",
            "The `vertical` parameter is deprecated and will be removed in a future version. Assign the data to the `y` variable instead.\n",
            "\n",
            "/usr/local/lib/python3.7/dist-packages/seaborn/distributions.py:2619: FutureWarning:\n",
            "\n",
            "`distplot` is a deprecated function and will be removed in a future version. Please adapt your code to use either `displot` (a figure-level function with similar flexibility) or `histplot` (an axes-level function for histograms).\n",
            "\n",
            "/usr/local/lib/python3.7/dist-packages/seaborn/distributions.py:1689: FutureWarning:\n",
            "\n",
            "The `vertical` parameter is deprecated and will be removed in a future version. Assign the data to the `y` variable instead.\n",
            "\n",
            "/usr/local/lib/python3.7/dist-packages/seaborn/distributions.py:2619: FutureWarning:\n",
            "\n",
            "`distplot` is a deprecated function and will be removed in a future version. Please adapt your code to use either `displot` (a figure-level function with similar flexibility) or `histplot` (an axes-level function for histograms).\n",
            "\n",
            "/usr/local/lib/python3.7/dist-packages/seaborn/distributions.py:1689: FutureWarning:\n",
            "\n",
            "The `vertical` parameter is deprecated and will be removed in a future version. Assign the data to the `y` variable instead.\n",
            "\n"
          ]
        },
        {
          "output_type": "display_data",
          "data": {
            "text/plain": [
              "<Figure size 1440x1440 with 8 Axes>"
            ],
            "image/png": "[encoded data removed]"
          },
          "metadata": {
            "needs_background": "light"
          }
        }
      ]
    },
    {
      "cell_type": "code",
      "source": [
        "df_m['Rotten Tomatoes'] = df_m['Rotten Tomatoes'].astype(float)\n",
        "df_m['IMDb'] = df_m['IMDb'].astype(float)\n",
        "\n",
        "plt.figure(figsize = (16, 8))\n",
        "sns.regplot(x = df_m['Rotten Tomatoes'],y = df_m['IMDb'],x_bins=10,marker=\"+\",color=\"#FDE74C\")\n",
        "plt.show()"
      ],
      "metadata": {
        "colab": {
          "base_uri": "https://localhost:8080/",
          "height": 355
        },
        "id": "Nkvk8LRQsccS",
        "outputId": "93cd3a91-d549-4f43-9c82-fd570a51336b"
      },
      "execution_count": 61,
      "outputs": [
        {
          "output_type": "display_data",
          "data": {
            "text/plain": [
              "<Figure size 1152x576 with 1 Axes>"
            ],
            "image/png": "[encoded data removed]"
          },
          "metadata": {
            "needs_background": "light"
          }
        }
      ]
    },
    {
      "cell_type": "code",
      "source": [
        "### All Platform 언어 및 장르 그래프 ###"
      ],
      "metadata": {
        "id": "LSlHIRHRslRi"
      },
      "execution_count": null,
      "outputs": []
    },
    {
      "cell_type": "code",
      "source": [
        "df_l_merged = pd.concat([df_movie, m_lang], axis = 1, sort = False)\n",
        "df_g_merged = pd.concat([df_movie, m_genres], axis = 1, sort = False)"
      ],
      "metadata": {
        "id": "f3-sYqUDsq5h"
      },
      "execution_count": 63,
      "outputs": []
    },
    {
      "cell_type": "code",
      "source": [
        "def bar(dataframe,platform,c):\n",
        "    dataframe=dataframe.loc[dataframe[platform] == 1]\n",
        "    val_counts = dataframe.iloc[:,15:].sum(axis=0).sort_values(ascending=False)\n",
        "    val_counts2 = pd.DataFrame(val_counts,columns=['Number of movies'])\n",
        "    return val_counts2[0:20].style.bar(subset=[\"Number of movies\",], color=c)"
      ],
      "metadata": {
        "id": "ZHt26JNqsq3-"
      },
      "execution_count": 64,
      "outputs": []
    },
    {
      "cell_type": "code",
      "source": [
        "bar(df_l_merged,'Netflix','#ff6b6b')"
      ],
      "metadata": {
        "colab": {
          "base_uri": "https://localhost:8080/",
          "height": 676
        },
        "id": "14xOmFtUsq1M",
        "outputId": "afc8bce9-380a-4d51-c119-79784140b3fd"
      },
      "execution_count": 65,
      "outputs": [
        {
          "output_type": "execute_result",
          "data": {
            "text/plain": [
              "<pandas.io.formats.style.Styler at 0x7faba5b259d0>"
            ],
            "text/html": [
              "<style type=\"text/css\">\n",
              "#T_72bd3_row0_col0 {\n",
              "  width: 10em;\n",
              "  height: 80%;\n",
              "  background: linear-gradient(90deg,#ff6b6b 100.0%, transparent 100.0%);\n",
              "}\n",
              "#T_72bd3_row1_col0 {\n",
              "  width: 10em;\n",
              "  height: 80%;\n",
              "  background: linear-gradient(90deg,#ff6b6b 15.4%, transparent 15.4%);\n",
              "}\n",
              "#T_72bd3_row2_col0 {\n",
              "  width: 10em;\n",
              "  height: 80%;\n",
              "  background: linear-gradient(90deg,#ff6b6b 15.3%, transparent 15.3%);\n",
              "}\n",
              "#T_72bd3_row3_col0 {\n",
              "  width: 10em;\n",
              "  height: 80%;\n",
              "  background: linear-gradient(90deg,#ff6b6b 8.3%, transparent 8.3%);\n",
              "}\n",
              "#T_72bd3_row4_col0 {\n",
              "  width: 10em;\n",
              "  height: 80%;\n",
              "  background: linear-gradient(90deg,#ff6b6b 4.3%, transparent 4.3%);\n",
              "}\n",
              "#T_72bd3_row5_col0 {\n",
              "  width: 10em;\n",
              "  height: 80%;\n",
              "  background: linear-gradient(90deg,#ff6b6b 3.6%, transparent 3.6%);\n",
              "}\n",
              "#T_72bd3_row6_col0 {\n",
              "  width: 10em;\n",
              "  height: 80%;\n",
              "  background: linear-gradient(90deg,#ff6b6b 3.3%, transparent 3.3%);\n",
              "}\n",
              "#T_72bd3_row7_col0 {\n",
              "  width: 10em;\n",
              "  height: 80%;\n",
              "  background: linear-gradient(90deg,#ff6b6b 2.2%, transparent 2.2%);\n",
              "}\n",
              "#T_72bd3_row8_col0 {\n",
              "  width: 10em;\n",
              "  height: 80%;\n",
              "  background: linear-gradient(90deg,#ff6b6b 2.1%, transparent 2.1%);\n",
              "}\n",
              "#T_72bd3_row9_col0 {\n",
              "  width: 10em;\n",
              "  height: 80%;\n",
              "  background: linear-gradient(90deg,#ff6b6b 1.5%, transparent 1.5%);\n",
              "}\n",
              "#T_72bd3_row10_col0 {\n",
              "  width: 10em;\n",
              "  height: 80%;\n",
              "  background: linear-gradient(90deg,#ff6b6b 1.3%, transparent 1.3%);\n",
              "}\n",
              "#T_72bd3_row11_col0, #T_72bd3_row12_col0 {\n",
              "  width: 10em;\n",
              "  height: 80%;\n",
              "  background: linear-gradient(90deg,#ff6b6b 1.0%, transparent 1.0%);\n",
              "}\n",
              "#T_72bd3_row13_col0, #T_72bd3_row14_col0, #T_72bd3_row15_col0, #T_72bd3_row16_col0 {\n",
              "  width: 10em;\n",
              "  height: 80%;\n",
              "  background: linear-gradient(90deg,#ff6b6b 0.9%, transparent 0.9%);\n",
              "}\n",
              "#T_72bd3_row17_col0 {\n",
              "  width: 10em;\n",
              "  height: 80%;\n",
              "  background: linear-gradient(90deg,#ff6b6b 0.4%, transparent 0.4%);\n",
              "}\n",
              "#T_72bd3_row18_col0 {\n",
              "  width: 10em;\n",
              "  height: 80%;\n",
              "  background: linear-gradient(90deg,#ff6b6b 0.2%, transparent 0.2%);\n",
              "}\n",
              "#T_72bd3_row19_col0 {\n",
              "  width: 10em;\n",
              "  height: 80%;\n",
              "}\n",
              "</style>\n",
              "<table id=\"T_72bd3_\" class=\"dataframe\">\n",
              "  <thead>\n",
              "    <tr>\n",
              "      <th class=\"blank level0\" >&nbsp;</th>\n",
              "      <th class=\"col_heading level0 col0\" >Number of movies</th>\n",
              "    </tr>\n",
              "  </thead>\n",
              "  <tbody>\n",
              "    <tr>\n",
              "      <th id=\"T_72bd3_level0_row0\" class=\"row_heading level0 row0\" >English</th>\n",
              "      <td id=\"T_72bd3_row0_col0\" class=\"data row0 col0\" >2266</td>\n",
              "    </tr>\n",
              "    <tr>\n",
              "      <th id=\"T_72bd3_level0_row1\" class=\"row_heading level0 row1\" >Hindi</th>\n",
              "      <td id=\"T_72bd3_row1_col0\" class=\"data row1 col0\" >380</td>\n",
              "    </tr>\n",
              "    <tr>\n",
              "      <th id=\"T_72bd3_level0_row2\" class=\"row_heading level0 row2\" >Spanish</th>\n",
              "      <td id=\"T_72bd3_row2_col0\" class=\"data row2 col0\" >377</td>\n",
              "    </tr>\n",
              "    <tr>\n",
              "      <th id=\"T_72bd3_level0_row3\" class=\"row_heading level0 row3\" >French</th>\n",
              "      <td id=\"T_72bd3_row3_col0\" class=\"data row3 col0\" >223</td>\n",
              "    </tr>\n",
              "    <tr>\n",
              "      <th id=\"T_72bd3_level0_row4\" class=\"row_heading level0 row4\" >Arabic</th>\n",
              "      <td id=\"T_72bd3_row4_col0\" class=\"data row4 col0\" >133</td>\n",
              "    </tr>\n",
              "    <tr>\n",
              "      <th id=\"T_72bd3_level0_row5\" class=\"row_heading level0 row5\" >German</th>\n",
              "      <td id=\"T_72bd3_row5_col0\" class=\"data row5 col0\" >117</td>\n",
              "    </tr>\n",
              "    <tr>\n",
              "      <th id=\"T_72bd3_level0_row6\" class=\"row_heading level0 row6\" >Japanese</th>\n",
              "      <td id=\"T_72bd3_row6_col0\" class=\"data row6 col0\" >111</td>\n",
              "    </tr>\n",
              "    <tr>\n",
              "      <th id=\"T_72bd3_level0_row7\" class=\"row_heading level0 row7\" >Italian</th>\n",
              "      <td id=\"T_72bd3_row7_col0\" class=\"data row7 col0\" >85</td>\n",
              "    </tr>\n",
              "    <tr>\n",
              "      <th id=\"T_72bd3_level0_row8\" class=\"row_heading level0 row8\" >Mandarin</th>\n",
              "      <td id=\"T_72bd3_row8_col0\" class=\"data row8 col0\" >83</td>\n",
              "    </tr>\n",
              "    <tr>\n",
              "      <th id=\"T_72bd3_level0_row9\" class=\"row_heading level0 row9\" >Tamil</th>\n",
              "      <td id=\"T_72bd3_row9_col0\" class=\"data row9 col0\" >70</td>\n",
              "    </tr>\n",
              "    <tr>\n",
              "      <th id=\"T_72bd3_level0_row10\" class=\"row_heading level0 row10\" >Filipino</th>\n",
              "      <td id=\"T_72bd3_row10_col0\" class=\"data row10 col0\" >65</td>\n",
              "    </tr>\n",
              "    <tr>\n",
              "      <th id=\"T_72bd3_level0_row11\" class=\"row_heading level0 row11\" >Tagalog</th>\n",
              "      <td id=\"T_72bd3_row11_col0\" class=\"data row11 col0\" >60</td>\n",
              "    </tr>\n",
              "    <tr>\n",
              "      <th id=\"T_72bd3_level0_row12\" class=\"row_heading level0 row12\" >Turkish</th>\n",
              "      <td id=\"T_72bd3_row12_col0\" class=\"data row12 col0\" >60</td>\n",
              "    </tr>\n",
              "    <tr>\n",
              "      <th id=\"T_72bd3_level0_row13\" class=\"row_heading level0 row13\" >Indonesian</th>\n",
              "      <td id=\"T_72bd3_row13_col0\" class=\"data row13 col0\" >57</td>\n",
              "    </tr>\n",
              "    <tr>\n",
              "      <th id=\"T_72bd3_level0_row14\" class=\"row_heading level0 row14\" >Portuguese</th>\n",
              "      <td id=\"T_72bd3_row14_col0\" class=\"data row14 col0\" >57</td>\n",
              "    </tr>\n",
              "    <tr>\n",
              "      <th id=\"T_72bd3_level0_row15\" class=\"row_heading level0 row15\" >Cantonese</th>\n",
              "      <td id=\"T_72bd3_row15_col0\" class=\"data row15 col0\" >56</td>\n",
              "    </tr>\n",
              "    <tr>\n",
              "      <th id=\"T_72bd3_level0_row16\" class=\"row_heading level0 row16\" >Russian</th>\n",
              "      <td id=\"T_72bd3_row16_col0\" class=\"data row16 col0\" >56</td>\n",
              "    </tr>\n",
              "    <tr>\n",
              "      <th id=\"T_72bd3_level0_row17\" class=\"row_heading level0 row17\" >Korean</th>\n",
              "      <td id=\"T_72bd3_row17_col0\" class=\"data row17 col0\" >45</td>\n",
              "    </tr>\n",
              "    <tr>\n",
              "      <th id=\"T_72bd3_level0_row18\" class=\"row_heading level0 row18\" >Punjabi</th>\n",
              "      <td id=\"T_72bd3_row18_col0\" class=\"data row18 col0\" >42</td>\n",
              "    </tr>\n",
              "    <tr>\n",
              "      <th id=\"T_72bd3_level0_row19\" class=\"row_heading level0 row19\" >Chinese</th>\n",
              "      <td id=\"T_72bd3_row19_col0\" class=\"data row19 col0\" >37</td>\n",
              "    </tr>\n",
              "  </tbody>\n",
              "</table>\n"
            ]
          },
          "metadata": {},
          "execution_count": 65
        }
      ]
    },
    {
      "cell_type": "code",
      "source": [
        "bar(df_g_merged,'Netflix','#ff6b6b')"
      ],
      "metadata": {
        "colab": {
          "base_uri": "https://localhost:8080/",
          "height": 676
        },
        "id": "JD-wlhets7HS",
        "outputId": "cdd991ae-fdff-47ca-9748-4b50cf545885"
      },
      "execution_count": 68,
      "outputs": [
        {
          "output_type": "execute_result",
          "data": {
            "text/plain": [
              "<pandas.io.formats.style.Styler at 0x7faba5b84f90>"
            ],
            "text/html": [
              "<style type=\"text/css\">\n",
              "#T_d81b7_row0_col0 {\n",
              "  width: 10em;\n",
              "  height: 80%;\n",
              "  background: linear-gradient(90deg,#ff6b6b 100.0%, transparent 100.0%);\n",
              "}\n",
              "#T_d81b7_row1_col0 {\n",
              "  width: 10em;\n",
              "  height: 80%;\n",
              "  background: linear-gradient(90deg,#ff6b6b 87.0%, transparent 87.0%);\n",
              "}\n",
              "#T_d81b7_row2_col0 {\n",
              "  width: 10em;\n",
              "  height: 80%;\n",
              "  background: linear-gradient(90deg,#ff6b6b 38.7%, transparent 38.7%);\n",
              "}\n",
              "#T_d81b7_row3_col0 {\n",
              "  width: 10em;\n",
              "  height: 80%;\n",
              "  background: linear-gradient(90deg,#ff6b6b 34.2%, transparent 34.2%);\n",
              "}\n",
              "#T_d81b7_row4_col0 {\n",
              "  width: 10em;\n",
              "  height: 80%;\n",
              "  background: linear-gradient(90deg,#ff6b6b 32.7%, transparent 32.7%);\n",
              "}\n",
              "#T_d81b7_row5_col0 {\n",
              "  width: 10em;\n",
              "  height: 80%;\n",
              "  background: linear-gradient(90deg,#ff6b6b 22.5%, transparent 22.5%);\n",
              "}\n",
              "#T_d81b7_row6_col0 {\n",
              "  width: 10em;\n",
              "  height: 80%;\n",
              "  background: linear-gradient(90deg,#ff6b6b 22.2%, transparent 22.2%);\n",
              "}\n",
              "#T_d81b7_row7_col0 {\n",
              "  width: 10em;\n",
              "  height: 80%;\n",
              "  background: linear-gradient(90deg,#ff6b6b 16.8%, transparent 16.8%);\n",
              "}\n",
              "#T_d81b7_row8_col0 {\n",
              "  width: 10em;\n",
              "  height: 80%;\n",
              "  background: linear-gradient(90deg,#ff6b6b 16.5%, transparent 16.5%);\n",
              "}\n",
              "#T_d81b7_row9_col0 {\n",
              "  width: 10em;\n",
              "  height: 80%;\n",
              "  background: linear-gradient(90deg,#ff6b6b 11.2%, transparent 11.2%);\n",
              "}\n",
              "#T_d81b7_row10_col0 {\n",
              "  width: 10em;\n",
              "  height: 80%;\n",
              "  background: linear-gradient(90deg,#ff6b6b 10.7%, transparent 10.7%);\n",
              "}\n",
              "#T_d81b7_row11_col0 {\n",
              "  width: 10em;\n",
              "  height: 80%;\n",
              "  background: linear-gradient(90deg,#ff6b6b 9.3%, transparent 9.3%);\n",
              "}\n",
              "#T_d81b7_row12_col0 {\n",
              "  width: 10em;\n",
              "  height: 80%;\n",
              "  background: linear-gradient(90deg,#ff6b6b 8.4%, transparent 8.4%);\n",
              "}\n",
              "#T_d81b7_row13_col0 {\n",
              "  width: 10em;\n",
              "  height: 80%;\n",
              "  background: linear-gradient(90deg,#ff6b6b 6.7%, transparent 6.7%);\n",
              "}\n",
              "#T_d81b7_row14_col0 {\n",
              "  width: 10em;\n",
              "  height: 80%;\n",
              "  background: linear-gradient(90deg,#ff6b6b 6.4%, transparent 6.4%);\n",
              "}\n",
              "#T_d81b7_row15_col0 {\n",
              "  width: 10em;\n",
              "  height: 80%;\n",
              "  background: linear-gradient(90deg,#ff6b6b 3.7%, transparent 3.7%);\n",
              "}\n",
              "#T_d81b7_row16_col0 {\n",
              "  width: 10em;\n",
              "  height: 80%;\n",
              "  background: linear-gradient(90deg,#ff6b6b 1.7%, transparent 1.7%);\n",
              "}\n",
              "#T_d81b7_row17_col0 {\n",
              "  width: 10em;\n",
              "  height: 80%;\n",
              "  background: linear-gradient(90deg,#ff6b6b 1.4%, transparent 1.4%);\n",
              "}\n",
              "#T_d81b7_row18_col0 {\n",
              "  width: 10em;\n",
              "  height: 80%;\n",
              "  background: linear-gradient(90deg,#ff6b6b 0.3%, transparent 0.3%);\n",
              "}\n",
              "#T_d81b7_row19_col0 {\n",
              "  width: 10em;\n",
              "  height: 80%;\n",
              "}\n",
              "</style>\n",
              "<table id=\"T_d81b7_\" class=\"dataframe\">\n",
              "  <thead>\n",
              "    <tr>\n",
              "      <th class=\"blank level0\" >&nbsp;</th>\n",
              "      <th class=\"col_heading level0 col0\" >Number of movies</th>\n",
              "    </tr>\n",
              "  </thead>\n",
              "  <tbody>\n",
              "    <tr>\n",
              "      <th id=\"T_d81b7_level0_row0\" class=\"row_heading level0 row0\" >Drama</th>\n",
              "      <td id=\"T_d81b7_row0_col0\" class=\"data row0 col0\" >1679</td>\n",
              "    </tr>\n",
              "    <tr>\n",
              "      <th id=\"T_d81b7_level0_row1\" class=\"row_heading level0 row1\" >Comedy</th>\n",
              "      <td id=\"T_d81b7_row1_col0\" class=\"data row1 col0\" >1473</td>\n",
              "    </tr>\n",
              "    <tr>\n",
              "      <th id=\"T_d81b7_level0_row2\" class=\"row_heading level0 row2\" >Thriller</th>\n",
              "      <td id=\"T_d81b7_row2_col0\" class=\"data row2 col0\" >709</td>\n",
              "    </tr>\n",
              "    <tr>\n",
              "      <th id=\"T_d81b7_level0_row3\" class=\"row_heading level0 row3\" >Romance</th>\n",
              "      <td id=\"T_d81b7_row3_col0\" class=\"data row3 col0\" >638</td>\n",
              "    </tr>\n",
              "    <tr>\n",
              "      <th id=\"T_d81b7_level0_row4\" class=\"row_heading level0 row4\" >Action</th>\n",
              "      <td id=\"T_d81b7_row4_col0\" class=\"data row4 col0\" >614</td>\n",
              "    </tr>\n",
              "    <tr>\n",
              "      <th id=\"T_d81b7_level0_row5\" class=\"row_heading level0 row5\" >Documentary</th>\n",
              "      <td id=\"T_d81b7_row5_col0\" class=\"data row5 col0\" >452</td>\n",
              "    </tr>\n",
              "    <tr>\n",
              "      <th id=\"T_d81b7_level0_row6\" class=\"row_heading level0 row6\" >Crime</th>\n",
              "      <td id=\"T_d81b7_row6_col0\" class=\"data row6 col0\" >448</td>\n",
              "    </tr>\n",
              "    <tr>\n",
              "      <th id=\"T_d81b7_level0_row7\" class=\"row_heading level0 row7\" >Adventure</th>\n",
              "      <td id=\"T_d81b7_row7_col0\" class=\"data row7 col0\" >362</td>\n",
              "    </tr>\n",
              "    <tr>\n",
              "      <th id=\"T_d81b7_level0_row8\" class=\"row_heading level0 row8\" >Family</th>\n",
              "      <td id=\"T_d81b7_row8_col0\" class=\"data row8 col0\" >357</td>\n",
              "    </tr>\n",
              "    <tr>\n",
              "      <th id=\"T_d81b7_level0_row9\" class=\"row_heading level0 row9\" >Mystery</th>\n",
              "      <td id=\"T_d81b7_row9_col0\" class=\"data row9 col0\" >273</td>\n",
              "    </tr>\n",
              "    <tr>\n",
              "      <th id=\"T_d81b7_level0_row10\" class=\"row_heading level0 row10\" >Fantasy</th>\n",
              "      <td id=\"T_d81b7_row10_col0\" class=\"data row10 col0\" >266</td>\n",
              "    </tr>\n",
              "    <tr>\n",
              "      <th id=\"T_d81b7_level0_row11\" class=\"row_heading level0 row11\" >Animation</th>\n",
              "      <td id=\"T_d81b7_row11_col0\" class=\"data row11 col0\" >243</td>\n",
              "    </tr>\n",
              "    <tr>\n",
              "      <th id=\"T_d81b7_level0_row12\" class=\"row_heading level0 row12\" >Horror</th>\n",
              "      <td id=\"T_d81b7_row12_col0\" class=\"data row12 col0\" >229</td>\n",
              "    </tr>\n",
              "    <tr>\n",
              "      <th id=\"T_d81b7_level0_row13\" class=\"row_heading level0 row13\" >Biography</th>\n",
              "      <td id=\"T_d81b7_row13_col0\" class=\"data row13 col0\" >202</td>\n",
              "    </tr>\n",
              "    <tr>\n",
              "      <th id=\"T_d81b7_level0_row14\" class=\"row_heading level0 row14\" >Sci-Fi</th>\n",
              "      <td id=\"T_d81b7_row14_col0\" class=\"data row14 col0\" >198</td>\n",
              "    </tr>\n",
              "    <tr>\n",
              "      <th id=\"T_d81b7_level0_row15\" class=\"row_heading level0 row15\" >Music</th>\n",
              "      <td id=\"T_d81b7_row15_col0\" class=\"data row15 col0\" >155</td>\n",
              "    </tr>\n",
              "    <tr>\n",
              "      <th id=\"T_d81b7_level0_row16\" class=\"row_heading level0 row16\" >History</th>\n",
              "      <td id=\"T_d81b7_row16_col0\" class=\"data row16 col0\" >123</td>\n",
              "    </tr>\n",
              "    <tr>\n",
              "      <th id=\"T_d81b7_level0_row17\" class=\"row_heading level0 row17\" >Sport</th>\n",
              "      <td id=\"T_d81b7_row17_col0\" class=\"data row17 col0\" >118</td>\n",
              "    </tr>\n",
              "    <tr>\n",
              "      <th id=\"T_d81b7_level0_row18\" class=\"row_heading level0 row18\" >Short</th>\n",
              "      <td id=\"T_d81b7_row18_col0\" class=\"data row18 col0\" >101</td>\n",
              "    </tr>\n",
              "    <tr>\n",
              "      <th id=\"T_d81b7_level0_row19\" class=\"row_heading level0 row19\" >Musical</th>\n",
              "      <td id=\"T_d81b7_row19_col0\" class=\"data row19 col0\" >96</td>\n",
              "    </tr>\n",
              "  </tbody>\n",
              "</table>\n"
            ]
          },
          "metadata": {},
          "execution_count": 68
        }
      ]
    },
    {
      "cell_type": "code",
      "source": [
        "bar(df_l_merged,'Hulu','#95d5b2')"
      ],
      "metadata": {
        "colab": {
          "base_uri": "https://localhost:8080/",
          "height": 676
        },
        "id": "_YB0HFopsqwE",
        "outputId": "45307df5-92f8-4937-9571-d1e5724bf5d5"
      },
      "execution_count": 67,
      "outputs": [
        {
          "output_type": "execute_result",
          "data": {
            "text/plain": [
              "<pandas.io.formats.style.Styler at 0x7faba8e8fc90>"
            ],
            "text/html": [
              "<style type=\"text/css\">\n",
              "#T_8bf8a_row0_col0 {\n",
              "  width: 10em;\n",
              "  height: 80%;\n",
              "  background: linear-gradient(90deg,#95d5b2 100.0%, transparent 100.0%);\n",
              "}\n",
              "#T_8bf8a_row1_col0 {\n",
              "  width: 10em;\n",
              "  height: 80%;\n",
              "  background: linear-gradient(90deg,#95d5b2 7.3%, transparent 7.3%);\n",
              "}\n",
              "#T_8bf8a_row2_col0 {\n",
              "  width: 10em;\n",
              "  height: 80%;\n",
              "  background: linear-gradient(90deg,#95d5b2 6.9%, transparent 6.9%);\n",
              "}\n",
              "#T_8bf8a_row3_col0 {\n",
              "  width: 10em;\n",
              "  height: 80%;\n",
              "  background: linear-gradient(90deg,#95d5b2 4.5%, transparent 4.5%);\n",
              "}\n",
              "#T_8bf8a_row4_col0 {\n",
              "  width: 10em;\n",
              "  height: 80%;\n",
              "  background: linear-gradient(90deg,#95d5b2 3.2%, transparent 3.2%);\n",
              "}\n",
              "#T_8bf8a_row5_col0 {\n",
              "  width: 10em;\n",
              "  height: 80%;\n",
              "  background: linear-gradient(90deg,#95d5b2 2.8%, transparent 2.8%);\n",
              "}\n",
              "#T_8bf8a_row6_col0 {\n",
              "  width: 10em;\n",
              "  height: 80%;\n",
              "  background: linear-gradient(90deg,#95d5b2 2.6%, transparent 2.6%);\n",
              "}\n",
              "#T_8bf8a_row7_col0 {\n",
              "  width: 10em;\n",
              "  height: 80%;\n",
              "  background: linear-gradient(90deg,#95d5b2 1.8%, transparent 1.8%);\n",
              "}\n",
              "#T_8bf8a_row8_col0 {\n",
              "  width: 10em;\n",
              "  height: 80%;\n",
              "  background: linear-gradient(90deg,#95d5b2 1.7%, transparent 1.7%);\n",
              "}\n",
              "#T_8bf8a_row9_col0 {\n",
              "  width: 10em;\n",
              "  height: 80%;\n",
              "  background: linear-gradient(90deg,#95d5b2 1.1%, transparent 1.1%);\n",
              "}\n",
              "#T_8bf8a_row10_col0 {\n",
              "  width: 10em;\n",
              "  height: 80%;\n",
              "  background: linear-gradient(90deg,#95d5b2 0.7%, transparent 0.7%);\n",
              "}\n",
              "#T_8bf8a_row11_col0 {\n",
              "  width: 10em;\n",
              "  height: 80%;\n",
              "  background: linear-gradient(90deg,#95d5b2 0.6%, transparent 0.6%);\n",
              "}\n",
              "#T_8bf8a_row12_col0 {\n",
              "  width: 10em;\n",
              "  height: 80%;\n",
              "  background: linear-gradient(90deg,#95d5b2 0.4%, transparent 0.4%);\n",
              "}\n",
              "#T_8bf8a_row13_col0 {\n",
              "  width: 10em;\n",
              "  height: 80%;\n",
              "  background: linear-gradient(90deg,#95d5b2 0.3%, transparent 0.3%);\n",
              "}\n",
              "#T_8bf8a_row14_col0, #T_8bf8a_row15_col0 {\n",
              "  width: 10em;\n",
              "  height: 80%;\n",
              "  background: linear-gradient(90deg,#95d5b2 0.2%, transparent 0.2%);\n",
              "}\n",
              "#T_8bf8a_row16_col0, #T_8bf8a_row17_col0 {\n",
              "  width: 10em;\n",
              "  height: 80%;\n",
              "  background: linear-gradient(90deg,#95d5b2 0.1%, transparent 0.1%);\n",
              "}\n",
              "#T_8bf8a_row18_col0, #T_8bf8a_row19_col0 {\n",
              "  width: 10em;\n",
              "  height: 80%;\n",
              "}\n",
              "</style>\n",
              "<table id=\"T_8bf8a_\" class=\"dataframe\">\n",
              "  <thead>\n",
              "    <tr>\n",
              "      <th class=\"blank level0\" >&nbsp;</th>\n",
              "      <th class=\"col_heading level0 col0\" >Number of movies</th>\n",
              "    </tr>\n",
              "  </thead>\n",
              "  <tbody>\n",
              "    <tr>\n",
              "      <th id=\"T_8bf8a_level0_row0\" class=\"row_heading level0 row0\" >English</th>\n",
              "      <td id=\"T_8bf8a_row0_col0\" class=\"data row0 col0\" >956</td>\n",
              "    </tr>\n",
              "    <tr>\n",
              "      <th id=\"T_8bf8a_level0_row1\" class=\"row_heading level0 row1\" >Spanish</th>\n",
              "      <td id=\"T_8bf8a_row1_col0\" class=\"data row1 col0\" >74</td>\n",
              "    </tr>\n",
              "    <tr>\n",
              "      <th id=\"T_8bf8a_level0_row2\" class=\"row_heading level0 row2\" >French</th>\n",
              "      <td id=\"T_8bf8a_row2_col0\" class=\"data row2 col0\" >71</td>\n",
              "    </tr>\n",
              "    <tr>\n",
              "      <th id=\"T_8bf8a_level0_row3\" class=\"row_heading level0 row3\" >German</th>\n",
              "      <td id=\"T_8bf8a_row3_col0\" class=\"data row3 col0\" >48</td>\n",
              "    </tr>\n",
              "    <tr>\n",
              "      <th id=\"T_8bf8a_level0_row4\" class=\"row_heading level0 row4\" >Japanese</th>\n",
              "      <td id=\"T_8bf8a_row4_col0\" class=\"data row4 col0\" >35</td>\n",
              "    </tr>\n",
              "    <tr>\n",
              "      <th id=\"T_8bf8a_level0_row5\" class=\"row_heading level0 row5\" >Italian</th>\n",
              "      <td id=\"T_8bf8a_row5_col0\" class=\"data row5 col0\" >32</td>\n",
              "    </tr>\n",
              "    <tr>\n",
              "      <th id=\"T_8bf8a_level0_row6\" class=\"row_heading level0 row6\" >Russian</th>\n",
              "      <td id=\"T_8bf8a_row6_col0\" class=\"data row6 col0\" >30</td>\n",
              "    </tr>\n",
              "    <tr>\n",
              "      <th id=\"T_8bf8a_level0_row7\" class=\"row_heading level0 row7\" >Korean</th>\n",
              "      <td id=\"T_8bf8a_row7_col0\" class=\"data row7 col0\" >22</td>\n",
              "    </tr>\n",
              "    <tr>\n",
              "      <th id=\"T_8bf8a_level0_row8\" class=\"row_heading level0 row8\" >Mandarin</th>\n",
              "      <td id=\"T_8bf8a_row8_col0\" class=\"data row8 col0\" >21</td>\n",
              "    </tr>\n",
              "    <tr>\n",
              "      <th id=\"T_8bf8a_level0_row9\" class=\"row_heading level0 row9\" >Swedish</th>\n",
              "      <td id=\"T_8bf8a_row9_col0\" class=\"data row9 col0\" >15</td>\n",
              "    </tr>\n",
              "    <tr>\n",
              "      <th id=\"T_8bf8a_level0_row10\" class=\"row_heading level0 row10\" >Latin</th>\n",
              "      <td id=\"T_8bf8a_row10_col0\" class=\"data row10 col0\" >12</td>\n",
              "    </tr>\n",
              "    <tr>\n",
              "      <th id=\"T_8bf8a_level0_row11\" class=\"row_heading level0 row11\" >Arabic</th>\n",
              "      <td id=\"T_8bf8a_row11_col0\" class=\"data row11 col0\" >11</td>\n",
              "    </tr>\n",
              "    <tr>\n",
              "      <th id=\"T_8bf8a_level0_row12\" class=\"row_heading level0 row12\" >Hindi</th>\n",
              "      <td id=\"T_8bf8a_row12_col0\" class=\"data row12 col0\" >9</td>\n",
              "    </tr>\n",
              "    <tr>\n",
              "      <th id=\"T_8bf8a_level0_row13\" class=\"row_heading level0 row13\" >Chinese</th>\n",
              "      <td id=\"T_8bf8a_row13_col0\" class=\"data row13 col0\" >8</td>\n",
              "    </tr>\n",
              "    <tr>\n",
              "      <th id=\"T_8bf8a_level0_row14\" class=\"row_heading level0 row14\" >Romanian</th>\n",
              "      <td id=\"T_8bf8a_row14_col0\" class=\"data row14 col0\" >7</td>\n",
              "    </tr>\n",
              "    <tr>\n",
              "      <th id=\"T_8bf8a_level0_row15\" class=\"row_heading level0 row15\" >Norwegian</th>\n",
              "      <td id=\"T_8bf8a_row15_col0\" class=\"data row15 col0\" >7</td>\n",
              "    </tr>\n",
              "    <tr>\n",
              "      <th id=\"T_8bf8a_level0_row16\" class=\"row_heading level0 row16\" >Dutch</th>\n",
              "      <td id=\"T_8bf8a_row16_col0\" class=\"data row16 col0\" >6</td>\n",
              "    </tr>\n",
              "    <tr>\n",
              "      <th id=\"T_8bf8a_level0_row17\" class=\"row_heading level0 row17\" >Cantonese</th>\n",
              "      <td id=\"T_8bf8a_row17_col0\" class=\"data row17 col0\" >6</td>\n",
              "    </tr>\n",
              "    <tr>\n",
              "      <th id=\"T_8bf8a_level0_row18\" class=\"row_heading level0 row18\" >Portuguese</th>\n",
              "      <td id=\"T_8bf8a_row18_col0\" class=\"data row18 col0\" >5</td>\n",
              "    </tr>\n",
              "    <tr>\n",
              "      <th id=\"T_8bf8a_level0_row19\" class=\"row_heading level0 row19\" >Danish</th>\n",
              "      <td id=\"T_8bf8a_row19_col0\" class=\"data row19 col0\" >5</td>\n",
              "    </tr>\n",
              "  </tbody>\n",
              "</table>\n"
            ]
          },
          "metadata": {},
          "execution_count": 67
        }
      ]
    },
    {
      "cell_type": "code",
      "source": [
        "bar(df_g_merged,'Hulu','#95d5b2')"
      ],
      "metadata": {
        "colab": {
          "base_uri": "https://localhost:8080/",
          "height": 676
        },
        "id": "I7fuwYt1sqrL",
        "outputId": "e27f59ce-b958-4190-d979-bd5ff23ebd4a"
      },
      "execution_count": 69,
      "outputs": [
        {
          "output_type": "execute_result",
          "data": {
            "text/plain": [
              "<pandas.io.formats.style.Styler at 0x7faba8e8fbd0>"
            ],
            "text/html": [
              "<style type=\"text/css\">\n",
              "#T_e4e5d_row0_col0 {\n",
              "  width: 10em;\n",
              "  height: 80%;\n",
              "  background: linear-gradient(90deg,#95d5b2 100.0%, transparent 100.0%);\n",
              "}\n",
              "#T_e4e5d_row1_col0 {\n",
              "  width: 10em;\n",
              "  height: 80%;\n",
              "  background: linear-gradient(90deg,#95d5b2 63.4%, transparent 63.4%);\n",
              "}\n",
              "#T_e4e5d_row2_col0 {\n",
              "  width: 10em;\n",
              "  height: 80%;\n",
              "  background: linear-gradient(90deg,#95d5b2 52.1%, transparent 52.1%);\n",
              "}\n",
              "#T_e4e5d_row3_col0 {\n",
              "  width: 10em;\n",
              "  height: 80%;\n",
              "  background: linear-gradient(90deg,#95d5b2 34.6%, transparent 34.6%);\n",
              "}\n",
              "#T_e4e5d_row4_col0 {\n",
              "  width: 10em;\n",
              "  height: 80%;\n",
              "  background: linear-gradient(90deg,#95d5b2 33.9%, transparent 33.9%);\n",
              "}\n",
              "#T_e4e5d_row5_col0 {\n",
              "  width: 10em;\n",
              "  height: 80%;\n",
              "  background: linear-gradient(90deg,#95d5b2 28.4%, transparent 28.4%);\n",
              "}\n",
              "#T_e4e5d_row6_col0 {\n",
              "  width: 10em;\n",
              "  height: 80%;\n",
              "  background: linear-gradient(90deg,#95d5b2 25.6%, transparent 25.6%);\n",
              "}\n",
              "#T_e4e5d_row7_col0 {\n",
              "  width: 10em;\n",
              "  height: 80%;\n",
              "  background: linear-gradient(90deg,#95d5b2 24.5%, transparent 24.5%);\n",
              "}\n",
              "#T_e4e5d_row8_col0 {\n",
              "  width: 10em;\n",
              "  height: 80%;\n",
              "  background: linear-gradient(90deg,#95d5b2 22.5%, transparent 22.5%);\n",
              "}\n",
              "#T_e4e5d_row9_col0 {\n",
              "  width: 10em;\n",
              "  height: 80%;\n",
              "  background: linear-gradient(90deg,#95d5b2 19.6%, transparent 19.6%);\n",
              "}\n",
              "#T_e4e5d_row10_col0 {\n",
              "  width: 10em;\n",
              "  height: 80%;\n",
              "  background: linear-gradient(90deg,#95d5b2 18.6%, transparent 18.6%);\n",
              "}\n",
              "#T_e4e5d_row11_col0 {\n",
              "  width: 10em;\n",
              "  height: 80%;\n",
              "  background: linear-gradient(90deg,#95d5b2 17.8%, transparent 17.8%);\n",
              "}\n",
              "#T_e4e5d_row12_col0 {\n",
              "  width: 10em;\n",
              "  height: 80%;\n",
              "  background: linear-gradient(90deg,#95d5b2 14.1%, transparent 14.1%);\n",
              "}\n",
              "#T_e4e5d_row13_col0 {\n",
              "  width: 10em;\n",
              "  height: 80%;\n",
              "  background: linear-gradient(90deg,#95d5b2 10.2%, transparent 10.2%);\n",
              "}\n",
              "#T_e4e5d_row14_col0 {\n",
              "  width: 10em;\n",
              "  height: 80%;\n",
              "  background: linear-gradient(90deg,#95d5b2 8.8%, transparent 8.8%);\n",
              "}\n",
              "#T_e4e5d_row15_col0 {\n",
              "  width: 10em;\n",
              "  height: 80%;\n",
              "  background: linear-gradient(90deg,#95d5b2 7.6%, transparent 7.6%);\n",
              "}\n",
              "#T_e4e5d_row16_col0 {\n",
              "  width: 10em;\n",
              "  height: 80%;\n",
              "  background: linear-gradient(90deg,#95d5b2 4.5%, transparent 4.5%);\n",
              "}\n",
              "#T_e4e5d_row17_col0 {\n",
              "  width: 10em;\n",
              "  height: 80%;\n",
              "  background: linear-gradient(90deg,#95d5b2 2.5%, transparent 2.5%);\n",
              "}\n",
              "#T_e4e5d_row18_col0 {\n",
              "  width: 10em;\n",
              "  height: 80%;\n",
              "  background: linear-gradient(90deg,#95d5b2 1.2%, transparent 1.2%);\n",
              "}\n",
              "#T_e4e5d_row19_col0 {\n",
              "  width: 10em;\n",
              "  height: 80%;\n",
              "}\n",
              "</style>\n",
              "<table id=\"T_e4e5d_\" class=\"dataframe\">\n",
              "  <thead>\n",
              "    <tr>\n",
              "      <th class=\"blank level0\" >&nbsp;</th>\n",
              "      <th class=\"col_heading level0 col0\" >Number of movies</th>\n",
              "    </tr>\n",
              "  </thead>\n",
              "  <tbody>\n",
              "    <tr>\n",
              "      <th id=\"T_e4e5d_level0_row0\" class=\"row_heading level0 row0\" >Drama</th>\n",
              "      <td id=\"T_e4e5d_row0_col0\" class=\"data row0 col0\" >509</td>\n",
              "    </tr>\n",
              "    <tr>\n",
              "      <th id=\"T_e4e5d_level0_row1\" class=\"row_heading level0 row1\" >Comedy</th>\n",
              "      <td id=\"T_e4e5d_row1_col0\" class=\"data row1 col0\" >330</td>\n",
              "    </tr>\n",
              "    <tr>\n",
              "      <th id=\"T_e4e5d_level0_row2\" class=\"row_heading level0 row2\" >Thriller</th>\n",
              "      <td id=\"T_e4e5d_row2_col0\" class=\"data row2 col0\" >275</td>\n",
              "    </tr>\n",
              "    <tr>\n",
              "      <th id=\"T_e4e5d_level0_row3\" class=\"row_heading level0 row3\" >Romance</th>\n",
              "      <td id=\"T_e4e5d_row3_col0\" class=\"data row3 col0\" >189</td>\n",
              "    </tr>\n",
              "    <tr>\n",
              "      <th id=\"T_e4e5d_level0_row4\" class=\"row_heading level0 row4\" >Action</th>\n",
              "      <td id=\"T_e4e5d_row4_col0\" class=\"data row4 col0\" >186</td>\n",
              "    </tr>\n",
              "    <tr>\n",
              "      <th id=\"T_e4e5d_level0_row5\" class=\"row_heading level0 row5\" >Horror</th>\n",
              "      <td id=\"T_e4e5d_row5_col0\" class=\"data row5 col0\" >159</td>\n",
              "    </tr>\n",
              "    <tr>\n",
              "      <th id=\"T_e4e5d_level0_row6\" class=\"row_heading level0 row6\" >Documentary</th>\n",
              "      <td id=\"T_e4e5d_row6_col0\" class=\"data row6 col0\" >145</td>\n",
              "    </tr>\n",
              "    <tr>\n",
              "      <th id=\"T_e4e5d_level0_row7\" class=\"row_heading level0 row7\" >Adventure</th>\n",
              "      <td id=\"T_e4e5d_row7_col0\" class=\"data row7 col0\" >140</td>\n",
              "    </tr>\n",
              "    <tr>\n",
              "      <th id=\"T_e4e5d_level0_row8\" class=\"row_heading level0 row8\" >Crime</th>\n",
              "      <td id=\"T_e4e5d_row8_col0\" class=\"data row8 col0\" >130</td>\n",
              "    </tr>\n",
              "    <tr>\n",
              "      <th id=\"T_e4e5d_level0_row9\" class=\"row_heading level0 row9\" >Sci-Fi</th>\n",
              "      <td id=\"T_e4e5d_row9_col0\" class=\"data row9 col0\" >116</td>\n",
              "    </tr>\n",
              "    <tr>\n",
              "      <th id=\"T_e4e5d_level0_row10\" class=\"row_heading level0 row10\" >Fantasy</th>\n",
              "      <td id=\"T_e4e5d_row10_col0\" class=\"data row10 col0\" >111</td>\n",
              "    </tr>\n",
              "    <tr>\n",
              "      <th id=\"T_e4e5d_level0_row11\" class=\"row_heading level0 row11\" >Mystery</th>\n",
              "      <td id=\"T_e4e5d_row11_col0\" class=\"data row11 col0\" >107</td>\n",
              "    </tr>\n",
              "    <tr>\n",
              "      <th id=\"T_e4e5d_level0_row12\" class=\"row_heading level0 row12\" >Family</th>\n",
              "      <td id=\"T_e4e5d_row12_col0\" class=\"data row12 col0\" >89</td>\n",
              "    </tr>\n",
              "    <tr>\n",
              "      <th id=\"T_e4e5d_level0_row13\" class=\"row_heading level0 row13\" >Biography</th>\n",
              "      <td id=\"T_e4e5d_row13_col0\" class=\"data row13 col0\" >70</td>\n",
              "    </tr>\n",
              "    <tr>\n",
              "      <th id=\"T_e4e5d_level0_row14\" class=\"row_heading level0 row14\" >Animation</th>\n",
              "      <td id=\"T_e4e5d_row14_col0\" class=\"data row14 col0\" >63</td>\n",
              "    </tr>\n",
              "    <tr>\n",
              "      <th id=\"T_e4e5d_level0_row15\" class=\"row_heading level0 row15\" >Music</th>\n",
              "      <td id=\"T_e4e5d_row15_col0\" class=\"data row15 col0\" >57</td>\n",
              "    </tr>\n",
              "    <tr>\n",
              "      <th id=\"T_e4e5d_level0_row16\" class=\"row_heading level0 row16\" >History</th>\n",
              "      <td id=\"T_e4e5d_row16_col0\" class=\"data row16 col0\" >42</td>\n",
              "    </tr>\n",
              "    <tr>\n",
              "      <th id=\"T_e4e5d_level0_row17\" class=\"row_heading level0 row17\" >Sport</th>\n",
              "      <td id=\"T_e4e5d_row17_col0\" class=\"data row17 col0\" >32</td>\n",
              "    </tr>\n",
              "    <tr>\n",
              "      <th id=\"T_e4e5d_level0_row18\" class=\"row_heading level0 row18\" >War</th>\n",
              "      <td id=\"T_e4e5d_row18_col0\" class=\"data row18 col0\" >26</td>\n",
              "    </tr>\n",
              "    <tr>\n",
              "      <th id=\"T_e4e5d_level0_row19\" class=\"row_heading level0 row19\" >Western</th>\n",
              "      <td id=\"T_e4e5d_row19_col0\" class=\"data row19 col0\" >20</td>\n",
              "    </tr>\n",
              "  </tbody>\n",
              "</table>\n"
            ]
          },
          "metadata": {},
          "execution_count": 69
        }
      ]
    },
    {
      "cell_type": "code",
      "source": [
        "bar(df_l_merged,'Prime Video','#a2d2ff')"
      ],
      "metadata": {
        "colab": {
          "base_uri": "https://localhost:8080/",
          "height": 676
        },
        "id": "AOA8zxtxs_LG",
        "outputId": "6971547a-61a5-403e-e906-cae3356a1734"
      },
      "execution_count": 70,
      "outputs": [
        {
          "output_type": "execute_result",
          "data": {
            "text/plain": [
              "<pandas.io.formats.style.Styler at 0x7faba5b3f4d0>"
            ],
            "text/html": [
              "<style type=\"text/css\">\n",
              "#T_10154_row0_col0 {\n",
              "  width: 10em;\n",
              "  height: 80%;\n",
              "  background: linear-gradient(90deg,#a2d2ff 100.0%, transparent 100.0%);\n",
              "}\n",
              "#T_10154_row1_col0 {\n",
              "  width: 10em;\n",
              "  height: 80%;\n",
              "  background: linear-gradient(90deg,#a2d2ff 5.2%, transparent 5.2%);\n",
              "}\n",
              "#T_10154_row2_col0 {\n",
              "  width: 10em;\n",
              "  height: 80%;\n",
              "  background: linear-gradient(90deg,#a2d2ff 4.9%, transparent 4.9%);\n",
              "}\n",
              "#T_10154_row3_col0 {\n",
              "  width: 10em;\n",
              "  height: 80%;\n",
              "  background: linear-gradient(90deg,#a2d2ff 4.8%, transparent 4.8%);\n",
              "}\n",
              "#T_10154_row4_col0 {\n",
              "  width: 10em;\n",
              "  height: 80%;\n",
              "  background: linear-gradient(90deg,#a2d2ff 3.0%, transparent 3.0%);\n",
              "}\n",
              "#T_10154_row5_col0 {\n",
              "  width: 10em;\n",
              "  height: 80%;\n",
              "  background: linear-gradient(90deg,#a2d2ff 2.4%, transparent 2.4%);\n",
              "}\n",
              "#T_10154_row6_col0 {\n",
              "  width: 10em;\n",
              "  height: 80%;\n",
              "  background: linear-gradient(90deg,#a2d2ff 1.4%, transparent 1.4%);\n",
              "}\n",
              "#T_10154_row7_col0 {\n",
              "  width: 10em;\n",
              "  height: 80%;\n",
              "  background: linear-gradient(90deg,#a2d2ff 1.3%, transparent 1.3%);\n",
              "}\n",
              "#T_10154_row8_col0 {\n",
              "  width: 10em;\n",
              "  height: 80%;\n",
              "  background: linear-gradient(90deg,#a2d2ff 1.2%, transparent 1.2%);\n",
              "}\n",
              "#T_10154_row9_col0 {\n",
              "  width: 10em;\n",
              "  height: 80%;\n",
              "  background: linear-gradient(90deg,#a2d2ff 1.1%, transparent 1.1%);\n",
              "}\n",
              "#T_10154_row10_col0 {\n",
              "  width: 10em;\n",
              "  height: 80%;\n",
              "  background: linear-gradient(90deg,#a2d2ff 1.0%, transparent 1.0%);\n",
              "}\n",
              "#T_10154_row11_col0 {\n",
              "  width: 10em;\n",
              "  height: 80%;\n",
              "  background: linear-gradient(90deg,#a2d2ff 0.7%, transparent 0.7%);\n",
              "}\n",
              "#T_10154_row12_col0 {\n",
              "  width: 10em;\n",
              "  height: 80%;\n",
              "  background: linear-gradient(90deg,#a2d2ff 0.6%, transparent 0.6%);\n",
              "}\n",
              "#T_10154_row13_col0 {\n",
              "  width: 10em;\n",
              "  height: 80%;\n",
              "  background: linear-gradient(90deg,#a2d2ff 0.3%, transparent 0.3%);\n",
              "}\n",
              "#T_10154_row14_col0, #T_10154_row15_col0 {\n",
              "  width: 10em;\n",
              "  height: 80%;\n",
              "  background: linear-gradient(90deg,#a2d2ff 0.2%, transparent 0.2%);\n",
              "}\n",
              "#T_10154_row16_col0, #T_10154_row17_col0 {\n",
              "  width: 10em;\n",
              "  height: 80%;\n",
              "  background: linear-gradient(90deg,#a2d2ff 0.1%, transparent 0.1%);\n",
              "}\n",
              "#T_10154_row18_col0 {\n",
              "  width: 10em;\n",
              "  height: 80%;\n",
              "  background: linear-gradient(90deg,#a2d2ff 0.0%, transparent 0.0%);\n",
              "}\n",
              "#T_10154_row19_col0 {\n",
              "  width: 10em;\n",
              "  height: 80%;\n",
              "}\n",
              "</style>\n",
              "<table id=\"T_10154_\" class=\"dataframe\">\n",
              "  <thead>\n",
              "    <tr>\n",
              "      <th class=\"blank level0\" >&nbsp;</th>\n",
              "      <th class=\"col_heading level0 col0\" >Number of movies</th>\n",
              "    </tr>\n",
              "  </thead>\n",
              "  <tbody>\n",
              "    <tr>\n",
              "      <th id=\"T_10154_level0_row0\" class=\"row_heading level0 row0\" >English</th>\n",
              "      <td id=\"T_10154_row0_col0\" class=\"data row0 col0\" >3437</td>\n",
              "    </tr>\n",
              "    <tr>\n",
              "      <th id=\"T_10154_level0_row1\" class=\"row_heading level0 row1\" >Spanish</th>\n",
              "      <td id=\"T_10154_row1_col0\" class=\"data row1 col0\" >195</td>\n",
              "    </tr>\n",
              "    <tr>\n",
              "      <th id=\"T_10154_level0_row2\" class=\"row_heading level0 row2\" >French</th>\n",
              "      <td id=\"T_10154_row2_col0\" class=\"data row2 col0\" >184</td>\n",
              "    </tr>\n",
              "    <tr>\n",
              "      <th id=\"T_10154_level0_row3\" class=\"row_heading level0 row3\" >Hindi</th>\n",
              "      <td id=\"T_10154_row3_col0\" class=\"data row3 col0\" >181</td>\n",
              "    </tr>\n",
              "    <tr>\n",
              "      <th id=\"T_10154_level0_row4\" class=\"row_heading level0 row4\" >German</th>\n",
              "      <td id=\"T_10154_row4_col0\" class=\"data row4 col0\" >118</td>\n",
              "    </tr>\n",
              "    <tr>\n",
              "      <th id=\"T_10154_level0_row5\" class=\"row_heading level0 row5\" >Italian</th>\n",
              "      <td id=\"T_10154_row5_col0\" class=\"data row5 col0\" >99</td>\n",
              "    </tr>\n",
              "    <tr>\n",
              "      <th id=\"T_10154_level0_row6\" class=\"row_heading level0 row6\" >Russian</th>\n",
              "      <td id=\"T_10154_row6_col0\" class=\"data row6 col0\" >64</td>\n",
              "    </tr>\n",
              "    <tr>\n",
              "      <th id=\"T_10154_level0_row7\" class=\"row_heading level0 row7\" >Telugu</th>\n",
              "      <td id=\"T_10154_row7_col0\" class=\"data row7 col0\" >59</td>\n",
              "    </tr>\n",
              "    <tr>\n",
              "      <th id=\"T_10154_level0_row8\" class=\"row_heading level0 row8\" >Mandarin</th>\n",
              "      <td id=\"T_10154_row8_col0\" class=\"data row8 col0\" >58</td>\n",
              "    </tr>\n",
              "    <tr>\n",
              "      <th id=\"T_10154_level0_row9\" class=\"row_heading level0 row9\" >Tamil</th>\n",
              "      <td id=\"T_10154_row9_col0\" class=\"data row9 col0\" >53</td>\n",
              "    </tr>\n",
              "    <tr>\n",
              "      <th id=\"T_10154_level0_row10\" class=\"row_heading level0 row10\" >Japanese</th>\n",
              "      <td id=\"T_10154_row10_col0\" class=\"data row10 col0\" >51</td>\n",
              "    </tr>\n",
              "    <tr>\n",
              "      <th id=\"T_10154_level0_row11\" class=\"row_heading level0 row11\" >Arabic</th>\n",
              "      <td id=\"T_10154_row11_col0\" class=\"data row11 col0\" >40</td>\n",
              "    </tr>\n",
              "    <tr>\n",
              "      <th id=\"T_10154_level0_row12\" class=\"row_heading level0 row12\" >Korean</th>\n",
              "      <td id=\"T_10154_row12_col0\" class=\"data row12 col0\" >36</td>\n",
              "    </tr>\n",
              "    <tr>\n",
              "      <th id=\"T_10154_level0_row13\" class=\"row_heading level0 row13\" >Hebrew</th>\n",
              "      <td id=\"T_10154_row13_col0\" class=\"data row13 col0\" >25</td>\n",
              "    </tr>\n",
              "    <tr>\n",
              "      <th id=\"T_10154_level0_row14\" class=\"row_heading level0 row14\" >Cantonese</th>\n",
              "      <td id=\"T_10154_row14_col0\" class=\"data row14 col0\" >24</td>\n",
              "    </tr>\n",
              "    <tr>\n",
              "      <th id=\"T_10154_level0_row15\" class=\"row_heading level0 row15\" >Latin</th>\n",
              "      <td id=\"T_10154_row15_col0\" class=\"data row15 col0\" >24</td>\n",
              "    </tr>\n",
              "    <tr>\n",
              "      <th id=\"T_10154_level0_row16\" class=\"row_heading level0 row16\" >Punjabi</th>\n",
              "      <td id=\"T_10154_row16_col0\" class=\"data row16 col0\" >20</td>\n",
              "    </tr>\n",
              "    <tr>\n",
              "      <th id=\"T_10154_level0_row17\" class=\"row_heading level0 row17\" >Portuguese</th>\n",
              "      <td id=\"T_10154_row17_col0\" class=\"data row17 col0\" >18</td>\n",
              "    </tr>\n",
              "    <tr>\n",
              "      <th id=\"T_10154_level0_row18\" class=\"row_heading level0 row18\" >Swedish</th>\n",
              "      <td id=\"T_10154_row18_col0\" class=\"data row18 col0\" >17</td>\n",
              "    </tr>\n",
              "    <tr>\n",
              "      <th id=\"T_10154_level0_row19\" class=\"row_heading level0 row19\" >Chinese</th>\n",
              "      <td id=\"T_10154_row19_col0\" class=\"data row19 col0\" >16</td>\n",
              "    </tr>\n",
              "  </tbody>\n",
              "</table>\n"
            ]
          },
          "metadata": {},
          "execution_count": 70
        }
      ]
    },
    {
      "cell_type": "code",
      "source": [
        "bar(df_g_merged,'Prime Video','#a2d2ff')"
      ],
      "metadata": {
        "colab": {
          "base_uri": "https://localhost:8080/",
          "height": 676
        },
        "id": "l_nOpJFNtCH0",
        "outputId": "cbf7f492-679b-45da-cc4d-c6ed9cd57a3d"
      },
      "execution_count": 71,
      "outputs": [
        {
          "output_type": "execute_result",
          "data": {
            "text/plain": [
              "<pandas.io.formats.style.Styler at 0x7faba5b84a90>"
            ],
            "text/html": [
              "<style type=\"text/css\">\n",
              "#T_c86b1_row0_col0 {\n",
              "  width: 10em;\n",
              "  height: 80%;\n",
              "  background: linear-gradient(90deg,#a2d2ff 100.0%, transparent 100.0%);\n",
              "}\n",
              "#T_c86b1_row1_col0 {\n",
              "  width: 10em;\n",
              "  height: 80%;\n",
              "  background: linear-gradient(90deg,#a2d2ff 63.1%, transparent 63.1%);\n",
              "}\n",
              "#T_c86b1_row2_col0 {\n",
              "  width: 10em;\n",
              "  height: 80%;\n",
              "  background: linear-gradient(90deg,#a2d2ff 46.1%, transparent 46.1%);\n",
              "}\n",
              "#T_c86b1_row3_col0 {\n",
              "  width: 10em;\n",
              "  height: 80%;\n",
              "  background: linear-gradient(90deg,#a2d2ff 35.5%, transparent 35.5%);\n",
              "}\n",
              "#T_c86b1_row4_col0 {\n",
              "  width: 10em;\n",
              "  height: 80%;\n",
              "  background: linear-gradient(90deg,#a2d2ff 33.3%, transparent 33.3%);\n",
              "}\n",
              "#T_c86b1_row5_col0 {\n",
              "  width: 10em;\n",
              "  height: 80%;\n",
              "  background: linear-gradient(90deg,#a2d2ff 24.5%, transparent 24.5%);\n",
              "}\n",
              "#T_c86b1_row6_col0 {\n",
              "  width: 10em;\n",
              "  height: 80%;\n",
              "  background: linear-gradient(90deg,#a2d2ff 19.4%, transparent 19.4%);\n",
              "}\n",
              "#T_c86b1_row7_col0 {\n",
              "  width: 10em;\n",
              "  height: 80%;\n",
              "  background: linear-gradient(90deg,#a2d2ff 19.0%, transparent 19.0%);\n",
              "}\n",
              "#T_c86b1_row8_col0 {\n",
              "  width: 10em;\n",
              "  height: 80%;\n",
              "  background: linear-gradient(90deg,#a2d2ff 15.3%, transparent 15.3%);\n",
              "}\n",
              "#T_c86b1_row9_col0 {\n",
              "  width: 10em;\n",
              "  height: 80%;\n",
              "  background: linear-gradient(90deg,#a2d2ff 13.1%, transparent 13.1%);\n",
              "}\n",
              "#T_c86b1_row10_col0 {\n",
              "  width: 10em;\n",
              "  height: 80%;\n",
              "  background: linear-gradient(90deg,#a2d2ff 12.1%, transparent 12.1%);\n",
              "}\n",
              "#T_c86b1_row11_col0 {\n",
              "  width: 10em;\n",
              "  height: 80%;\n",
              "  background: linear-gradient(90deg,#a2d2ff 9.3%, transparent 9.3%);\n",
              "}\n",
              "#T_c86b1_row12_col0 {\n",
              "  width: 10em;\n",
              "  height: 80%;\n",
              "  background: linear-gradient(90deg,#a2d2ff 7.3%, transparent 7.3%);\n",
              "}\n",
              "#T_c86b1_row13_col0 {\n",
              "  width: 10em;\n",
              "  height: 80%;\n",
              "  background: linear-gradient(90deg,#a2d2ff 4.8%, transparent 4.8%);\n",
              "}\n",
              "#T_c86b1_row14_col0 {\n",
              "  width: 10em;\n",
              "  height: 80%;\n",
              "  background: linear-gradient(90deg,#a2d2ff 3.4%, transparent 3.4%);\n",
              "}\n",
              "#T_c86b1_row15_col0 {\n",
              "  width: 10em;\n",
              "  height: 80%;\n",
              "  background: linear-gradient(90deg,#a2d2ff 2.9%, transparent 2.9%);\n",
              "}\n",
              "#T_c86b1_row16_col0 {\n",
              "  width: 10em;\n",
              "  height: 80%;\n",
              "  background: linear-gradient(90deg,#a2d2ff 1.7%, transparent 1.7%);\n",
              "}\n",
              "#T_c86b1_row17_col0 {\n",
              "  width: 10em;\n",
              "  height: 80%;\n",
              "  background: linear-gradient(90deg,#a2d2ff 1.6%, transparent 1.6%);\n",
              "}\n",
              "#T_c86b1_row18_col0 {\n",
              "  width: 10em;\n",
              "  height: 80%;\n",
              "  background: linear-gradient(90deg,#a2d2ff 0.6%, transparent 0.6%);\n",
              "}\n",
              "#T_c86b1_row19_col0 {\n",
              "  width: 10em;\n",
              "  height: 80%;\n",
              "}\n",
              "</style>\n",
              "<table id=\"T_c86b1_\" class=\"dataframe\">\n",
              "  <thead>\n",
              "    <tr>\n",
              "      <th class=\"blank level0\" >&nbsp;</th>\n",
              "      <th class=\"col_heading level0 col0\" >Number of movies</th>\n",
              "    </tr>\n",
              "  </thead>\n",
              "  <tbody>\n",
              "    <tr>\n",
              "      <th id=\"T_c86b1_level0_row0\" class=\"row_heading level0 row0\" >Drama</th>\n",
              "      <td id=\"T_c86b1_row0_col0\" class=\"data row0 col0\" >1917</td>\n",
              "    </tr>\n",
              "    <tr>\n",
              "      <th id=\"T_c86b1_level0_row1\" class=\"row_heading level0 row1\" >Comedy</th>\n",
              "      <td id=\"T_c86b1_row1_col0\" class=\"data row1 col0\" >1251</td>\n",
              "    </tr>\n",
              "    <tr>\n",
              "      <th id=\"T_c86b1_level0_row2\" class=\"row_heading level0 row2\" >Thriller</th>\n",
              "      <td id=\"T_c86b1_row2_col0\" class=\"data row2 col0\" >943</td>\n",
              "    </tr>\n",
              "    <tr>\n",
              "      <th id=\"T_c86b1_level0_row3\" class=\"row_heading level0 row3\" >Romance</th>\n",
              "      <td id=\"T_c86b1_row3_col0\" class=\"data row3 col0\" >753</td>\n",
              "    </tr>\n",
              "    <tr>\n",
              "      <th id=\"T_c86b1_level0_row4\" class=\"row_heading level0 row4\" >Action</th>\n",
              "      <td id=\"T_c86b1_row4_col0\" class=\"data row4 col0\" >712</td>\n",
              "    </tr>\n",
              "    <tr>\n",
              "      <th id=\"T_c86b1_level0_row5\" class=\"row_heading level0 row5\" >Crime</th>\n",
              "      <td id=\"T_c86b1_row5_col0\" class=\"data row5 col0\" >554</td>\n",
              "    </tr>\n",
              "    <tr>\n",
              "      <th id=\"T_c86b1_level0_row6\" class=\"row_heading level0 row6\" >Horror</th>\n",
              "      <td id=\"T_c86b1_row6_col0\" class=\"data row6 col0\" >462</td>\n",
              "    </tr>\n",
              "    <tr>\n",
              "      <th id=\"T_c86b1_level0_row7\" class=\"row_heading level0 row7\" >Documentary</th>\n",
              "      <td id=\"T_c86b1_row7_col0\" class=\"data row7 col0\" >454</td>\n",
              "    </tr>\n",
              "    <tr>\n",
              "      <th id=\"T_c86b1_level0_row8\" class=\"row_heading level0 row8\" >Adventure</th>\n",
              "      <td id=\"T_c86b1_row8_col0\" class=\"data row8 col0\" >388</td>\n",
              "    </tr>\n",
              "    <tr>\n",
              "      <th id=\"T_c86b1_level0_row9\" class=\"row_heading level0 row9\" >Mystery</th>\n",
              "      <td id=\"T_c86b1_row9_col0\" class=\"data row9 col0\" >347</td>\n",
              "    </tr>\n",
              "    <tr>\n",
              "      <th id=\"T_c86b1_level0_row10\" class=\"row_heading level0 row10\" >Family</th>\n",
              "      <td id=\"T_c86b1_row10_col0\" class=\"data row10 col0\" >330</td>\n",
              "    </tr>\n",
              "    <tr>\n",
              "      <th id=\"T_c86b1_level0_row11\" class=\"row_heading level0 row11\" >Sci-Fi</th>\n",
              "      <td id=\"T_c86b1_row11_col0\" class=\"data row11 col0\" >279</td>\n",
              "    </tr>\n",
              "    <tr>\n",
              "      <th id=\"T_c86b1_level0_row12\" class=\"row_heading level0 row12\" >Fantasy</th>\n",
              "      <td id=\"T_c86b1_row12_col0\" class=\"data row12 col0\" >243</td>\n",
              "    </tr>\n",
              "    <tr>\n",
              "      <th id=\"T_c86b1_level0_row13\" class=\"row_heading level0 row13\" >Biography</th>\n",
              "      <td id=\"T_c86b1_row13_col0\" class=\"data row13 col0\" >197</td>\n",
              "    </tr>\n",
              "    <tr>\n",
              "      <th id=\"T_c86b1_level0_row14\" class=\"row_heading level0 row14\" >Western</th>\n",
              "      <td id=\"T_c86b1_row14_col0\" class=\"data row14 col0\" >172</td>\n",
              "    </tr>\n",
              "    <tr>\n",
              "      <th id=\"T_c86b1_level0_row15\" class=\"row_heading level0 row15\" >History</th>\n",
              "      <td id=\"T_c86b1_row15_col0\" class=\"data row15 col0\" >163</td>\n",
              "    </tr>\n",
              "    <tr>\n",
              "      <th id=\"T_c86b1_level0_row16\" class=\"row_heading level0 row16\" >Music</th>\n",
              "      <td id=\"T_c86b1_row16_col0\" class=\"data row16 col0\" >142</td>\n",
              "    </tr>\n",
              "    <tr>\n",
              "      <th id=\"T_c86b1_level0_row17\" class=\"row_heading level0 row17\" >War</th>\n",
              "      <td id=\"T_c86b1_row17_col0\" class=\"data row17 col0\" >139</td>\n",
              "    </tr>\n",
              "    <tr>\n",
              "      <th id=\"T_c86b1_level0_row18\" class=\"row_heading level0 row18\" >Animation</th>\n",
              "      <td id=\"T_c86b1_row18_col0\" class=\"data row18 col0\" >122</td>\n",
              "    </tr>\n",
              "    <tr>\n",
              "      <th id=\"T_c86b1_level0_row19\" class=\"row_heading level0 row19\" >Sport</th>\n",
              "      <td id=\"T_c86b1_row19_col0\" class=\"data row19 col0\" >111</td>\n",
              "    </tr>\n",
              "  </tbody>\n",
              "</table>\n"
            ]
          },
          "metadata": {},
          "execution_count": 71
        }
      ]
    },
    {
      "cell_type": "code",
      "source": [
        "bar(df_l_merged,'Disney+','#72efdd')"
      ],
      "metadata": {
        "colab": {
          "base_uri": "https://localhost:8080/",
          "height": 676
        },
        "id": "ghPmckNWtD8k",
        "outputId": "653e2e3d-7aaa-4ee2-dddb-21a31cef48d2"
      },
      "execution_count": 72,
      "outputs": [
        {
          "output_type": "execute_result",
          "data": {
            "text/plain": [
              "<pandas.io.formats.style.Styler at 0x7faba5b88b10>"
            ],
            "text/html": [
              "<style type=\"text/css\">\n",
              "#T_e1010_row0_col0 {\n",
              "  width: 10em;\n",
              "  height: 80%;\n",
              "  background: linear-gradient(90deg,#72efdd 100.0%, transparent 100.0%);\n",
              "}\n",
              "#T_e1010_row1_col0 {\n",
              "  width: 10em;\n",
              "  height: 80%;\n",
              "  background: linear-gradient(90deg,#72efdd 4.5%, transparent 4.5%);\n",
              "}\n",
              "#T_e1010_row2_col0 {\n",
              "  width: 10em;\n",
              "  height: 80%;\n",
              "  background: linear-gradient(90deg,#72efdd 3.5%, transparent 3.5%);\n",
              "}\n",
              "#T_e1010_row3_col0 {\n",
              "  width: 10em;\n",
              "  height: 80%;\n",
              "  background: linear-gradient(90deg,#72efdd 2.7%, transparent 2.7%);\n",
              "}\n",
              "#T_e1010_row4_col0 {\n",
              "  width: 10em;\n",
              "  height: 80%;\n",
              "  background: linear-gradient(90deg,#72efdd 1.3%, transparent 1.3%);\n",
              "}\n",
              "#T_e1010_row5_col0, #T_e1010_row6_col0 {\n",
              "  width: 10em;\n",
              "  height: 80%;\n",
              "  background: linear-gradient(90deg,#72efdd 0.9%, transparent 0.9%);\n",
              "}\n",
              "#T_e1010_row7_col0 {\n",
              "  width: 10em;\n",
              "  height: 80%;\n",
              "  background: linear-gradient(90deg,#72efdd 0.7%, transparent 0.7%);\n",
              "}\n",
              "#T_e1010_row8_col0 {\n",
              "  width: 10em;\n",
              "  height: 80%;\n",
              "  background: linear-gradient(90deg,#72efdd 0.5%, transparent 0.5%);\n",
              "}\n",
              "#T_e1010_row9_col0 {\n",
              "  width: 10em;\n",
              "  height: 80%;\n",
              "  background: linear-gradient(90deg,#72efdd 0.3%, transparent 0.3%);\n",
              "}\n",
              "#T_e1010_row10_col0, #T_e1010_row11_col0, #T_e1010_row12_col0 {\n",
              "  width: 10em;\n",
              "  height: 80%;\n",
              "  background: linear-gradient(90deg,#72efdd 0.2%, transparent 0.2%);\n",
              "}\n",
              "#T_e1010_row13_col0, #T_e1010_row14_col0 {\n",
              "  width: 10em;\n",
              "  height: 80%;\n",
              "  background: linear-gradient(90deg,#72efdd 0.1%, transparent 0.1%);\n",
              "}\n",
              "#T_e1010_row15_col0, #T_e1010_row16_col0, #T_e1010_row17_col0, #T_e1010_row18_col0, #T_e1010_row19_col0 {\n",
              "  width: 10em;\n",
              "  height: 80%;\n",
              "}\n",
              "</style>\n",
              "<table id=\"T_e1010_\" class=\"dataframe\">\n",
              "  <thead>\n",
              "    <tr>\n",
              "      <th class=\"blank level0\" >&nbsp;</th>\n",
              "      <th class=\"col_heading level0 col0\" >Number of movies</th>\n",
              "    </tr>\n",
              "  </thead>\n",
              "  <tbody>\n",
              "    <tr>\n",
              "      <th id=\"T_e1010_level0_row0\" class=\"row_heading level0 row0\" >English</th>\n",
              "      <td id=\"T_e1010_row0_col0\" class=\"data row0 col0\" >866</td>\n",
              "    </tr>\n",
              "    <tr>\n",
              "      <th id=\"T_e1010_level0_row1\" class=\"row_heading level0 row1\" >French</th>\n",
              "      <td id=\"T_e1010_row1_col0\" class=\"data row1 col0\" >43</td>\n",
              "    </tr>\n",
              "    <tr>\n",
              "      <th id=\"T_e1010_level0_row2\" class=\"row_heading level0 row2\" >Spanish</th>\n",
              "      <td id=\"T_e1010_row2_col0\" class=\"data row2 col0\" >34</td>\n",
              "    </tr>\n",
              "    <tr>\n",
              "      <th id=\"T_e1010_level0_row3\" class=\"row_heading level0 row3\" >German</th>\n",
              "      <td id=\"T_e1010_row3_col0\" class=\"data row3 col0\" >27</td>\n",
              "    </tr>\n",
              "    <tr>\n",
              "      <th id=\"T_e1010_level0_row4\" class=\"row_heading level0 row4\" >Italian</th>\n",
              "      <td id=\"T_e1010_row4_col0\" class=\"data row4 col0\" >15</td>\n",
              "    </tr>\n",
              "    <tr>\n",
              "      <th id=\"T_e1010_level0_row5\" class=\"row_heading level0 row5\" >Japanese</th>\n",
              "      <td id=\"T_e1010_row5_col0\" class=\"data row5 col0\" >12</td>\n",
              "    </tr>\n",
              "    <tr>\n",
              "      <th id=\"T_e1010_level0_row6\" class=\"row_heading level0 row6\" >Mandarin</th>\n",
              "      <td id=\"T_e1010_row6_col0\" class=\"data row6 col0\" >12</td>\n",
              "    </tr>\n",
              "    <tr>\n",
              "      <th id=\"T_e1010_level0_row7\" class=\"row_heading level0 row7\" >None</th>\n",
              "      <td id=\"T_e1010_row7_col0\" class=\"data row7 col0\" >10</td>\n",
              "    </tr>\n",
              "    <tr>\n",
              "      <th id=\"T_e1010_level0_row8\" class=\"row_heading level0 row8\" >Norwegian</th>\n",
              "      <td id=\"T_e1010_row8_col0\" class=\"data row8 col0\" >8</td>\n",
              "    </tr>\n",
              "    <tr>\n",
              "      <th id=\"T_e1010_level0_row9\" class=\"row_heading level0 row9\" >Arabic</th>\n",
              "      <td id=\"T_e1010_row9_col0\" class=\"data row9 col0\" >7</td>\n",
              "    </tr>\n",
              "    <tr>\n",
              "      <th id=\"T_e1010_level0_row10\" class=\"row_heading level0 row10\" >Korean</th>\n",
              "      <td id=\"T_e1010_row10_col0\" class=\"data row10 col0\" >6</td>\n",
              "    </tr>\n",
              "    <tr>\n",
              "      <th id=\"T_e1010_level0_row11\" class=\"row_heading level0 row11\" >Russian</th>\n",
              "      <td id=\"T_e1010_row11_col0\" class=\"data row11 col0\" >6</td>\n",
              "    </tr>\n",
              "    <tr>\n",
              "      <th id=\"T_e1010_level0_row12\" class=\"row_heading level0 row12\" >Hindi</th>\n",
              "      <td id=\"T_e1010_row12_col0\" class=\"data row12 col0\" >6</td>\n",
              "    </tr>\n",
              "    <tr>\n",
              "      <th id=\"T_e1010_level0_row13\" class=\"row_heading level0 row13\" >Greek</th>\n",
              "      <td id=\"T_e1010_row13_col0\" class=\"data row13 col0\" >5</td>\n",
              "    </tr>\n",
              "    <tr>\n",
              "      <th id=\"T_e1010_level0_row14\" class=\"row_heading level0 row14\" >Portuguese</th>\n",
              "      <td id=\"T_e1010_row14_col0\" class=\"data row14 col0\" >5</td>\n",
              "    </tr>\n",
              "    <tr>\n",
              "      <th id=\"T_e1010_level0_row15\" class=\"row_heading level0 row15\" >Xhosa</th>\n",
              "      <td id=\"T_e1010_row15_col0\" class=\"data row15 col0\" >4</td>\n",
              "    </tr>\n",
              "    <tr>\n",
              "      <th id=\"T_e1010_level0_row16\" class=\"row_heading level0 row16\" >Inuktitut</th>\n",
              "      <td id=\"T_e1010_row16_col0\" class=\"data row16 col0\" >4</td>\n",
              "    </tr>\n",
              "    <tr>\n",
              "      <th id=\"T_e1010_level0_row17\" class=\"row_heading level0 row17\" >Hawaiian</th>\n",
              "      <td id=\"T_e1010_row17_col0\" class=\"data row17 col0\" >4</td>\n",
              "    </tr>\n",
              "    <tr>\n",
              "      <th id=\"T_e1010_level0_row18\" class=\"row_heading level0 row18\" >Icelandic</th>\n",
              "      <td id=\"T_e1010_row18_col0\" class=\"data row18 col0\" >4</td>\n",
              "    </tr>\n",
              "    <tr>\n",
              "      <th id=\"T_e1010_level0_row19\" class=\"row_heading level0 row19\" >Cantonese</th>\n",
              "      <td id=\"T_e1010_row19_col0\" class=\"data row19 col0\" >4</td>\n",
              "    </tr>\n",
              "  </tbody>\n",
              "</table>\n"
            ]
          },
          "metadata": {},
          "execution_count": 72
        }
      ]
    },
    {
      "cell_type": "code",
      "source": [
        "bar(df_g_merged,'Disney+','#72efdd')"
      ],
      "metadata": {
        "colab": {
          "base_uri": "https://localhost:8080/",
          "height": 676
        },
        "id": "Utt9Rm4itGJT",
        "outputId": "c994b1f8-8155-4c7a-d0f5-b336b2d2c50c"
      },
      "execution_count": 73,
      "outputs": [
        {
          "output_type": "execute_result",
          "data": {
            "text/plain": [
              "<pandas.io.formats.style.Styler at 0x7faba5b8a250>"
            ],
            "text/html": [
              "<style type=\"text/css\">\n",
              "#T_112bd_row0_col0 {\n",
              "  width: 10em;\n",
              "  height: 80%;\n",
              "  background: linear-gradient(90deg,#72efdd 100.0%, transparent 100.0%);\n",
              "}\n",
              "#T_112bd_row1_col0 {\n",
              "  width: 10em;\n",
              "  height: 80%;\n",
              "  background: linear-gradient(90deg,#72efdd 72.3%, transparent 72.3%);\n",
              "}\n",
              "#T_112bd_row2_col0 {\n",
              "  width: 10em;\n",
              "  height: 80%;\n",
              "  background: linear-gradient(90deg,#72efdd 54.1%, transparent 54.1%);\n",
              "}\n",
              "#T_112bd_row3_col0 {\n",
              "  width: 10em;\n",
              "  height: 80%;\n",
              "  background: linear-gradient(90deg,#72efdd 49.6%, transparent 49.6%);\n",
              "}\n",
              "#T_112bd_row4_col0 {\n",
              "  width: 10em;\n",
              "  height: 80%;\n",
              "  background: linear-gradient(90deg,#72efdd 39.4%, transparent 39.4%);\n",
              "}\n",
              "#T_112bd_row5_col0 {\n",
              "  width: 10em;\n",
              "  height: 80%;\n",
              "  background: linear-gradient(90deg,#72efdd 32.6%, transparent 32.6%);\n",
              "}\n",
              "#T_112bd_row6_col0 {\n",
              "  width: 10em;\n",
              "  height: 80%;\n",
              "  background: linear-gradient(90deg,#72efdd 26.1%, transparent 26.1%);\n",
              "}\n",
              "#T_112bd_row7_col0 {\n",
              "  width: 10em;\n",
              "  height: 80%;\n",
              "  background: linear-gradient(90deg,#72efdd 18.1%, transparent 18.1%);\n",
              "}\n",
              "#T_112bd_row8_col0 {\n",
              "  width: 10em;\n",
              "  height: 80%;\n",
              "  background: linear-gradient(90deg,#72efdd 17.3%, transparent 17.3%);\n",
              "}\n",
              "#T_112bd_row9_col0 {\n",
              "  width: 10em;\n",
              "  height: 80%;\n",
              "  background: linear-gradient(90deg,#72efdd 16.7%, transparent 16.7%);\n",
              "}\n",
              "#T_112bd_row10_col0 {\n",
              "  width: 10em;\n",
              "  height: 80%;\n",
              "  background: linear-gradient(90deg,#72efdd 15.7%, transparent 15.7%);\n",
              "}\n",
              "#T_112bd_row11_col0 {\n",
              "  width: 10em;\n",
              "  height: 80%;\n",
              "  background: linear-gradient(90deg,#72efdd 15.1%, transparent 15.1%);\n",
              "}\n",
              "#T_112bd_row12_col0 {\n",
              "  width: 10em;\n",
              "  height: 80%;\n",
              "  background: linear-gradient(90deg,#72efdd 6.8%, transparent 6.8%);\n",
              "}\n",
              "#T_112bd_row13_col0 {\n",
              "  width: 10em;\n",
              "  height: 80%;\n",
              "  background: linear-gradient(90deg,#72efdd 4.8%, transparent 4.8%);\n",
              "}\n",
              "#T_112bd_row14_col0 {\n",
              "  width: 10em;\n",
              "  height: 80%;\n",
              "  background: linear-gradient(90deg,#72efdd 2.2%, transparent 2.2%);\n",
              "}\n",
              "#T_112bd_row15_col0, #T_112bd_row16_col0 {\n",
              "  width: 10em;\n",
              "  height: 80%;\n",
              "  background: linear-gradient(90deg,#72efdd 1.9%, transparent 1.9%);\n",
              "}\n",
              "#T_112bd_row17_col0 {\n",
              "  width: 10em;\n",
              "  height: 80%;\n",
              "  background: linear-gradient(90deg,#72efdd 1.4%, transparent 1.4%);\n",
              "}\n",
              "#T_112bd_row18_col0 {\n",
              "  width: 10em;\n",
              "  height: 80%;\n",
              "  background: linear-gradient(90deg,#72efdd 1.3%, transparent 1.3%);\n",
              "}\n",
              "#T_112bd_row19_col0 {\n",
              "  width: 10em;\n",
              "  height: 80%;\n",
              "}\n",
              "</style>\n",
              "<table id=\"T_112bd_\" class=\"dataframe\">\n",
              "  <thead>\n",
              "    <tr>\n",
              "      <th class=\"blank level0\" >&nbsp;</th>\n",
              "      <th class=\"col_heading level0 col0\" >Number of movies</th>\n",
              "    </tr>\n",
              "  </thead>\n",
              "  <tbody>\n",
              "    <tr>\n",
              "      <th id=\"T_112bd_level0_row0\" class=\"row_heading level0 row0\" >Family</th>\n",
              "      <td id=\"T_112bd_row0_col0\" class=\"data row0 col0\" >645</td>\n",
              "    </tr>\n",
              "    <tr>\n",
              "      <th id=\"T_112bd_level0_row1\" class=\"row_heading level0 row1\" >Comedy</th>\n",
              "      <td id=\"T_112bd_row1_col0\" class=\"data row1 col0\" >471</td>\n",
              "    </tr>\n",
              "    <tr>\n",
              "      <th id=\"T_112bd_level0_row2\" class=\"row_heading level0 row2\" >Adventure</th>\n",
              "      <td id=\"T_112bd_row2_col0\" class=\"data row2 col0\" >356</td>\n",
              "    </tr>\n",
              "    <tr>\n",
              "      <th id=\"T_112bd_level0_row3\" class=\"row_heading level0 row3\" >Animation</th>\n",
              "      <td id=\"T_112bd_row3_col0\" class=\"data row3 col0\" >328</td>\n",
              "    </tr>\n",
              "    <tr>\n",
              "      <th id=\"T_112bd_level0_row4\" class=\"row_heading level0 row4\" >Fantasy</th>\n",
              "      <td id=\"T_112bd_row4_col0\" class=\"data row4 col0\" >264</td>\n",
              "    </tr>\n",
              "    <tr>\n",
              "      <th id=\"T_112bd_level0_row5\" class=\"row_heading level0 row5\" >Drama</th>\n",
              "      <td id=\"T_112bd_row5_col0\" class=\"data row5 col0\" >221</td>\n",
              "    </tr>\n",
              "    <tr>\n",
              "      <th id=\"T_112bd_level0_row6\" class=\"row_heading level0 row6\" >Short</th>\n",
              "      <td id=\"T_112bd_row6_col0\" class=\"data row6 col0\" >180</td>\n",
              "    </tr>\n",
              "    <tr>\n",
              "      <th id=\"T_112bd_level0_row7\" class=\"row_heading level0 row7\" >Documentary</th>\n",
              "      <td id=\"T_112bd_row7_col0\" class=\"data row7 col0\" >130</td>\n",
              "    </tr>\n",
              "    <tr>\n",
              "      <th id=\"T_112bd_level0_row8\" class=\"row_heading level0 row8\" >Action</th>\n",
              "      <td id=\"T_112bd_row8_col0\" class=\"data row8 col0\" >125</td>\n",
              "    </tr>\n",
              "    <tr>\n",
              "      <th id=\"T_112bd_level0_row9\" class=\"row_heading level0 row9\" >Sci-Fi</th>\n",
              "      <td id=\"T_112bd_row9_col0\" class=\"data row9 col0\" >121</td>\n",
              "    </tr>\n",
              "    <tr>\n",
              "      <th id=\"T_112bd_level0_row10\" class=\"row_heading level0 row10\" >Musical</th>\n",
              "      <td id=\"T_112bd_row10_col0\" class=\"data row10 col0\" >115</td>\n",
              "    </tr>\n",
              "    <tr>\n",
              "      <th id=\"T_112bd_level0_row11\" class=\"row_heading level0 row11\" >Romance</th>\n",
              "      <td id=\"T_112bd_row11_col0\" class=\"data row11 col0\" >111</td>\n",
              "    </tr>\n",
              "    <tr>\n",
              "      <th id=\"T_112bd_level0_row12\" class=\"row_heading level0 row12\" >Sport</th>\n",
              "      <td id=\"T_112bd_row12_col0\" class=\"data row12 col0\" >59</td>\n",
              "    </tr>\n",
              "    <tr>\n",
              "      <th id=\"T_112bd_level0_row13\" class=\"row_heading level0 row13\" >Music</th>\n",
              "      <td id=\"T_112bd_row13_col0\" class=\"data row13 col0\" >46</td>\n",
              "    </tr>\n",
              "    <tr>\n",
              "      <th id=\"T_112bd_level0_row14\" class=\"row_heading level0 row14\" >Thriller</th>\n",
              "      <td id=\"T_112bd_row14_col0\" class=\"data row14 col0\" >30</td>\n",
              "    </tr>\n",
              "    <tr>\n",
              "      <th id=\"T_112bd_level0_row15\" class=\"row_heading level0 row15\" >History</th>\n",
              "      <td id=\"T_112bd_row15_col0\" class=\"data row15 col0\" >28</td>\n",
              "    </tr>\n",
              "    <tr>\n",
              "      <th id=\"T_112bd_level0_row16\" class=\"row_heading level0 row16\" >Crime</th>\n",
              "      <td id=\"T_112bd_row16_col0\" class=\"data row16 col0\" >28</td>\n",
              "    </tr>\n",
              "    <tr>\n",
              "      <th id=\"T_112bd_level0_row17\" class=\"row_heading level0 row17\" >Biography</th>\n",
              "      <td id=\"T_112bd_row17_col0\" class=\"data row17 col0\" >25</td>\n",
              "    </tr>\n",
              "    <tr>\n",
              "      <th id=\"T_112bd_level0_row18\" class=\"row_heading level0 row18\" >Mystery</th>\n",
              "      <td id=\"T_112bd_row18_col0\" class=\"data row18 col0\" >24</td>\n",
              "    </tr>\n",
              "    <tr>\n",
              "      <th id=\"T_112bd_level0_row19\" class=\"row_heading level0 row19\" >Western</th>\n",
              "      <td id=\"T_112bd_row19_col0\" class=\"data row19 col0\" >16</td>\n",
              "    </tr>\n",
              "  </tbody>\n",
              "</table>\n"
            ]
          },
          "metadata": {},
          "execution_count": 73
        }
      ]
    },
    {
      "cell_type": "code",
      "source": [
        "### ML ###"
      ],
      "metadata": {
        "id": "8uVGyImuuRsn"
      },
      "execution_count": null,
      "outputs": []
    },
    {
      "cell_type": "code",
      "source": [
        "pd.set_option('display.float_format', '{:,.1f}'.format)sns.displot(df['SalePrice'], kde=True)"
      ],
      "metadata": {
        "id": "AKdeZxdivzMs"
      },
      "execution_count": 77,
      "outputs": []
    },
    {
      "cell_type": "code",
      "source": [
        "df_movie['IMDb'] = df_movie['IMDb'].apply(str)"
      ],
      "metadata": {
        "id": "PzDVGPAgwxqV"
      },
      "execution_count": 83,
      "outputs": []
    },
    {
      "cell_type": "code",
      "source": [
        "df_movie['IMDb'].describe()"
      ],
      "metadata": {
        "colab": {
          "base_uri": "https://localhost:8080/"
        },
        "id": "ODV-xFa9wBH8",
        "outputId": "31dca837-cdd8-429c-93f3-d56efd8bef8a"
      },
      "execution_count": 78,
      "outputs": [
        {
          "output_type": "execute_result",
          "data": {
            "text/plain": [
              "count     9309\n",
              "unique      81\n",
              "top        6.5\n",
              "freq       373\n",
              "Name: IMDb, dtype: object"
            ]
          },
          "metadata": {},
          "execution_count": 78
        }
      ]
    },
    {
      "cell_type": "code",
      "source": [
        "sns.displot(df_movie['IMDb'], kde=True)"
      ],
      "metadata": {
        "colab": {
          "base_uri": "https://localhost:8080/",
          "height": 388
        },
        "id": "feDHEZlFwN5t",
        "outputId": "29103d97-30df-43a9-9bd1-731557c5d780"
      },
      "execution_count": 84,
      "outputs": [
        {
          "output_type": "execute_result",
          "data": {
            "text/plain": [
              "<seaborn.axisgrid.FacetGrid at 0x7faba3fe5710>"
            ]
          },
          "metadata": {},
          "execution_count": 84
        },
        {
          "output_type": "display_data",
          "data": {
            "text/plain": [
              "<Figure size 360x360 with 1 Axes>"
            ],
            "image/png": "[encoded data removed]"
          },
          "metadata": {
            "needs_background": "light"
          }
        }
      ]
    },
    {
      "cell_type": "code",
      "source": [
        "predict = df_movie['IMDb'].mean()"
      ],
      "metadata": {
        "colab": {
          "base_uri": "https://localhost:8080/",
          "height": 612
        },
        "id": "rW6No9crwsdV",
        "outputId": "b99ab6f2-4680-44d4-9f3e-c77e48cc13b6"
      },
      "execution_count": 85,
      "outputs": [
        {
          "output_type": "error",
          "ename": "TypeError",
          "evalue": "ignored",
          "traceback": [
            "\u001b[0;31m---------------------------------------------------------------------------\u001b[0m",
            "\u001b[0;31mValueError\u001b[0m                                Traceback (most recent call last)",
            "\u001b[0;32m/usr/local/lib/python3.7/dist-packages/pandas/core/nanops.py\u001b[0m in \u001b[0;36m_ensure_numeric\u001b[0;34m(x)\u001b[0m\n\u001b[1;32m   1602\u001b[0m         \u001b[0;32mtry\u001b[0m\u001b[0;34m:\u001b[0m\u001b[0;34m\u001b[0m\u001b[0;34m\u001b[0m\u001b[0m\n\u001b[0;32m-> 1603\u001b[0;31m             \u001b[0mx\u001b[0m \u001b[0;34m=\u001b[0m \u001b[0mfloat\u001b[0m\u001b[0;34m(\u001b[0m\u001b[0mx\u001b[0m\u001b[0;34m)\u001b[0m\u001b[0;34m\u001b[0m\u001b[0;34m\u001b[0m\u001b[0m\n\u001b[0m\u001b[1;32m   1604\u001b[0m         \u001b[0;32mexcept\u001b[0m \u001b[0;34m(\u001b[0m\u001b[0mTypeError\u001b[0m\u001b[0;34m,\u001b[0m \u001b[0mValueError\u001b[0m\u001b[0;34m)\u001b[0m\u001b[0;34m:\u001b[0m\u001b[0;34m\u001b[0m\u001b[0;34m\u001b[0m\u001b[0m\n",
            "\u001b[0;31mValueError\u001b[0m: could not convert string to float: '7.88.49.08.17.77.17.67.37.37.88.27.77.37.48.27.27.48.28.58.27.28.06.77.68.58.48.57.68.46.97.67.17.37.16.57.68.26.88.58.28.08.37.76.78.57.46.58.47.47.97.08.17.97.46.68.58.47.56.88.36.97.87.57.57.58.17.98.27.36.98.07.88.17.66.57.76.28.58.28.17.77.08.27.87.06.87.76.47.67.86.37.26.38.08.36.37.17.26.87.67.77.56.67.57.98.17.87.67.67.68.18.27.97.78.56.87.47.57.68.16.97.87.27.47.67.45.97.47.96.27.27.28.06.77.47.77.97.58.87.17.16.77.37.47.57.38.18.07.87.57.47.37.28.37.47.67.46.77.67.66.67.67.46.67.87.16.47.97.66.47.97.37.07.57.67.18.07.47.27.08.26.77.37.37.07.15.67.37.67.25.67.57.07.78.28.27.37.77.76.67.57.17.67.07.27.17.47.37.77.07.46.87.16.77.26.27.47.57.66.57.36.47.26.67.27.37.77.16.57.47.16.68.17.47.38.28.47.37.27.17.66.28.17.36.97.56.97.06.76.96.36.86.08.16.87.56.68.25.86.67.56.56.77.66.07.26.67.27.57.27.07.56.56.67.17.17.87.27.56.86.16.37.37.77.86.76.87.16.36.97.16.47.56.77.18.27.16.57.37.06.46.56.86.66.65.86.87.96.87.16.88.36.47.17.27.27.25.86.37.67.76.46.37.27.17.56.66.57.06.57.16.66.76.66.26.86.97.07.16.56.87.75.86.56.46.98.46.96.76.56.17.57.46.66.26.06.66.28.17.27.18.06.26.57.26.85.85.86.76.76.97.16.26.36.87.37.76.25.96.45.26.56.97.06.16.86.16.06.77.96.66.76.57.36.96.86.97.36.77.56.47.36.77.16.36.26.76.46.26.26.66.76.76.46.96.46.26.16.86.48.05.86.18.26.56.27.27.67.56.96.86.36.78.26.96.46.45.86.58.26.46.35.66.66.77.46.05.86.76.16.46.66.08.16.67.16.75.56.56.56.36.17.06.56.35.36.28.47.65.76.55.36.35.86.47.27.28.26.47...",
            "\nDuring handling of the above exception, another exception occurred:\n",
            "\u001b[0;31mValueError\u001b[0m                                Traceback (most recent call last)",
            "\u001b[0;32m/usr/local/lib/python3.7/dist-packages/pandas/core/nanops.py\u001b[0m in \u001b[0;36m_ensure_numeric\u001b[0;34m(x)\u001b[0m\n\u001b[1;32m   1606\u001b[0m             \u001b[0;32mtry\u001b[0m\u001b[0;34m:\u001b[0m\u001b[0;34m\u001b[0m\u001b[0;34m\u001b[0m\u001b[0m\n\u001b[0;32m-> 1607\u001b[0;31m                 \u001b[0mx\u001b[0m \u001b[0;34m=\u001b[0m \u001b[0mcomplex\u001b[0m\u001b[0;34m(\u001b[0m\u001b[0mx\u001b[0m\u001b[0;34m)\u001b[0m\u001b[0;34m\u001b[0m\u001b[0;34m\u001b[0m\u001b[0m\n\u001b[0m\u001b[1;32m   1608\u001b[0m             \u001b[0;32mexcept\u001b[0m \u001b[0mValueError\u001b[0m \u001b[0;32mas\u001b[0m \u001b[0merr\u001b[0m\u001b[0;34m:\u001b[0m\u001b[0;34m\u001b[0m\u001b[0;34m\u001b[0m\u001b[0m\n",
            "\u001b[0;31mValueError\u001b[0m: complex() arg is a malformed string",
            "\nThe above exception was the direct cause of the following exception:\n",
            "\u001b[0;31mTypeError\u001b[0m                                 Traceback (most recent call last)",
            "\u001b[0;32m<ipython-input-85-423a47042e2e>\u001b[0m in \u001b[0;36m<module>\u001b[0;34m()\u001b[0m\n\u001b[0;32m----> 1\u001b[0;31m \u001b[0mpredict\u001b[0m \u001b[0;34m=\u001b[0m \u001b[0mdf_movie\u001b[0m\u001b[0;34m[\u001b[0m\u001b[0;34m'IMDb'\u001b[0m\u001b[0;34m]\u001b[0m\u001b[0;34m.\u001b[0m\u001b[0mmean\u001b[0m\u001b[0;34m(\u001b[0m\u001b[0;34m)\u001b[0m\u001b[0;34m\u001b[0m\u001b[0;34m\u001b[0m\u001b[0m\n\u001b[0m",
            "\u001b[0;32m/usr/local/lib/python3.7/dist-packages/pandas/core/generic.py\u001b[0m in \u001b[0;36mmean\u001b[0;34m(self, axis, skipna, level, numeric_only, **kwargs)\u001b[0m\n\u001b[1;32m  10749\u001b[0m         )\n\u001b[1;32m  10750\u001b[0m         \u001b[0;32mdef\u001b[0m \u001b[0mmean\u001b[0m\u001b[0;34m(\u001b[0m\u001b[0mself\u001b[0m\u001b[0;34m,\u001b[0m \u001b[0maxis\u001b[0m\u001b[0;34m=\u001b[0m\u001b[0;32mNone\u001b[0m\u001b[0;34m,\u001b[0m \u001b[0mskipna\u001b[0m\u001b[0;34m=\u001b[0m\u001b[0;32mNone\u001b[0m\u001b[0;34m,\u001b[0m \u001b[0mlevel\u001b[0m\u001b[0;34m=\u001b[0m\u001b[0;32mNone\u001b[0m\u001b[0;34m,\u001b[0m \u001b[0mnumeric_only\u001b[0m\u001b[0;34m=\u001b[0m\u001b[0;32mNone\u001b[0m\u001b[0;34m,\u001b[0m \u001b[0;34m**\u001b[0m\u001b[0mkwargs\u001b[0m\u001b[0;34m)\u001b[0m\u001b[0;34m:\u001b[0m\u001b[0;34m\u001b[0m\u001b[0;34m\u001b[0m\u001b[0m\n\u001b[0;32m> 10751\u001b[0;31m             \u001b[0;32mreturn\u001b[0m \u001b[0mNDFrame\u001b[0m\u001b[0;34m.\u001b[0m\u001b[0mmean\u001b[0m\u001b[0;34m(\u001b[0m\u001b[0mself\u001b[0m\u001b[0;34m,\u001b[0m \u001b[0maxis\u001b[0m\u001b[0;34m,\u001b[0m \u001b[0mskipna\u001b[0m\u001b[0;34m,\u001b[0m \u001b[0mlevel\u001b[0m\u001b[0;34m,\u001b[0m \u001b[0mnumeric_only\u001b[0m\u001b[0;34m,\u001b[0m \u001b[0;34m**\u001b[0m\u001b[0mkwargs\u001b[0m\u001b[0;34m)\u001b[0m\u001b[0;34m\u001b[0m\u001b[0;34m\u001b[0m\u001b[0m\n\u001b[0m\u001b[1;32m  10752\u001b[0m \u001b[0;34m\u001b[0m\u001b[0m\n\u001b[1;32m  10753\u001b[0m         \u001b[0msetattr\u001b[0m\u001b[0;34m(\u001b[0m\u001b[0mcls\u001b[0m\u001b[0;34m,\u001b[0m \u001b[0;34m\"mean\"\u001b[0m\u001b[0;34m,\u001b[0m \u001b[0mmean\u001b[0m\u001b[0;34m)\u001b[0m\u001b[0;34m\u001b[0m\u001b[0;34m\u001b[0m\u001b[0m\n",
            "\u001b[0;32m/usr/local/lib/python3.7/dist-packages/pandas/core/generic.py\u001b[0m in \u001b[0;36mmean\u001b[0;34m(self, axis, skipna, level, numeric_only, **kwargs)\u001b[0m\n\u001b[1;32m  10368\u001b[0m     \u001b[0;32mdef\u001b[0m \u001b[0mmean\u001b[0m\u001b[0;34m(\u001b[0m\u001b[0mself\u001b[0m\u001b[0;34m,\u001b[0m \u001b[0maxis\u001b[0m\u001b[0;34m=\u001b[0m\u001b[0;32mNone\u001b[0m\u001b[0;34m,\u001b[0m \u001b[0mskipna\u001b[0m\u001b[0;34m=\u001b[0m\u001b[0;32mNone\u001b[0m\u001b[0;34m,\u001b[0m \u001b[0mlevel\u001b[0m\u001b[0;34m=\u001b[0m\u001b[0;32mNone\u001b[0m\u001b[0;34m,\u001b[0m \u001b[0mnumeric_only\u001b[0m\u001b[0;34m=\u001b[0m\u001b[0;32mNone\u001b[0m\u001b[0;34m,\u001b[0m \u001b[0;34m**\u001b[0m\u001b[0mkwargs\u001b[0m\u001b[0;34m)\u001b[0m\u001b[0;34m:\u001b[0m\u001b[0;34m\u001b[0m\u001b[0;34m\u001b[0m\u001b[0m\n\u001b[1;32m  10369\u001b[0m         return self._stat_function(\n\u001b[0;32m> 10370\u001b[0;31m             \u001b[0;34m\"mean\"\u001b[0m\u001b[0;34m,\u001b[0m \u001b[0mnanops\u001b[0m\u001b[0;34m.\u001b[0m\u001b[0mnanmean\u001b[0m\u001b[0;34m,\u001b[0m \u001b[0maxis\u001b[0m\u001b[0;34m,\u001b[0m \u001b[0mskipna\u001b[0m\u001b[0;34m,\u001b[0m \u001b[0mlevel\u001b[0m\u001b[0;34m,\u001b[0m \u001b[0mnumeric_only\u001b[0m\u001b[0;34m,\u001b[0m \u001b[0;34m**\u001b[0m\u001b[0mkwargs\u001b[0m\u001b[0;34m\u001b[0m\u001b[0;34m\u001b[0m\u001b[0m\n\u001b[0m\u001b[1;32m  10371\u001b[0m         )\n\u001b[1;32m  10372\u001b[0m \u001b[0;34m\u001b[0m\u001b[0m\n",
            "\u001b[0;32m/usr/local/lib/python3.7/dist-packages/pandas/core/generic.py\u001b[0m in \u001b[0;36m_stat_function\u001b[0;34m(self, name, func, axis, skipna, level, numeric_only, **kwargs)\u001b[0m\n\u001b[1;32m  10353\u001b[0m             )\n\u001b[1;32m  10354\u001b[0m         return self._reduce(\n\u001b[0;32m> 10355\u001b[0;31m             \u001b[0mfunc\u001b[0m\u001b[0;34m,\u001b[0m \u001b[0mname\u001b[0m\u001b[0;34m=\u001b[0m\u001b[0mname\u001b[0m\u001b[0;34m,\u001b[0m \u001b[0maxis\u001b[0m\u001b[0;34m=\u001b[0m\u001b[0maxis\u001b[0m\u001b[0;34m,\u001b[0m \u001b[0mskipna\u001b[0m\u001b[0;34m=\u001b[0m\u001b[0mskipna\u001b[0m\u001b[0;34m,\u001b[0m \u001b[0mnumeric_only\u001b[0m\u001b[0;34m=\u001b[0m\u001b[0mnumeric_only\u001b[0m\u001b[0;34m\u001b[0m\u001b[0;34m\u001b[0m\u001b[0m\n\u001b[0m\u001b[1;32m  10356\u001b[0m         )\n\u001b[1;32m  10357\u001b[0m \u001b[0;34m\u001b[0m\u001b[0m\n",
            "\u001b[0;32m/usr/local/lib/python3.7/dist-packages/pandas/core/series.py\u001b[0m in \u001b[0;36m_reduce\u001b[0;34m(self, op, name, axis, skipna, numeric_only, filter_type, **kwds)\u001b[0m\n\u001b[1;32m   4390\u001b[0m                 )\n\u001b[1;32m   4391\u001b[0m             \u001b[0;32mwith\u001b[0m \u001b[0mnp\u001b[0m\u001b[0;34m.\u001b[0m\u001b[0merrstate\u001b[0m\u001b[0;34m(\u001b[0m\u001b[0mall\u001b[0m\u001b[0;34m=\u001b[0m\u001b[0;34m\"ignore\"\u001b[0m\u001b[0;34m)\u001b[0m\u001b[0;34m:\u001b[0m\u001b[0;34m\u001b[0m\u001b[0;34m\u001b[0m\u001b[0m\n\u001b[0;32m-> 4392\u001b[0;31m                 \u001b[0;32mreturn\u001b[0m \u001b[0mop\u001b[0m\u001b[0;34m(\u001b[0m\u001b[0mdelegate\u001b[0m\u001b[0;34m,\u001b[0m \u001b[0mskipna\u001b[0m\u001b[0;34m=\u001b[0m\u001b[0mskipna\u001b[0m\u001b[0;34m,\u001b[0m \u001b[0;34m**\u001b[0m\u001b[0mkwds\u001b[0m\u001b[0;34m)\u001b[0m\u001b[0;34m\u001b[0m\u001b[0;34m\u001b[0m\u001b[0m\n\u001b[0m\u001b[1;32m   4393\u001b[0m \u001b[0;34m\u001b[0m\u001b[0m\n\u001b[1;32m   4394\u001b[0m     def _reindex_indexer(\n",
            "\u001b[0;32m/usr/local/lib/python3.7/dist-packages/pandas/core/nanops.py\u001b[0m in \u001b[0;36m_f\u001b[0;34m(*args, **kwargs)\u001b[0m\n\u001b[1;32m     92\u001b[0m             \u001b[0;32mtry\u001b[0m\u001b[0;34m:\u001b[0m\u001b[0;34m\u001b[0m\u001b[0;34m\u001b[0m\u001b[0m\n\u001b[1;32m     93\u001b[0m                 \u001b[0;32mwith\u001b[0m \u001b[0mnp\u001b[0m\u001b[0;34m.\u001b[0m\u001b[0merrstate\u001b[0m\u001b[0;34m(\u001b[0m\u001b[0minvalid\u001b[0m\u001b[0;34m=\u001b[0m\u001b[0;34m\"ignore\"\u001b[0m\u001b[0;34m)\u001b[0m\u001b[0;34m:\u001b[0m\u001b[0;34m\u001b[0m\u001b[0;34m\u001b[0m\u001b[0m\n\u001b[0;32m---> 94\u001b[0;31m                     \u001b[0;32mreturn\u001b[0m \u001b[0mf\u001b[0m\u001b[0;34m(\u001b[0m\u001b[0;34m*\u001b[0m\u001b[0margs\u001b[0m\u001b[0;34m,\u001b[0m \u001b[0;34m**\u001b[0m\u001b[0mkwargs\u001b[0m\u001b[0;34m)\u001b[0m\u001b[0;34m\u001b[0m\u001b[0;34m\u001b[0m\u001b[0m\n\u001b[0m\u001b[1;32m     95\u001b[0m             \u001b[0;32mexcept\u001b[0m \u001b[0mValueError\u001b[0m \u001b[0;32mas\u001b[0m \u001b[0me\u001b[0m\u001b[0;34m:\u001b[0m\u001b[0;34m\u001b[0m\u001b[0;34m\u001b[0m\u001b[0m\n\u001b[1;32m     96\u001b[0m                 \u001b[0;31m# we want to transform an object array\u001b[0m\u001b[0;34m\u001b[0m\u001b[0;34m\u001b[0m\u001b[0;34m\u001b[0m\u001b[0m\n",
            "\u001b[0;32m/usr/local/lib/python3.7/dist-packages/pandas/core/nanops.py\u001b[0m in \u001b[0;36mf\u001b[0;34m(values, axis, skipna, **kwds)\u001b[0m\n\u001b[1;32m    154\u001b[0m                     \u001b[0mresult\u001b[0m \u001b[0;34m=\u001b[0m \u001b[0malt\u001b[0m\u001b[0;34m(\u001b[0m\u001b[0mvalues\u001b[0m\u001b[0;34m,\u001b[0m \u001b[0maxis\u001b[0m\u001b[0;34m=\u001b[0m\u001b[0maxis\u001b[0m\u001b[0;34m,\u001b[0m \u001b[0mskipna\u001b[0m\u001b[0;34m=\u001b[0m\u001b[0mskipna\u001b[0m\u001b[0;34m,\u001b[0m \u001b[0;34m**\u001b[0m\u001b[0mkwds\u001b[0m\u001b[0;34m)\u001b[0m\u001b[0;34m\u001b[0m\u001b[0;34m\u001b[0m\u001b[0m\n\u001b[1;32m    155\u001b[0m             \u001b[0;32melse\u001b[0m\u001b[0;34m:\u001b[0m\u001b[0;34m\u001b[0m\u001b[0;34m\u001b[0m\u001b[0m\n\u001b[0;32m--> 156\u001b[0;31m                 \u001b[0mresult\u001b[0m \u001b[0;34m=\u001b[0m \u001b[0malt\u001b[0m\u001b[0;34m(\u001b[0m\u001b[0mvalues\u001b[0m\u001b[0;34m,\u001b[0m \u001b[0maxis\u001b[0m\u001b[0;34m=\u001b[0m\u001b[0maxis\u001b[0m\u001b[0;34m,\u001b[0m \u001b[0mskipna\u001b[0m\u001b[0;34m=\u001b[0m\u001b[0mskipna\u001b[0m\u001b[0;34m,\u001b[0m \u001b[0;34m**\u001b[0m\u001b[0mkwds\u001b[0m\u001b[0;34m)\u001b[0m\u001b[0;34m\u001b[0m\u001b[0;34m\u001b[0m\u001b[0m\n\u001b[0m\u001b[1;32m    157\u001b[0m \u001b[0;34m\u001b[0m\u001b[0m\n\u001b[1;32m    158\u001b[0m             \u001b[0;32mreturn\u001b[0m \u001b[0mresult\u001b[0m\u001b[0;34m\u001b[0m\u001b[0;34m\u001b[0m\u001b[0m\n",
            "\u001b[0;32m/usr/local/lib/python3.7/dist-packages/pandas/core/nanops.py\u001b[0m in \u001b[0;36mnew_func\u001b[0;34m(values, axis, skipna, mask, **kwargs)\u001b[0m\n\u001b[1;32m    409\u001b[0m             \u001b[0mmask\u001b[0m \u001b[0;34m=\u001b[0m \u001b[0misna\u001b[0m\u001b[0;34m(\u001b[0m\u001b[0mvalues\u001b[0m\u001b[0;34m)\u001b[0m\u001b[0;34m\u001b[0m\u001b[0;34m\u001b[0m\u001b[0m\n\u001b[1;32m    410\u001b[0m \u001b[0;34m\u001b[0m\u001b[0m\n\u001b[0;32m--> 411\u001b[0;31m         \u001b[0mresult\u001b[0m \u001b[0;34m=\u001b[0m \u001b[0mfunc\u001b[0m\u001b[0;34m(\u001b[0m\u001b[0mvalues\u001b[0m\u001b[0;34m,\u001b[0m \u001b[0maxis\u001b[0m\u001b[0;34m=\u001b[0m\u001b[0maxis\u001b[0m\u001b[0;34m,\u001b[0m \u001b[0mskipna\u001b[0m\u001b[0;34m=\u001b[0m\u001b[0mskipna\u001b[0m\u001b[0;34m,\u001b[0m \u001b[0mmask\u001b[0m\u001b[0;34m=\u001b[0m\u001b[0mmask\u001b[0m\u001b[0;34m,\u001b[0m \u001b[0;34m**\u001b[0m\u001b[0mkwargs\u001b[0m\u001b[0;34m)\u001b[0m\u001b[0;34m\u001b[0m\u001b[0;34m\u001b[0m\u001b[0m\n\u001b[0m\u001b[1;32m    412\u001b[0m \u001b[0;34m\u001b[0m\u001b[0m\n\u001b[1;32m    413\u001b[0m         \u001b[0;32mif\u001b[0m \u001b[0mdatetimelike\u001b[0m\u001b[0;34m:\u001b[0m\u001b[0;34m\u001b[0m\u001b[0;34m\u001b[0m\u001b[0m\n",
            "\u001b[0;32m/usr/local/lib/python3.7/dist-packages/pandas/core/nanops.py\u001b[0m in \u001b[0;36mnanmean\u001b[0;34m(values, axis, skipna, mask)\u001b[0m\n\u001b[1;32m    664\u001b[0m \u001b[0;34m\u001b[0m\u001b[0m\n\u001b[1;32m    665\u001b[0m     \u001b[0mcount\u001b[0m \u001b[0;34m=\u001b[0m \u001b[0m_get_counts\u001b[0m\u001b[0;34m(\u001b[0m\u001b[0mvalues\u001b[0m\u001b[0;34m.\u001b[0m\u001b[0mshape\u001b[0m\u001b[0;34m,\u001b[0m \u001b[0mmask\u001b[0m\u001b[0;34m,\u001b[0m \u001b[0maxis\u001b[0m\u001b[0;34m,\u001b[0m \u001b[0mdtype\u001b[0m\u001b[0;34m=\u001b[0m\u001b[0mdtype_count\u001b[0m\u001b[0;34m)\u001b[0m\u001b[0;34m\u001b[0m\u001b[0;34m\u001b[0m\u001b[0m\n\u001b[0;32m--> 666\u001b[0;31m     \u001b[0mthe_sum\u001b[0m \u001b[0;34m=\u001b[0m \u001b[0m_ensure_numeric\u001b[0m\u001b[0;34m(\u001b[0m\u001b[0mvalues\u001b[0m\u001b[0;34m.\u001b[0m\u001b[0msum\u001b[0m\u001b[0;34m(\u001b[0m\u001b[0maxis\u001b[0m\u001b[0;34m,\u001b[0m \u001b[0mdtype\u001b[0m\u001b[0;34m=\u001b[0m\u001b[0mdtype_sum\u001b[0m\u001b[0;34m)\u001b[0m\u001b[0;34m)\u001b[0m\u001b[0;34m\u001b[0m\u001b[0;34m\u001b[0m\u001b[0m\n\u001b[0m\u001b[1;32m    667\u001b[0m \u001b[0;34m\u001b[0m\u001b[0m\n\u001b[1;32m    668\u001b[0m     \u001b[0;32mif\u001b[0m \u001b[0maxis\u001b[0m \u001b[0;32mis\u001b[0m \u001b[0;32mnot\u001b[0m \u001b[0;32mNone\u001b[0m \u001b[0;32mand\u001b[0m \u001b[0mgetattr\u001b[0m\u001b[0;34m(\u001b[0m\u001b[0mthe_sum\u001b[0m\u001b[0;34m,\u001b[0m \u001b[0;34m\"ndim\"\u001b[0m\u001b[0;34m,\u001b[0m \u001b[0;32mFalse\u001b[0m\u001b[0;34m)\u001b[0m\u001b[0;34m:\u001b[0m\u001b[0;34m\u001b[0m\u001b[0;34m\u001b[0m\u001b[0m\n",
            "\u001b[0;32m/usr/local/lib/python3.7/dist-packages/pandas/core/nanops.py\u001b[0m in \u001b[0;36m_ensure_numeric\u001b[0;34m(x)\u001b[0m\n\u001b[1;32m   1608\u001b[0m             \u001b[0;32mexcept\u001b[0m \u001b[0mValueError\u001b[0m \u001b[0;32mas\u001b[0m \u001b[0merr\u001b[0m\u001b[0;34m:\u001b[0m\u001b[0;34m\u001b[0m\u001b[0;34m\u001b[0m\u001b[0m\n\u001b[1;32m   1609\u001b[0m                 \u001b[0;31m# e.g. \"foo\"\u001b[0m\u001b[0;34m\u001b[0m\u001b[0;34m\u001b[0m\u001b[0;34m\u001b[0m\u001b[0m\n\u001b[0;32m-> 1610\u001b[0;31m                 \u001b[0;32mraise\u001b[0m \u001b[0mTypeError\u001b[0m\u001b[0;34m(\u001b[0m\u001b[0;34mf\"Could not convert {x} to numeric\"\u001b[0m\u001b[0;34m)\u001b[0m \u001b[0;32mfrom\u001b[0m \u001b[0merr\u001b[0m\u001b[0;34m\u001b[0m\u001b[0;34m\u001b[0m\u001b[0m\n\u001b[0m\u001b[1;32m   1611\u001b[0m     \u001b[0;32mreturn\u001b[0m \u001b[0mx\u001b[0m\u001b[0;34m\u001b[0m\u001b[0;34m\u001b[0m\u001b[0m\n\u001b[1;32m   1612\u001b[0m \u001b[0;34m\u001b[0m\u001b[0m\n",
            "\u001b[0;31mTypeError\u001b[0m: Could not convert 7.88.49.08.17.77.17.67.37.37.88.27.77.37.48.27.27.48.28.58.27.28.06.77.68.58.48.57.68.46.97.67.17.37.16.57.68.26.88.58.28.08.37.76.78.57.46.58.47.47.97.08.17.97.46.68.58.47.56.88.36.97.87.57.57.58.17.98.27.36.98.07.88.17.66.57.76.28.58.28.17.77.08.27.87.06.87.76.47.67.86.37.26.38.08.36.37.17.26.87.67.77.56.67.57.98.17.87.67.67.68.18.27.97.78.56.87.47.57.68.16.97.87.27.47.67.45.97.47.96.27.27.28.06.77.47.77.97.58.87.17.16.77.37.47.57.38.18.07.87.57.47.37.28.37.47.67.46.77.67.66.67.67.46.67.87.16.47.97.66.47.97.37.07.57.67.18.07.47.27.08.26.77.37.37.07.15.67.37.67.25.67.57.07.78.28.27.37.77.76.67.57.17.67.07.27.17.47.37.77.07.46.87.16.77.26.27.47.57.66.57.36.47.26.67.27.37.77.16.57.47.16.68.17.47.38.28.47.37.27.17.66.28.17.36.97.56.97.06.76.96.36.86.08.16.87.56.68.25.86.67.56.56.77.66.07.26.67.27.57.27.07.56.56.67.17.17.87.27.56.86.16.37.37.77.86.76.87.16.36.97.16.47.56.77.18.27.16.57.37.06.46.56.86.66.65.86.87.96.87.16.88.36.47.17.27.27.25.86.37.67.76.46.37.27.17.56.66.57.06.57.16.66.76.66.26.86.97.07.16.56.87.75.86.56.46.98.46.96.76.56.17.57.46.66.26.06.66.28.17.27.18.06.26.57.26.85.85.86.76.76.97.16.26.36.87.37.76.25.96.45.26.56.97.06.16.86.16.06.77.96.66.76.57.36.96.86.97.36.77.56.47.36.77.16.36.26.76.46.26.26.66.76.76.46.96.46.26.16.86.48.05.86.18.26.56.27.27.67.56.96.86.36.78.26.96.46.45.86.58.26.46.35.66.66.77.46.05.86.76.16.46.66.08.16.67.16.75.56.56.56.36.17.06.56.35.36.28.47.65.76.55.36.35.86.47.27.28.26.47.47.06.06.87.17.56...."
          ]
        }
      ]
    },
    {
      "cell_type": "code",
      "source": [
        ""
      ],
      "metadata": {
        "id": "xKDoPku4xD8e"
      },
      "execution_count": null,
      "outputs": []
    }
  ]
}